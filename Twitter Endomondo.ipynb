{
 "cells": [
  {
   "cell_type": "markdown",
   "metadata": {},
   "source": [
    "Collect  tweets  published  via  Endomondo  by  people  from  3-4  major  cities  in Poland.   Check  if  there  are  some  differences  in  types  of  activities  between them.  Visualize the activity areas on a map."
   ]
  },
  {
   "cell_type": "code",
   "execution_count": 1,
   "metadata": {},
   "outputs": [],
   "source": [
    "import json  # For reading configuartion file\n",
    "import tweepy  # For connecting to tweeter API\n",
    "import pprint  # For pretty printing results"
   ]
  },
  {
   "cell_type": "code",
   "execution_count": 2,
   "metadata": {},
   "outputs": [],
   "source": [
    "pp = pprint.PrettyPrinter()"
   ]
  },
  {
   "cell_type": "code",
   "execution_count": 3,
   "metadata": {},
   "outputs": [],
   "source": [
    "# Getting the authentication keys and tokens\n",
    "with open('twitter_config.json', mode='r') as file:\n",
    "    config = json.load(file)"
   ]
  },
  {
   "cell_type": "code",
   "execution_count": 5,
   "metadata": {},
   "outputs": [],
   "source": [
    "# Authenticating to Twitter\n",
    "auth = tweepy.OAuthHandler(config['consumerKey'], config['consumerSecret'])\n",
    "auth.set_access_token(config['accessToken'], config['accessTokenSecret'])"
   ]
  },
  {
   "cell_type": "code",
   "execution_count": 6,
   "metadata": {},
   "outputs": [
    {
     "data": {
      "text/plain": [
       "User(_api=<tweepy.api.API object at 0x000002B081872E48>, _json={'id': 1197223796102578177, 'id_str': '1197223796102578177', 'name': 'Kajetan', 'screen_name': 'Kajetan24191735', 'location': '', 'description': '', 'url': None, 'entities': {'description': {'urls': []}}, 'protected': False, 'followers_count': 0, 'friends_count': 0, 'listed_count': 0, 'created_at': 'Wed Nov 20 18:43:29 +0000 2019', 'favourites_count': 0, 'utc_offset': None, 'time_zone': None, 'geo_enabled': False, 'verified': False, 'statuses_count': 1, 'lang': None, 'status': {'created_at': 'Wed Nov 20 22:31:21 +0000 2019', 'id': 1197281302317293569, 'id_str': '1197281302317293569', 'text': 'Hello Twitter from python program', 'truncated': False, 'entities': {'hashtags': [], 'symbols': [], 'user_mentions': [], 'urls': []}, 'source': '<a href=\"https://www.twitter.com\" rel=\"nofollow\">poland-cities-endomondo-analysis</a>', 'in_reply_to_status_id': None, 'in_reply_to_status_id_str': None, 'in_reply_to_user_id': None, 'in_reply_to_user_id_str': None, 'in_reply_to_screen_name': None, 'geo': None, 'coordinates': None, 'place': None, 'contributors': None, 'is_quote_status': False, 'retweet_count': 0, 'favorite_count': 0, 'favorited': False, 'retweeted': False, 'lang': 'en'}, 'contributors_enabled': False, 'is_translator': False, 'is_translation_enabled': False, 'profile_background_color': 'F5F8FA', 'profile_background_image_url': None, 'profile_background_image_url_https': None, 'profile_background_tile': False, 'profile_image_url': 'http://abs.twimg.com/sticky/default_profile_images/default_profile_normal.png', 'profile_image_url_https': 'https://abs.twimg.com/sticky/default_profile_images/default_profile_normal.png', 'profile_link_color': '1DA1F2', 'profile_sidebar_border_color': 'C0DEED', 'profile_sidebar_fill_color': 'DDEEF6', 'profile_text_color': '333333', 'profile_use_background_image': True, 'has_extended_profile': False, 'default_profile': True, 'default_profile_image': True, 'can_media_tag': True, 'followed_by': False, 'following': False, 'follow_request_sent': False, 'notifications': False, 'translator_type': 'none', 'suspended': False, 'needs_phone_verification': False}, id=1197223796102578177, id_str='1197223796102578177', name='Kajetan', screen_name='Kajetan24191735', location='', description='', url=None, entities={'description': {'urls': []}}, protected=False, followers_count=0, friends_count=0, listed_count=0, created_at=datetime.datetime(2019, 11, 20, 18, 43, 29), favourites_count=0, utc_offset=None, time_zone=None, geo_enabled=False, verified=False, statuses_count=1, lang=None, status=Status(_api=<tweepy.api.API object at 0x000002B081872E48>, _json={'created_at': 'Wed Nov 20 22:31:21 +0000 2019', 'id': 1197281302317293569, 'id_str': '1197281302317293569', 'text': 'Hello Twitter from python program', 'truncated': False, 'entities': {'hashtags': [], 'symbols': [], 'user_mentions': [], 'urls': []}, 'source': '<a href=\"https://www.twitter.com\" rel=\"nofollow\">poland-cities-endomondo-analysis</a>', 'in_reply_to_status_id': None, 'in_reply_to_status_id_str': None, 'in_reply_to_user_id': None, 'in_reply_to_user_id_str': None, 'in_reply_to_screen_name': None, 'geo': None, 'coordinates': None, 'place': None, 'contributors': None, 'is_quote_status': False, 'retweet_count': 0, 'favorite_count': 0, 'favorited': False, 'retweeted': False, 'lang': 'en'}, created_at=datetime.datetime(2019, 11, 20, 22, 31, 21), id=1197281302317293569, id_str='1197281302317293569', text='Hello Twitter from python program', truncated=False, entities={'hashtags': [], 'symbols': [], 'user_mentions': [], 'urls': []}, source='poland-cities-endomondo-analysis', source_url='https://www.twitter.com', in_reply_to_status_id=None, in_reply_to_status_id_str=None, in_reply_to_user_id=None, in_reply_to_user_id_str=None, in_reply_to_screen_name=None, geo=None, coordinates=None, place=None, contributors=None, is_quote_status=False, retweet_count=0, favorite_count=0, favorited=False, retweeted=False, lang='en'), contributors_enabled=False, is_translator=False, is_translation_enabled=False, profile_background_color='F5F8FA', profile_background_image_url=None, profile_background_image_url_https=None, profile_background_tile=False, profile_image_url='http://abs.twimg.com/sticky/default_profile_images/default_profile_normal.png', profile_image_url_https='https://abs.twimg.com/sticky/default_profile_images/default_profile_normal.png', profile_link_color='1DA1F2', profile_sidebar_border_color='C0DEED', profile_sidebar_fill_color='DDEEF6', profile_text_color='333333', profile_use_background_image=True, has_extended_profile=False, default_profile=True, default_profile_image=True, can_media_tag=True, followed_by=False, following=False, follow_request_sent=False, notifications=False, translator_type='none', suspended=False, needs_phone_verification=False)"
      ]
     },
     "execution_count": 6,
     "metadata": {},
     "output_type": "execute_result"
    }
   ],
   "source": [
    "# Creating an API object\n",
    "api = tweepy.API(auth)\n",
    "api.verify_credentials()"
   ]
  },
  {
   "cell_type": "code",
   "execution_count": null,
   "metadata": {
    "scrolled": false
   },
   "outputs": [],
   "source": [
    "for status in tweepy.Cursor(api.user_timeline).items():\n",
    "#     print(status)\n",
    "#     print(f\"Author: {status.author.name}\\nTweet: {status.text}\\n\")\n",
    "    for prop in [_ for _ in dir(status) if not _.startswith('_')]:\n",
    "        print(f\"{prop} = {getattr(status, prop)}\\n\")"
   ]
  },
  {
   "cell_type": "code",
   "execution_count": null,
   "metadata": {},
   "outputs": [],
   "source": [
    "# Creating a tweet!\n",
    "# api.update_status(status='Hello Twitter from python program', \n",
    "#                   lat=51.107885, \n",
    "#                   long=17.038538)"
   ]
  },
  {
   "cell_type": "markdown",
   "metadata": {},
   "source": [
    "# Searching"
   ]
  },
  {
   "cell_type": "markdown",
   "metadata": {},
   "source": [
    "We will define a dictionary with largest Polish cities and their geographic locations (latitude and longitude)."
   ]
  },
  {
   "cell_type": "code",
   "execution_count": 11,
   "metadata": {},
   "outputs": [],
   "source": [
    "LOCATIONS = {\n",
    "    'Warszawa': (52.232222, 21.008333),\n",
    "    'Kraków': (50.061389, 19.938333),\n",
    "    'Łódź': (51.776667, 19.454722),\n",
    "    'Wrocław': (51.11, 17.022222),\n",
    "    'Poznań': (52.408333, 16.934167),\n",
    "    'Gdańsk': (54.3475, 18.645278 ),\n",
    "    'Szczecin': (53.438056, 14.542222 ),\n",
    "    'Bydgoszcz': (53.125, 18.011111 ),\n",
    "    'Lublin': (51.248056, 22.570278 ),\n",
    "    'Białystok': (53.135278, 23.145556 ),\n",
    "}"
   ]
  },
  {
   "cell_type": "code",
   "execution_count": 12,
   "metadata": {},
   "outputs": [],
   "source": [
    "city_data = dict.fromkeys(LOCATIONS)"
   ]
  },
  {
   "cell_type": "code",
   "execution_count": 44,
   "metadata": {},
   "outputs": [],
   "source": [
    "for city, (lat, lon) in LOCATIONS.items():\n",
    "    response = api.search(q='#Endomondo #endorphins', \n",
    "                         geocode=f'{lat},{lon},50km', \n",
    "                         count=150)\n",
    "    city_data[city] = [tweet.text for tweet in response]"
   ]
  },
  {
   "cell_type": "code",
   "execution_count": 48,
   "metadata": {},
   "outputs": [
    {
     "data": {
      "text/plain": [
       "['I just finished cycling 21.28 km in 1h:18m:02s with #Endomondo #endorphins https://t.co/DzFWnYnzxN',\n",
       " 'I just finished cycling 21.76 km in 1h:26m:31s with #Endomondo #endorphins https://t.co/9ROE43E6yH',\n",
       " 'I just finished cycling 31.02 km in 1h:51m:33s with #Endomondo #endorphins https://t.co/SEhwjSwoTl']"
      ]
     },
     "execution_count": 48,
     "metadata": {},
     "output_type": "execute_result"
    }
   ],
   "source": [
    "city_data['Białystok']"
   ]
  },
  {
   "cell_type": "code",
   "execution_count": 47,
   "metadata": {},
   "outputs": [
    {
     "data": {
      "text/plain": [
       "{'Warszawa': 36,\n",
       " 'Kraków': 7,\n",
       " 'Łódź': 12,\n",
       " 'Wrocław': 19,\n",
       " 'Poznań': 19,\n",
       " 'Gdańsk': 14,\n",
       " 'Szczecin': 2,\n",
       " 'Bydgoszcz': 1,\n",
       " 'Lublin': 4,\n",
       " 'Białystok': 3}"
      ]
     },
     "execution_count": 47,
     "metadata": {},
     "output_type": "execute_result"
    }
   ],
   "source": [
    "{k: len(v) for k, v in city_data.items()}"
   ]
  },
  {
   "cell_type": "code",
   "execution_count": 40,
   "metadata": {},
   "outputs": [
    {
     "data": {
      "text/plain": [
       "100"
      ]
     },
     "execution_count": 40,
     "metadata": {},
     "output_type": "execute_result"
    }
   ],
   "source": [
    "len([_.text for _ in api.search(q='#Endomondo', count=150)])"
   ]
  },
  {
   "cell_type": "code",
   "execution_count": 34,
   "metadata": {},
   "outputs": [],
   "source": [
    "response = api.search(q='Endomondo',\n",
    "                      geocode='51.107885,17.038538,50km',\n",
    "#                       lang='pl',\n",
    "#                       count=150\n",
    "                     )"
   ]
  },
  {
   "cell_type": "code",
   "execution_count": null,
   "metadata": {},
   "outputs": [],
   "source": [
    "dir(response[5].user)"
   ]
  },
  {
   "cell_type": "code",
   "execution_count": 28,
   "metadata": {},
   "outputs": [
    {
     "data": {
      "text/plain": [
       "'I was out cycling 25.27 km with #Endomondo #endorphins https://t.co/D2QRJpiGij'"
      ]
     },
     "execution_count": 28,
     "metadata": {},
     "output_type": "execute_result"
    }
   ],
   "source": [
    "response[0].text"
   ]
  },
  {
   "cell_type": "code",
   "execution_count": 29,
   "metadata": {},
   "outputs": [
    {
     "data": {
      "text/plain": [
       "['__class__',\n",
       " '__delattr__',\n",
       " '__dict__',\n",
       " '__dir__',\n",
       " '__doc__',\n",
       " '__eq__',\n",
       " '__format__',\n",
       " '__ge__',\n",
       " '__getattribute__',\n",
       " '__getstate__',\n",
       " '__gt__',\n",
       " '__hash__',\n",
       " '__init__',\n",
       " '__init_subclass__',\n",
       " '__le__',\n",
       " '__lt__',\n",
       " '__module__',\n",
       " '__ne__',\n",
       " '__new__',\n",
       " '__reduce__',\n",
       " '__reduce_ex__',\n",
       " '__repr__',\n",
       " '__setattr__',\n",
       " '__sizeof__',\n",
       " '__str__',\n",
       " '__subclasshook__',\n",
       " '__weakref__',\n",
       " '_api',\n",
       " '_json',\n",
       " 'contributors_enabled',\n",
       " 'created_at',\n",
       " 'default_profile',\n",
       " 'default_profile_image',\n",
       " 'description',\n",
       " 'entities',\n",
       " 'favourites_count',\n",
       " 'follow',\n",
       " 'follow_request_sent',\n",
       " 'followers',\n",
       " 'followers_count',\n",
       " 'followers_ids',\n",
       " 'following',\n",
       " 'friends',\n",
       " 'friends_count',\n",
       " 'geo_enabled',\n",
       " 'has_extended_profile',\n",
       " 'id',\n",
       " 'id_str',\n",
       " 'is_translation_enabled',\n",
       " 'is_translator',\n",
       " 'lang',\n",
       " 'listed_count',\n",
       " 'lists',\n",
       " 'lists_memberships',\n",
       " 'lists_subscriptions',\n",
       " 'location',\n",
       " 'name',\n",
       " 'notifications',\n",
       " 'parse',\n",
       " 'parse_list',\n",
       " 'profile_background_color',\n",
       " 'profile_background_image_url',\n",
       " 'profile_background_image_url_https',\n",
       " 'profile_background_tile',\n",
       " 'profile_banner_url',\n",
       " 'profile_image_url',\n",
       " 'profile_image_url_https',\n",
       " 'profile_link_color',\n",
       " 'profile_sidebar_border_color',\n",
       " 'profile_sidebar_fill_color',\n",
       " 'profile_text_color',\n",
       " 'profile_use_background_image',\n",
       " 'protected',\n",
       " 'screen_name',\n",
       " 'statuses_count',\n",
       " 'time_zone',\n",
       " 'timeline',\n",
       " 'translator_type',\n",
       " 'unfollow',\n",
       " 'url',\n",
       " 'utc_offset',\n",
       " 'verified']"
      ]
     },
     "execution_count": 29,
     "metadata": {},
     "output_type": "execute_result"
    }
   ],
   "source": [
    "dir(response[0].user)"
   ]
  },
  {
   "cell_type": "code",
   "execution_count": 35,
   "metadata": {},
   "outputs": [
    {
     "name": "stdout",
     "output_type": "stream",
     "text": [
      "'I was out cycling 25.27 km with #Endomondo #endorphins https://t.co/D2QRJpiGij'\n",
      "'I was out cycling 7.39 km with #Endomondo #endorphins https://t.co/aJq4QRoJz4'\n",
      "'I was out cycling 6.97 km with #Endomondo #endorphins https://t.co/PdMCM4QdgC'\n",
      "('I just finished cycling 32.60 km in 1h:33m:11s with #Endomondo #endorphins '\n",
      " 'https://t.co/wn3XFD9Fha')\n",
      "'I was out running 8.04 km with #Endomondo #endorphins https://t.co/d05y7CjasQ'\n",
      "('I just finished cycling 15.56 km in 44m:39s with #Endomondo #endorphins '\n",
      " 'https://t.co/TJsnx1cD6j')\n",
      "'I was out cycling 6.74 km with #Endomondo #endorphins https://t.co/AHWipe9ehR'\n",
      "('I just finished cycling 18.85 km in 50m:51s with #Endomondo #endorphins '\n",
      " 'https://t.co/8qdLB7kT9p')\n",
      "('I just finished cycling 14.83 km in 44m:46s with #Endomondo #endorphins '\n",
      " 'https://t.co/MnYILTb189')\n",
      "'I was out cycling 6.99 km with #Endomondo #endorphins https://t.co/hIj7L0Cwdb'\n",
      "('I just finished cycling 13.61 km in 38m:51s with #Endomondo #endorphins '\n",
      " 'https://t.co/PuXU06UJEa')\n",
      "'I was out cycling 6.43 km with #Endomondo #endorphins https://t.co/FLWgwdQCAw'\n",
      "('I just finished cycling 14.84 km in 43m:14s with #Endomondo #endorphins '\n",
      " 'https://t.co/tEb8Fv1MU6')\n",
      "('My fitness activities in November #Endomondo #endorphins '\n",
      " 'https://t.co/XSs8lAywBG')\n"
     ]
    }
   ],
   "source": [
    "for record in response:\n",
    "    pp.pprint(record.text)"
   ]
  },
  {
   "cell_type": "markdown",
   "metadata": {},
   "source": [
    "# Streaming"
   ]
  },
  {
   "cell_type": "code",
   "execution_count": null,
   "metadata": {},
   "outputs": [],
   "source": [
    "class MyStreamListener(tweepy.StreamListener):\n",
    "    def on_status(self, status):\n",
    "        print(status.coordinates)\n",
    "        print(status.text)\n",
    "        print()"
   ]
  },
  {
   "cell_type": "code",
   "execution_count": null,
   "metadata": {},
   "outputs": [],
   "source": [
    "my_stream_listener = MyStreamListener()\n",
    "my_stream = tweepy.Stream(auth=api.auth, listener=my_stream_listener)"
   ]
  },
  {
   "cell_type": "code",
   "execution_count": null,
   "metadata": {},
   "outputs": [],
   "source": [
    "my"
   ]
  },
  {
   "cell_type": "code",
   "execution_count": null,
   "metadata": {
    "scrolled": true
   },
   "outputs": [],
   "source": [
    "my_stream.filter(track=['#Endomondo'])"
   ]
  },
  {
   "cell_type": "markdown",
   "metadata": {},
   "source": [
    "## Searching"
   ]
  },
  {
   "cell_type": "code",
   "execution_count": null,
   "metadata": {},
   "outputs": [],
   "source": [
    "results = api.search(q='#Endomondo', count=20)"
   ]
  },
  {
   "cell_type": "code",
   "execution_count": null,
   "metadata": {
    "scrolled": true
   },
   "outputs": [],
   "source": [
    "for result in results:\n",
    "    print(result.text)"
   ]
  }
 ],
 "metadata": {
  "kernelspec": {
   "display_name": "Python 3",
   "language": "python",
   "name": "python3"
  },
  "language_info": {
   "codemirror_mode": {
    "name": "ipython",
    "version": 3
   },
   "file_extension": ".py",
   "mimetype": "text/x-python",
   "name": "python",
   "nbconvert_exporter": "python",
   "pygments_lexer": "ipython3",
   "version": "3.7.3"
  }
 },
 "nbformat": 4,
 "nbformat_minor": 2
}
