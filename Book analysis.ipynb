{
 "cells": [
  {
   "cell_type": "markdown",
   "metadata": {},
   "source": [
    "*Download the novel \"Around the world in 80 days\" by J. Verne from Project Gutenberg webstie. Find all cities visited by Phileas Fogg, the protagonist of the novel. Draw the path of his journey on a world map.*"
   ]
  },
  {
   "cell_type": "markdown",
   "metadata": {},
   "source": [
    "Links:\n",
    "1. https://nbviewer.jupyter.org/github/python-visualization/folium/blob/master/examples/PolyLineTextPath_AntPath.ipynb\n",
    "2. https://python-visualization.github.io/folium/quickstart.html\n",
    "3. https://geocoder.readthedocs.io/api.html#installation\n",
    "4. https://pypi.org/project/geotext/"
   ]
  },
  {
   "cell_type": "markdown",
   "metadata": {},
   "source": [
    "# Getting the book"
   ]
  },
  {
   "cell_type": "markdown",
   "metadata": {},
   "source": [
    "Obtaining the text of the books is as easy as going to the Project Gutenberg website, searching the title and downloading the text file."
   ]
  },
  {
   "cell_type": "code",
   "execution_count": 1,
   "metadata": {},
   "outputs": [],
   "source": [
    "DATA_PATH = r'data/around_the_world_in_eighty_days.txt'"
   ]
  },
  {
   "cell_type": "markdown",
   "metadata": {},
   "source": [
    "# Getting list of the cities"
   ]
  },
  {
   "cell_type": "markdown",
   "metadata": {},
   "source": [
    "To see what words describe cities we will compare each word to a list of cities and keep those that match."
   ]
  },
  {
   "cell_type": "markdown",
   "metadata": {},
   "source": [
    "We will use the [Geonames](http://www.geonames.org/) database for list of all cities."
   ]
  },
  {
   "cell_type": "code",
   "execution_count": 19,
   "metadata": {},
   "outputs": [],
   "source": [
    "import pandas as pd"
   ]
  },
  {
   "cell_type": "code",
   "execution_count": 20,
   "metadata": {},
   "outputs": [],
   "source": [
    "cities500 = pd.read_csv('data/cities500.txt', \n",
    "                        sep='\\t', \n",
    "                        header=None, \n",
    "                        engine='python', \n",
    "                        encoding='utf-8')"
   ]
  },
  {
   "cell_type": "markdown",
   "metadata": {},
   "source": [
    "Unfortunately we have to set the column names manually "
   ]
  },
  {
   "cell_type": "code",
   "execution_count": 21,
   "metadata": {},
   "outputs": [],
   "source": [
    "col_names = [\n",
    "    'geonameid',\n",
    "    'name',\n",
    "    'asciiname',\n",
    "    'alternatenames',\n",
    "    'latitude',\n",
    "    'longitude',\n",
    "    'feature class',\n",
    "    'feature code',\n",
    "    'country code',\n",
    "    'cc2',\n",
    "    'admin1 code',\n",
    "    'admin2 code',\n",
    "    'admin3 code',\n",
    "    'admin 4 code',\n",
    "    'population',\n",
    "    'elevation',\n",
    "    'dem',\n",
    "    'timezone',\n",
    "    'modification date'\n",
    "]"
   ]
  },
  {
   "cell_type": "code",
   "execution_count": 22,
   "metadata": {},
   "outputs": [],
   "source": [
    "cities500.columns = col_names"
   ]
  },
  {
   "cell_type": "markdown",
   "metadata": {},
   "source": [
    "Now we can investigate how the data frame looks like"
   ]
  },
  {
   "cell_type": "code",
   "execution_count": 23,
   "metadata": {
    "scrolled": false
   },
   "outputs": [
    {
     "data": {
      "text/html": [
       "<div>\n",
       "<style scoped>\n",
       "    .dataframe tbody tr th:only-of-type {\n",
       "        vertical-align: middle;\n",
       "    }\n",
       "\n",
       "    .dataframe tbody tr th {\n",
       "        vertical-align: top;\n",
       "    }\n",
       "\n",
       "    .dataframe thead th {\n",
       "        text-align: right;\n",
       "    }\n",
       "</style>\n",
       "<table border=\"1\" class=\"dataframe\">\n",
       "  <thead>\n",
       "    <tr style=\"text-align: right;\">\n",
       "      <th></th>\n",
       "      <th>geonameid</th>\n",
       "      <th>name</th>\n",
       "      <th>asciiname</th>\n",
       "      <th>alternatenames</th>\n",
       "      <th>latitude</th>\n",
       "      <th>longitude</th>\n",
       "      <th>feature class</th>\n",
       "      <th>feature code</th>\n",
       "      <th>country code</th>\n",
       "      <th>cc2</th>\n",
       "      <th>admin1 code</th>\n",
       "      <th>admin2 code</th>\n",
       "      <th>admin3 code</th>\n",
       "      <th>admin 4 code</th>\n",
       "      <th>population</th>\n",
       "      <th>elevation</th>\n",
       "      <th>dem</th>\n",
       "      <th>timezone</th>\n",
       "      <th>modification date</th>\n",
       "    </tr>\n",
       "  </thead>\n",
       "  <tbody>\n",
       "    <tr>\n",
       "      <td>21225</td>\n",
       "      <td>1796236</td>\n",
       "      <td>Shanghai</td>\n",
       "      <td>Shanghai</td>\n",
       "      <td>SHA,San'nkae,Sanchajus,Sangaj,Sangay,Sanghaj,S...</td>\n",
       "      <td>31.22222</td>\n",
       "      <td>121.45806</td>\n",
       "      <td>P</td>\n",
       "      <td>PPLA</td>\n",
       "      <td>CN</td>\n",
       "      <td>NaN</td>\n",
       "      <td>23</td>\n",
       "      <td>NaN</td>\n",
       "      <td>NaN</td>\n",
       "      <td>NaN</td>\n",
       "      <td>22315474</td>\n",
       "      <td>NaN</td>\n",
       "      <td>12</td>\n",
       "      <td>Asia/Shanghai</td>\n",
       "      <td>2017-07-27</td>\n",
       "    </tr>\n",
       "    <tr>\n",
       "      <td>166458</td>\n",
       "      <td>745044</td>\n",
       "      <td>Istanbul</td>\n",
       "      <td>Istanbul</td>\n",
       "      <td>Bizanc,Bizánc,Byzance,Byzantion,Byzantium,Byza...</td>\n",
       "      <td>41.01384</td>\n",
       "      <td>28.94966</td>\n",
       "      <td>P</td>\n",
       "      <td>PPLA</td>\n",
       "      <td>TR</td>\n",
       "      <td>NaN</td>\n",
       "      <td>34</td>\n",
       "      <td>NaN</td>\n",
       "      <td>NaN</td>\n",
       "      <td>NaN</td>\n",
       "      <td>14804116</td>\n",
       "      <td>NaN</td>\n",
       "      <td>39</td>\n",
       "      <td>Europe/Istanbul</td>\n",
       "      <td>2017-09-26</td>\n",
       "    </tr>\n",
       "    <tr>\n",
       "      <td>1358</td>\n",
       "      <td>3435910</td>\n",
       "      <td>Buenos Aires</td>\n",
       "      <td>Buenos Aires</td>\n",
       "      <td>BUE,Baires,Bonaero,Bonaeropolis,Bonaëropolis,B...</td>\n",
       "      <td>-34.61315</td>\n",
       "      <td>-58.37723</td>\n",
       "      <td>P</td>\n",
       "      <td>PPLC</td>\n",
       "      <td>AR</td>\n",
       "      <td>NaN</td>\n",
       "      <td>07</td>\n",
       "      <td>NaN</td>\n",
       "      <td>NaN</td>\n",
       "      <td>NaN</td>\n",
       "      <td>13076300</td>\n",
       "      <td>NaN</td>\n",
       "      <td>31</td>\n",
       "      <td>America/Argentina/Buenos_Aires</td>\n",
       "      <td>2019-09-05</td>\n",
       "    </tr>\n",
       "    <tr>\n",
       "      <td>96210</td>\n",
       "      <td>1275339</td>\n",
       "      <td>Mumbai</td>\n",
       "      <td>Mumbai</td>\n",
       "      <td>Asumumbay,BOM,Bombai,Bombaim,Bombaj,Bombay,Bom...</td>\n",
       "      <td>19.07283</td>\n",
       "      <td>72.88261</td>\n",
       "      <td>P</td>\n",
       "      <td>PPLA</td>\n",
       "      <td>IN</td>\n",
       "      <td>NaN</td>\n",
       "      <td>16</td>\n",
       "      <td>NaN</td>\n",
       "      <td>NaN</td>\n",
       "      <td>NaN</td>\n",
       "      <td>12691836</td>\n",
       "      <td>NaN</td>\n",
       "      <td>8</td>\n",
       "      <td>Asia/Kolkata</td>\n",
       "      <td>2019-09-05</td>\n",
       "    </tr>\n",
       "    <tr>\n",
       "      <td>117395</td>\n",
       "      <td>3530597</td>\n",
       "      <td>Mexico City</td>\n",
       "      <td>Mexico City</td>\n",
       "      <td>Cidade de Mexico,Cidade de México,Cidade do Me...</td>\n",
       "      <td>19.42847</td>\n",
       "      <td>-99.12766</td>\n",
       "      <td>P</td>\n",
       "      <td>PPLC</td>\n",
       "      <td>MX</td>\n",
       "      <td>NaN</td>\n",
       "      <td>09</td>\n",
       "      <td>NaN</td>\n",
       "      <td>NaN</td>\n",
       "      <td>NaN</td>\n",
       "      <td>12294193</td>\n",
       "      <td>NaN</td>\n",
       "      <td>2240</td>\n",
       "      <td>America/Mexico_City</td>\n",
       "      <td>2019-03-15</td>\n",
       "    </tr>\n",
       "  </tbody>\n",
       "</table>\n",
       "</div>"
      ],
      "text/plain": [
       "        geonameid          name     asciiname  \\\n",
       "21225     1796236      Shanghai      Shanghai   \n",
       "166458     745044      Istanbul      Istanbul   \n",
       "1358      3435910  Buenos Aires  Buenos Aires   \n",
       "96210     1275339        Mumbai        Mumbai   \n",
       "117395    3530597   Mexico City   Mexico City   \n",
       "\n",
       "                                           alternatenames  latitude  \\\n",
       "21225   SHA,San'nkae,Sanchajus,Sangaj,Sangay,Sanghaj,S...  31.22222   \n",
       "166458  Bizanc,Bizánc,Byzance,Byzantion,Byzantium,Byza...  41.01384   \n",
       "1358    BUE,Baires,Bonaero,Bonaeropolis,Bonaëropolis,B... -34.61315   \n",
       "96210   Asumumbay,BOM,Bombai,Bombaim,Bombaj,Bombay,Bom...  19.07283   \n",
       "117395  Cidade de Mexico,Cidade de México,Cidade do Me...  19.42847   \n",
       "\n",
       "        longitude feature class feature code country code  cc2 admin1 code  \\\n",
       "21225   121.45806             P         PPLA           CN  NaN          23   \n",
       "166458   28.94966             P         PPLA           TR  NaN          34   \n",
       "1358    -58.37723             P         PPLC           AR  NaN          07   \n",
       "96210    72.88261             P         PPLA           IN  NaN          16   \n",
       "117395  -99.12766             P         PPLC           MX  NaN          09   \n",
       "\n",
       "       admin2 code admin3 code admin 4 code  population  elevation   dem  \\\n",
       "21225          NaN         NaN          NaN    22315474        NaN    12   \n",
       "166458         NaN         NaN          NaN    14804116        NaN    39   \n",
       "1358           NaN         NaN          NaN    13076300        NaN    31   \n",
       "96210          NaN         NaN          NaN    12691836        NaN     8   \n",
       "117395         NaN         NaN          NaN    12294193        NaN  2240   \n",
       "\n",
       "                              timezone modification date  \n",
       "21225                    Asia/Shanghai        2017-07-27  \n",
       "166458                 Europe/Istanbul        2017-09-26  \n",
       "1358    America/Argentina/Buenos_Aires        2019-09-05  \n",
       "96210                     Asia/Kolkata        2019-09-05  \n",
       "117395             America/Mexico_City        2019-03-15  "
      ]
     },
     "execution_count": 23,
     "metadata": {},
     "output_type": "execute_result"
    }
   ],
   "source": [
    "cities500.sort_values(by='population', ascending =False).head()"
   ]
  },
  {
   "cell_type": "markdown",
   "metadata": {},
   "source": [
    "We will also create a set of all unique cities to use in the comparison"
   ]
  },
  {
   "cell_type": "code",
   "execution_count": 57,
   "metadata": {},
   "outputs": [],
   "source": [
    "upper_case_cities = set(cities500['name'])\n",
    "lower_case_cities = {s.lower() for s in upper_case_cities}"
   ]
  },
  {
   "cell_type": "markdown",
   "metadata": {},
   "source": [
    "Now we can open the book, scan through the words and see which of those match any city"
   ]
  },
  {
   "cell_type": "markdown",
   "metadata": {},
   "source": [
    "We all so use regular expression to filter out unnecessary characters."
   ]
  },
  {
   "cell_type": "code",
   "execution_count": 30,
   "metadata": {},
   "outputs": [],
   "source": [
    "import re\n",
    "import collections\n",
    "from tqdm.notebook import tqdm"
   ]
  },
  {
   "cell_type": "code",
   "execution_count": 60,
   "metadata": {},
   "outputs": [
    {
     "data": {
      "application/vnd.jupyter.widget-view+json": {
       "model_id": "1fd8bb890d3f4c889f273cd76de93b07",
       "version_major": 2,
       "version_minor": 0
      },
      "text/plain": [
       "HBox(children=(IntProgress(value=1, bar_style='info', max=1), HTML(value='')))"
      ]
     },
     "metadata": {},
     "output_type": "display_data"
    },
    {
     "name": "stdout",
     "output_type": "stream",
     "text": [
      "\n"
     ]
    }
   ],
   "source": [
    "upper_case_mentions = collections.defaultdict(int)\n",
    "lower_case_mentions = collections.defaultdict(int)\n",
    "with open(DATA_PATH, mode='r', encoding='utf-8') as file:\n",
    "    for line in tqdm(file):\n",
    "        for city in upper_case_cities:\n",
    "            if city in line:\n",
    "                upper_case_mentions[city] += 1\n",
    "        for city in lower_case_cities:\n",
    "            if city in line:\n",
    "                lower_case_mentions[city] += 1"
   ]
  },
  {
   "cell_type": "code",
   "execution_count": 67,
   "metadata": {},
   "outputs": [],
   "source": [
    "mentions = {k: v - lower_case_mentions[k.lower()] for k, v in upper_case_mentions.items()}"
   ]
  },
  {
   "cell_type": "code",
   "execution_count": 73,
   "metadata": {
    "scrolled": true
   },
   "outputs": [
    {
     "data": {
      "text/plain": [
       "531"
      ]
     },
     "execution_count": 73,
     "metadata": {},
     "output_type": "execute_result"
    }
   ],
   "source": [
    "len(mentions)"
   ]
  },
  {
   "cell_type": "code",
   "execution_count": 70,
   "metadata": {},
   "outputs": [],
   "source": [
    "positive_mentions = {k: v for k, v in mentions.items() if v > 0}"
   ]
  },
  {
   "cell_type": "code",
   "execution_count": 72,
   "metadata": {},
   "outputs": [
    {
     "data": {
      "text/plain": [
       "290"
      ]
     },
     "execution_count": 72,
     "metadata": {},
     "output_type": "execute_result"
    }
   ],
   "source": [
    "len(positive_mentions)"
   ]
  },
  {
   "cell_type": "markdown",
   "metadata": {},
   "source": [
    "# Filtering visited cities"
   ]
  },
  {
   "cell_type": "markdown",
   "metadata": {},
   "source": [
    "Choose those cities from the `cities500`."
   ]
  },
  {
   "cell_type": "code",
   "execution_count": 76,
   "metadata": {},
   "outputs": [],
   "source": [
    "visited_df = cities500[cities500['name'].isin(positive_mentions)]"
   ]
  },
  {
   "cell_type": "markdown",
   "metadata": {},
   "source": [
    "We assume that if there are multiple cities with the same name we take the one with greater population."
   ]
  },
  {
   "cell_type": "code",
   "execution_count": 79,
   "metadata": {
    "scrolled": false
   },
   "outputs": [],
   "source": [
    "visited_df = visited_df.sort_values(by='population', ascending=False).drop_duplicates(subset='name')"
   ]
  },
  {
   "cell_type": "code",
   "execution_count": 80,
   "metadata": {},
   "outputs": [
    {
     "data": {
      "text/plain": [
       "(290, 19)"
      ]
     },
     "execution_count": 80,
     "metadata": {},
     "output_type": "execute_result"
    }
   ],
   "source": [
    "visited_df.shape"
   ]
  },
  {
   "cell_type": "markdown",
   "metadata": {},
   "source": [
    "We are left with 290 cities!"
   ]
  },
  {
   "cell_type": "markdown",
   "metadata": {},
   "source": [
    "If we filter further to cities with population of over 100 000."
   ]
  },
  {
   "cell_type": "code",
   "execution_count": 86,
   "metadata": {},
   "outputs": [],
   "source": [
    "visited_df = visited_df[visited_df['population'] > 500000]"
   ]
  },
  {
   "cell_type": "code",
   "execution_count": 149,
   "metadata": {},
   "outputs": [],
   "source": [
    "locations = visited_df[['name', 'latitude', 'longitude']]\\\n",
    "    .sort_values(by='longitude')\\\n",
    "    .set_index('name')\\\n",
    "    .T\\\n",
    "    .to_dict(into=collections.OrderedDict, orient='list')"
   ]
  },
  {
   "cell_type": "code",
   "execution_count": 159,
   "metadata": {
    "scrolled": true
   },
   "outputs": [
    {
     "data": {
      "text/plain": [
       "OrderedDict([('San Francisco', [37.77493, -122.41942]),\n",
       "             ('Denver', [39.73915, -104.9847]),\n",
       "             ('Chicago', [41.85003, -87.65005]),\n",
       "             ('Columbus', [39.96118, -82.99879]),\n",
       "             ('Queens', [40.681490000000004, -73.83652]),\n",
       "             ('Dublin', [53.333059999999996, -6.24889]),\n",
       "             ('Glasgow', [55.86515, -4.257630000000001]),\n",
       "             ('Liverpool', [53.41058, -2.9779400000000003]),\n",
       "             ('Birmingham', [52.48141999999999, -1.89983]),\n",
       "             ('London', [51.50853, -0.12574000000000002]),\n",
       "             ('Paris', [48.85341, 2.3488]),\n",
       "             ('Hamburg', [53.55073, 9.99302]),\n",
       "             ('Athens', [37.98376, 23.72784]),\n",
       "             ('Aden', [12.77944, 45.03667]),\n",
       "             ('Cochin', [9.93988, 76.26021999999999]),\n",
       "             ('Patna', [25.594079999999998, 85.13563]),\n",
       "             ('Singapore', [1.28967, 103.85007]),\n",
       "             ('Hong Kong', [22.27832, 114.17468999999998]),\n",
       "             ('Shanghai', [31.22222, 121.45806]),\n",
       "             ('Yokohama', [35.43333, 139.65])])"
      ]
     },
     "execution_count": 159,
     "metadata": {},
     "output_type": "execute_result"
    }
   ],
   "source": [
    "locations"
   ]
  },
  {
   "cell_type": "markdown",
   "metadata": {},
   "source": [
    "Delete locations that don't make any sense."
   ]
  },
  {
   "cell_type": "code",
   "execution_count": 158,
   "metadata": {},
   "outputs": [],
   "source": [
    "del locations['Jos']\n",
    "del locations['Cali']"
   ]
  },
  {
   "cell_type": "markdown",
   "metadata": {},
   "source": [
    "# Drawing on a world map"
   ]
  },
  {
   "cell_type": "markdown",
   "metadata": {},
   "source": [
    "To draw the journey we will use `folium`"
   ]
  },
  {
   "cell_type": "code",
   "execution_count": 203,
   "metadata": {},
   "outputs": [],
   "source": [
    "import folium"
   ]
  },
  {
   "cell_type": "code",
   "execution_count": 204,
   "metadata": {},
   "outputs": [],
   "source": [
    "map_ = folium.Map(\n",
    "    location=[51.50853, -0.12574000000000002],\n",
    "    world_copy_jump=True,\n",
    "    no_wrap=False,\n",
    "    width='100%',\n",
    "    zoom_start=3\n",
    ")"
   ]
  },
  {
   "cell_type": "markdown",
   "metadata": {},
   "source": [
    "Adding the markers:"
   ]
  },
  {
   "cell_type": "code",
   "execution_count": 205,
   "metadata": {},
   "outputs": [],
   "source": [
    "for name, (lat, lon) in locations.items():\n",
    "    popup = f\"<strong>{name}</strong><p>Latitude: {lat}</p><p>Longitude: {lon}</p>\"\n",
    "    folium.Marker(location=(lat, lon), \n",
    "                  tooltip=name,\n",
    "                  popup=popup).add_to(map_)"
   ]
  },
  {
   "cell_type": "markdown",
   "metadata": {},
   "source": [
    "Drawing the lines:"
   ]
  },
  {
   "cell_type": "code",
   "execution_count": 206,
   "metadata": {},
   "outputs": [
    {
     "data": {
      "text/plain": [
       "<folium.vector_layers.PolyLine at 0x23a5dbaf320>"
      ]
     },
     "execution_count": 206,
     "metadata": {},
     "output_type": "execute_result"
    }
   ],
   "source": [
    "folium.PolyLine(locations=locations.values()).add_to(map_)"
   ]
  },
  {
   "cell_type": "markdown",
   "metadata": {},
   "source": [
    "And finally displaying the map!"
   ]
  },
  {
   "cell_type": "code",
   "execution_count": 207,
   "metadata": {},
   "outputs": [
    {
     "data": {
      "text/html": [
       "<div style=\"width:100%;\"><div style=\"position:relative;width:100%;height:0;padding-bottom:60%;\"><iframe src=\"data:text/html;charset=utf-8;base64,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\" style=\"position:absolute;width:100%;height:100%;left:0;top:0;border:none !important;\" allowfullscreen webkitallowfullscreen mozallowfullscreen></iframe></div></div>"
      ],
      "text/plain": [
       "<folium.folium.Map at 0x23a5dbaf9b0>"
      ]
     },
     "execution_count": 207,
     "metadata": {},
     "output_type": "execute_result"
    }
   ],
   "source": [
    "map_"
   ]
  }
 ],
 "metadata": {
  "kernelspec": {
   "display_name": "Python 3",
   "language": "python",
   "name": "python3"
  },
  "language_info": {
   "codemirror_mode": {
    "name": "ipython",
    "version": 3
   },
   "file_extension": ".py",
   "mimetype": "text/x-python",
   "name": "python",
   "nbconvert_exporter": "python",
   "pygments_lexer": "ipython3",
   "version": "3.7.3"
  }
 },
 "nbformat": 4,
 "nbformat_minor": 2
}
