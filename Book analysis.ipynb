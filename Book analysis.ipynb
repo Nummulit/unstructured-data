{
 "cells": [
  {
   "cell_type": "markdown",
   "metadata": {},
   "source": [
    "*Download the novel \"Around the world in 80 days\" by J. Verne from Project Gutenberg webstie. Find all cities visited by Phileas Fogg, the protagonist of the novel. Draw the path of his journey on a world map.*"
   ]
  },
  {
   "cell_type": "markdown",
   "metadata": {},
   "source": [
    "# Getting the book"
   ]
  },
  {
   "cell_type": "markdown",
   "metadata": {},
   "source": [
    "Obtaining the text of the books is as easy as going to the Project Gutenberg website, searching the title and downloading the text file."
   ]
  },
  {
   "cell_type": "code",
   "execution_count": 1,
   "metadata": {},
   "outputs": [],
   "source": [
    "DATA_PATH = r'data/around_the_world_in_eighty_days.txt'"
   ]
  },
  {
   "cell_type": "markdown",
   "metadata": {},
   "source": [
    "# Getting list of the cities"
   ]
  },
  {
   "cell_type": "markdown",
   "metadata": {},
   "source": [
    "To see what words describe cities we will compare each word to a list of cities and keep those that match."
   ]
  },
  {
   "cell_type": "markdown",
   "metadata": {},
   "source": [
    "We will use the [Geonames](http://www.geonames.org/) database for list of all cities."
   ]
  },
  {
   "cell_type": "code",
   "execution_count": 2,
   "metadata": {},
   "outputs": [],
   "source": [
    "import pandas as pd"
   ]
  },
  {
   "cell_type": "code",
   "execution_count": 3,
   "metadata": {},
   "outputs": [],
   "source": [
    "cities500 = pd.read_csv('data/cities500.txt', \n",
    "                        sep='\\t', \n",
    "                        header=None, \n",
    "                        engine='python', \n",
    "                        encoding='utf-8')"
   ]
  },
  {
   "cell_type": "markdown",
   "metadata": {},
   "source": [
    "Unfortunately we have to set the column names manually "
   ]
  },
  {
   "cell_type": "code",
   "execution_count": 4,
   "metadata": {},
   "outputs": [],
   "source": [
    "col_names = [\n",
    "    'geonameid',\n",
    "    'name',\n",
    "    'asciiname',\n",
    "    'alternatenames',\n",
    "    'latitude',\n",
    "    'longitude',\n",
    "    'feature class',\n",
    "    'feature code',\n",
    "    'country code',\n",
    "    'cc2',\n",
    "    'admin1 code',\n",
    "    'admin2 code',\n",
    "    'admin3 code',\n",
    "    'admin 4 code',\n",
    "    'population',\n",
    "    'elevation',\n",
    "    'dem',\n",
    "    'timezone',\n",
    "    'modification date'\n",
    "]"
   ]
  },
  {
   "cell_type": "code",
   "execution_count": 5,
   "metadata": {},
   "outputs": [],
   "source": [
    "cities500.columns = col_names"
   ]
  },
  {
   "cell_type": "markdown",
   "metadata": {},
   "source": [
    "Now we can investigate how the data frame looks like"
   ]
  },
  {
   "cell_type": "code",
   "execution_count": 6,
   "metadata": {
    "scrolled": false
   },
   "outputs": [
    {
     "data": {
      "text/html": [
       "<div>\n",
       "<style scoped>\n",
       "    .dataframe tbody tr th:only-of-type {\n",
       "        vertical-align: middle;\n",
       "    }\n",
       "\n",
       "    .dataframe tbody tr th {\n",
       "        vertical-align: top;\n",
       "    }\n",
       "\n",
       "    .dataframe thead th {\n",
       "        text-align: right;\n",
       "    }\n",
       "</style>\n",
       "<table border=\"1\" class=\"dataframe\">\n",
       "  <thead>\n",
       "    <tr style=\"text-align: right;\">\n",
       "      <th></th>\n",
       "      <th>geonameid</th>\n",
       "      <th>name</th>\n",
       "      <th>asciiname</th>\n",
       "      <th>alternatenames</th>\n",
       "      <th>latitude</th>\n",
       "      <th>longitude</th>\n",
       "      <th>feature class</th>\n",
       "      <th>feature code</th>\n",
       "      <th>country code</th>\n",
       "      <th>cc2</th>\n",
       "      <th>admin1 code</th>\n",
       "      <th>admin2 code</th>\n",
       "      <th>admin3 code</th>\n",
       "      <th>admin 4 code</th>\n",
       "      <th>population</th>\n",
       "      <th>elevation</th>\n",
       "      <th>dem</th>\n",
       "      <th>timezone</th>\n",
       "      <th>modification date</th>\n",
       "    </tr>\n",
       "  </thead>\n",
       "  <tbody>\n",
       "    <tr>\n",
       "      <td>21225</td>\n",
       "      <td>1796236</td>\n",
       "      <td>Shanghai</td>\n",
       "      <td>Shanghai</td>\n",
       "      <td>SHA,San'nkae,Sanchajus,Sangaj,Sangay,Sanghaj,S...</td>\n",
       "      <td>31.22222</td>\n",
       "      <td>121.45806</td>\n",
       "      <td>P</td>\n",
       "      <td>PPLA</td>\n",
       "      <td>CN</td>\n",
       "      <td>NaN</td>\n",
       "      <td>23</td>\n",
       "      <td>NaN</td>\n",
       "      <td>NaN</td>\n",
       "      <td>NaN</td>\n",
       "      <td>22315474</td>\n",
       "      <td>NaN</td>\n",
       "      <td>12</td>\n",
       "      <td>Asia/Shanghai</td>\n",
       "      <td>2017-07-27</td>\n",
       "    </tr>\n",
       "    <tr>\n",
       "      <td>166458</td>\n",
       "      <td>745044</td>\n",
       "      <td>Istanbul</td>\n",
       "      <td>Istanbul</td>\n",
       "      <td>Bizanc,Bizánc,Byzance,Byzantion,Byzantium,Byza...</td>\n",
       "      <td>41.01384</td>\n",
       "      <td>28.94966</td>\n",
       "      <td>P</td>\n",
       "      <td>PPLA</td>\n",
       "      <td>TR</td>\n",
       "      <td>NaN</td>\n",
       "      <td>34</td>\n",
       "      <td>NaN</td>\n",
       "      <td>NaN</td>\n",
       "      <td>NaN</td>\n",
       "      <td>14804116</td>\n",
       "      <td>NaN</td>\n",
       "      <td>39</td>\n",
       "      <td>Europe/Istanbul</td>\n",
       "      <td>2017-09-26</td>\n",
       "    </tr>\n",
       "    <tr>\n",
       "      <td>1358</td>\n",
       "      <td>3435910</td>\n",
       "      <td>Buenos Aires</td>\n",
       "      <td>Buenos Aires</td>\n",
       "      <td>BUE,Baires,Bonaero,Bonaeropolis,Bonaëropolis,B...</td>\n",
       "      <td>-34.61315</td>\n",
       "      <td>-58.37723</td>\n",
       "      <td>P</td>\n",
       "      <td>PPLC</td>\n",
       "      <td>AR</td>\n",
       "      <td>NaN</td>\n",
       "      <td>07</td>\n",
       "      <td>NaN</td>\n",
       "      <td>NaN</td>\n",
       "      <td>NaN</td>\n",
       "      <td>13076300</td>\n",
       "      <td>NaN</td>\n",
       "      <td>31</td>\n",
       "      <td>America/Argentina/Buenos_Aires</td>\n",
       "      <td>2019-09-05</td>\n",
       "    </tr>\n",
       "    <tr>\n",
       "      <td>96210</td>\n",
       "      <td>1275339</td>\n",
       "      <td>Mumbai</td>\n",
       "      <td>Mumbai</td>\n",
       "      <td>Asumumbay,BOM,Bombai,Bombaim,Bombaj,Bombay,Bom...</td>\n",
       "      <td>19.07283</td>\n",
       "      <td>72.88261</td>\n",
       "      <td>P</td>\n",
       "      <td>PPLA</td>\n",
       "      <td>IN</td>\n",
       "      <td>NaN</td>\n",
       "      <td>16</td>\n",
       "      <td>NaN</td>\n",
       "      <td>NaN</td>\n",
       "      <td>NaN</td>\n",
       "      <td>12691836</td>\n",
       "      <td>NaN</td>\n",
       "      <td>8</td>\n",
       "      <td>Asia/Kolkata</td>\n",
       "      <td>2019-09-05</td>\n",
       "    </tr>\n",
       "    <tr>\n",
       "      <td>117395</td>\n",
       "      <td>3530597</td>\n",
       "      <td>Mexico City</td>\n",
       "      <td>Mexico City</td>\n",
       "      <td>Cidade de Mexico,Cidade de México,Cidade do Me...</td>\n",
       "      <td>19.42847</td>\n",
       "      <td>-99.12766</td>\n",
       "      <td>P</td>\n",
       "      <td>PPLC</td>\n",
       "      <td>MX</td>\n",
       "      <td>NaN</td>\n",
       "      <td>09</td>\n",
       "      <td>NaN</td>\n",
       "      <td>NaN</td>\n",
       "      <td>NaN</td>\n",
       "      <td>12294193</td>\n",
       "      <td>NaN</td>\n",
       "      <td>2240</td>\n",
       "      <td>America/Mexico_City</td>\n",
       "      <td>2019-03-15</td>\n",
       "    </tr>\n",
       "  </tbody>\n",
       "</table>\n",
       "</div>"
      ],
      "text/plain": [
       "        geonameid          name     asciiname  \\\n",
       "21225     1796236      Shanghai      Shanghai   \n",
       "166458     745044      Istanbul      Istanbul   \n",
       "1358      3435910  Buenos Aires  Buenos Aires   \n",
       "96210     1275339        Mumbai        Mumbai   \n",
       "117395    3530597   Mexico City   Mexico City   \n",
       "\n",
       "                                           alternatenames  latitude  \\\n",
       "21225   SHA,San'nkae,Sanchajus,Sangaj,Sangay,Sanghaj,S...  31.22222   \n",
       "166458  Bizanc,Bizánc,Byzance,Byzantion,Byzantium,Byza...  41.01384   \n",
       "1358    BUE,Baires,Bonaero,Bonaeropolis,Bonaëropolis,B... -34.61315   \n",
       "96210   Asumumbay,BOM,Bombai,Bombaim,Bombaj,Bombay,Bom...  19.07283   \n",
       "117395  Cidade de Mexico,Cidade de México,Cidade do Me...  19.42847   \n",
       "\n",
       "        longitude feature class feature code country code  cc2 admin1 code  \\\n",
       "21225   121.45806             P         PPLA           CN  NaN          23   \n",
       "166458   28.94966             P         PPLA           TR  NaN          34   \n",
       "1358    -58.37723             P         PPLC           AR  NaN          07   \n",
       "96210    72.88261             P         PPLA           IN  NaN          16   \n",
       "117395  -99.12766             P         PPLC           MX  NaN          09   \n",
       "\n",
       "       admin2 code admin3 code admin 4 code  population  elevation   dem  \\\n",
       "21225          NaN         NaN          NaN    22315474        NaN    12   \n",
       "166458         NaN         NaN          NaN    14804116        NaN    39   \n",
       "1358           NaN         NaN          NaN    13076300        NaN    31   \n",
       "96210          NaN         NaN          NaN    12691836        NaN     8   \n",
       "117395         NaN         NaN          NaN    12294193        NaN  2240   \n",
       "\n",
       "                              timezone modification date  \n",
       "21225                    Asia/Shanghai        2017-07-27  \n",
       "166458                 Europe/Istanbul        2017-09-26  \n",
       "1358    America/Argentina/Buenos_Aires        2019-09-05  \n",
       "96210                     Asia/Kolkata        2019-09-05  \n",
       "117395             America/Mexico_City        2019-03-15  "
      ]
     },
     "execution_count": 6,
     "metadata": {},
     "output_type": "execute_result"
    }
   ],
   "source": [
    "cities500.sort_values(by='population', ascending =False).head()"
   ]
  },
  {
   "cell_type": "markdown",
   "metadata": {},
   "source": [
    "We will also create a set of all unique cities to use in the comparison"
   ]
  },
  {
   "cell_type": "code",
   "execution_count": 7,
   "metadata": {},
   "outputs": [],
   "source": [
    "upper_case_cities = set(cities500['name'])"
   ]
  },
  {
   "cell_type": "markdown",
   "metadata": {},
   "source": [
    "To see if given city resembles just a normal word we will also check those names in lower case and compare the amounts:"
   ]
  },
  {
   "cell_type": "code",
   "execution_count": 8,
   "metadata": {},
   "outputs": [],
   "source": [
    "lower_case_cities = {s.lower() for s in upper_case_cities}"
   ]
  },
  {
   "cell_type": "markdown",
   "metadata": {},
   "source": [
    "We will also create a dictionary with outdated names of cities and their modern versions:"
   ]
  },
  {
   "cell_type": "code",
   "execution_count": 9,
   "metadata": {},
   "outputs": [],
   "source": [
    "OUTDATED_NAMES = {\n",
    "    \"Madras\": \"Chennai\", \n",
    "    \"Bombay\": \"Mumbai\", \n",
    "    \"Frunze\": \"Bishkek\", \n",
    "    \"Petrograd\": \"St Petersburg\", \n",
    "    \"Rangoon\": \"Yangon\",\n",
    "    \"Saigon\": \"Ho Chi Minh City\", \n",
    "    \"Lourenco Marques\": \"Maputo\", \n",
    "    \"Leopoldville\": \"Kinshasa\", \n",
    "    \"Edo\": \"Tokyo\",\n",
    "    \"Calcutta\": \"Kolkata\"}"
   ]
  },
  {
   "cell_type": "markdown",
   "metadata": {},
   "source": [
    "Now we can open the book, scan through the words and see which of those match any city"
   ]
  },
  {
   "cell_type": "markdown",
   "metadata": {},
   "source": [
    "We all so use regular expression to filter out unnecessary characters."
   ]
  },
  {
   "cell_type": "code",
   "execution_count": 10,
   "metadata": {},
   "outputs": [],
   "source": [
    "import re\n",
    "import collections\n",
    "from tqdm.notebook import tqdm"
   ]
  },
  {
   "cell_type": "code",
   "execution_count": 11,
   "metadata": {},
   "outputs": [
    {
     "data": {
      "application/vnd.jupyter.widget-view+json": {
       "model_id": "de65f3f0697a4ad595d63288c1d93108",
       "version_major": 2,
       "version_minor": 0
      },
      "text/plain": [
       "HBox(children=(IntProgress(value=1, bar_style='info', max=1), HTML(value='')))"
      ]
     },
     "metadata": {},
     "output_type": "display_data"
    },
    {
     "name": "stdout",
     "output_type": "stream",
     "text": [
      "\n"
     ]
    }
   ],
   "source": [
    "upper_case_mentions = collections.defaultdict(int)\n",
    "lower_case_mentions = collections.defaultdict(int)\n",
    "with open(DATA_PATH, mode='r', encoding='utf-8') as file:\n",
    "    for line in tqdm(file):\n",
    "        # Replacing outdated names\n",
    "        for old_name, new_name in OUTDATED_NAMES.items():\n",
    "            line = line.replace(old_name, new_name)\n",
    "        for city in upper_case_cities:\n",
    "            if city in line:\n",
    "                upper_case_mentions[city] += 1\n",
    "        for city in lower_case_cities:\n",
    "            if city in line:\n",
    "                lower_case_mentions[city] += 1"
   ]
  },
  {
   "cell_type": "code",
   "execution_count": 12,
   "metadata": {},
   "outputs": [],
   "source": [
    "mentions = {k: v - lower_case_mentions[k.lower()] for k, v in upper_case_mentions.items()}"
   ]
  },
  {
   "cell_type": "code",
   "execution_count": 13,
   "metadata": {
    "scrolled": true
   },
   "outputs": [
    {
     "data": {
      "text/plain": [
       "531"
      ]
     },
     "execution_count": 13,
     "metadata": {},
     "output_type": "execute_result"
    }
   ],
   "source": [
    "len(mentions)"
   ]
  },
  {
   "cell_type": "markdown",
   "metadata": {},
   "source": [
    "To see if given city is in fact a city and not a normal word we will take only those, which frequency in upper case is higher than in lower case:"
   ]
  },
  {
   "cell_type": "code",
   "execution_count": 14,
   "metadata": {},
   "outputs": [],
   "source": [
    "positive_mentions = {k: v for k, v in mentions.items() if v > 0}"
   ]
  },
  {
   "cell_type": "markdown",
   "metadata": {},
   "source": [
    "Now we can check with how many cities we are left"
   ]
  },
  {
   "cell_type": "code",
   "execution_count": 15,
   "metadata": {},
   "outputs": [
    {
     "data": {
      "text/plain": [
       "290"
      ]
     },
     "execution_count": 15,
     "metadata": {},
     "output_type": "execute_result"
    }
   ],
   "source": [
    "len(positive_mentions)"
   ]
  },
  {
   "cell_type": "markdown",
   "metadata": {},
   "source": [
    "# Filtering visited cities"
   ]
  },
  {
   "cell_type": "markdown",
   "metadata": {},
   "source": [
    "We will now choose those cities from our `cities500` database."
   ]
  },
  {
   "cell_type": "code",
   "execution_count": 16,
   "metadata": {},
   "outputs": [],
   "source": [
    "visited_df = cities500[cities500['name'].isin(positive_mentions)]"
   ]
  },
  {
   "cell_type": "markdown",
   "metadata": {},
   "source": [
    "We assume that if there are multiple cities with the same name we take the one with greater population."
   ]
  },
  {
   "cell_type": "code",
   "execution_count": 17,
   "metadata": {
    "scrolled": false
   },
   "outputs": [],
   "source": [
    "visited_df = visited_df.sort_values(by='population', ascending=False).drop_duplicates(subset='name')"
   ]
  },
  {
   "cell_type": "code",
   "execution_count": 18,
   "metadata": {
    "scrolled": true
   },
   "outputs": [
    {
     "data": {
      "text/plain": [
       "(290, 19)"
      ]
     },
     "execution_count": 18,
     "metadata": {},
     "output_type": "execute_result"
    }
   ],
   "source": [
    "visited_df.shape"
   ]
  },
  {
   "cell_type": "markdown",
   "metadata": {},
   "source": [
    "We are left with 290 cities!"
   ]
  },
  {
   "cell_type": "markdown",
   "metadata": {},
   "source": [
    "If we filter further to cities with population of over 500 000."
   ]
  },
  {
   "cell_type": "code",
   "execution_count": 19,
   "metadata": {},
   "outputs": [],
   "source": [
    "visited_df = visited_df[visited_df['population'] > 500000]"
   ]
  },
  {
   "cell_type": "markdown",
   "metadata": {},
   "source": [
    "And format the data into one eligible for the data visualization"
   ]
  },
  {
   "cell_type": "code",
   "execution_count": 43,
   "metadata": {},
   "outputs": [],
   "source": [
    "locations = visited_df[['name', 'latitude', 'longitude']]\\\n",
    "    .sort_values(by='longitude')\\\n",
    "    .set_index('name')\\\n",
    "    .T\\\n",
    "    .to_dict(into=collections.OrderedDict, orient='list')"
   ]
  },
  {
   "cell_type": "code",
   "execution_count": 44,
   "metadata": {
    "scrolled": true
   },
   "outputs": [
    {
     "data": {
      "text/plain": [
       "OrderedDict([('San Francisco', [37.77493, -122.41942]),\n",
       "             ('Denver', [39.73915, -104.9847]),\n",
       "             ('Chicago', [41.85003, -87.65005]),\n",
       "             ('Columbus', [39.96118, -82.99879]),\n",
       "             ('Cali', [3.4372199999999995, -76.5225]),\n",
       "             ('Queens', [40.681490000000004, -73.83652]),\n",
       "             ('Dublin', [53.333059999999996, -6.24889]),\n",
       "             ('Glasgow', [55.86515, -4.257630000000001]),\n",
       "             ('Liverpool', [53.41058, -2.9779400000000003]),\n",
       "             ('Birmingham', [52.48141999999999, -1.89983]),\n",
       "             ('London', [51.50853, -0.12574000000000002]),\n",
       "             ('Paris', [48.85341, 2.3488]),\n",
       "             ('Jos', [9.92849, 8.89212]),\n",
       "             ('Hamburg', [53.55073, 9.99302]),\n",
       "             ('Athens', [37.98376, 23.72784]),\n",
       "             ('Aden', [12.77944, 45.03667]),\n",
       "             ('Mumbai', [19.07283, 72.88261]),\n",
       "             ('Cochin', [9.93988, 76.26021999999999]),\n",
       "             ('Chennai', [13.08784, 80.27847]),\n",
       "             ('Patna', [25.594079999999998, 85.13563]),\n",
       "             ('Kolkata', [22.56263, 88.36304]),\n",
       "             ('Yangon', [16.80528, 96.15611]),\n",
       "             ('Singapore', [1.28967, 103.85007]),\n",
       "             ('Hong Kong', [22.27832, 114.17468999999998]),\n",
       "             ('Shanghai', [31.22222, 121.45806]),\n",
       "             ('Yokohama', [35.43333, 139.65])])"
      ]
     },
     "execution_count": 44,
     "metadata": {},
     "output_type": "execute_result"
    }
   ],
   "source": [
    "locations"
   ]
  },
  {
   "cell_type": "markdown",
   "metadata": {},
   "source": [
    "We will also delete locations that don't make any sense."
   ]
  },
  {
   "cell_type": "code",
   "execution_count": 49,
   "metadata": {},
   "outputs": [],
   "source": [
    "del locations['Jos']\n",
    "del locations['Cali']"
   ]
  },
  {
   "cell_type": "markdown",
   "metadata": {},
   "source": [
    "# Drawing on a world map"
   ]
  },
  {
   "cell_type": "markdown",
   "metadata": {},
   "source": [
    "To draw the journey we will use `folium`"
   ]
  },
  {
   "cell_type": "code",
   "execution_count": 50,
   "metadata": {},
   "outputs": [],
   "source": [
    "import folium"
   ]
  },
  {
   "cell_type": "markdown",
   "metadata": {},
   "source": [
    "We create instance of the `folim.Map` class"
   ]
  },
  {
   "cell_type": "code",
   "execution_count": 51,
   "metadata": {},
   "outputs": [],
   "source": [
    "map_ = folium.Map(\n",
    "    location=[51.50853, -0.12574000000000002],\n",
    "    world_copy_jump=True,\n",
    "    no_wrap=False,\n",
    "    width='100%',\n",
    "    zoom_start=3\n",
    ")"
   ]
  },
  {
   "cell_type": "markdown",
   "metadata": {},
   "source": [
    "Add the markers"
   ]
  },
  {
   "cell_type": "code",
   "execution_count": 52,
   "metadata": {},
   "outputs": [],
   "source": [
    "for name, (lat, lon) in locations.items():\n",
    "    popup = f\"<strong>{name}</strong><p>Latitude: {lat}</p><p>Longitude: {lon}</p>\"\n",
    "    folium.Marker(location=(lat, lon), \n",
    "                  tooltip=name,\n",
    "                  popup=popup).add_to(map_)"
   ]
  },
  {
   "cell_type": "markdown",
   "metadata": {},
   "source": [
    "And draw the lines"
   ]
  },
  {
   "cell_type": "code",
   "execution_count": 53,
   "metadata": {},
   "outputs": [
    {
     "data": {
      "text/plain": [
       "<folium.vector_layers.PolyLine at 0x231c5c80f60>"
      ]
     },
     "execution_count": 53,
     "metadata": {},
     "output_type": "execute_result"
    }
   ],
   "source": [
    "folium.PolyLine(locations=locations.values()).add_to(map_)"
   ]
  },
  {
   "cell_type": "markdown",
   "metadata": {},
   "source": [
    "Finally we can display the map!"
   ]
  },
  {
   "cell_type": "code",
   "execution_count": 54,
   "metadata": {
    "scrolled": false
   },
   "outputs": [
    {
     "data": {
      "text/html": [
       "<div style=\"width:100%;\"><div style=\"position:relative;width:100%;height:0;padding-bottom:60%;\"><iframe src=\"data:text/html;charset=utf-8;base64,PCFET0NUWVBFIGh0bWw+CjxoZWFkPiAgICAKICAgIDxtZXRhIGh0dHAtZXF1aXY9ImNvbnRlbnQtdHlwZSIgY29udGVudD0idGV4dC9odG1sOyBjaGFyc2V0PVVURi04IiAvPgogICAgCiAgICAgICAgPHNjcmlwdD4KICAgICAgICAgICAgTF9OT19UT1VDSCA9IGZhbHNlOwogICAgICAgICAgICBMX0RJU0FCTEVfM0QgPSBmYWxzZTsKICAgICAgICA8L3NjcmlwdD4KICAgIAogICAgPHNjcmlwdCBzcmM9Imh0dHBzOi8vY2RuLmpzZGVsaXZyLm5ldC9ucG0vbGVhZmxldEAxLjUuMS9kaXN0L2xlYWZsZXQuanMiPjwvc2NyaXB0PgogICAgPHNjcmlwdCBzcmM9Imh0dHBzOi8vY29kZS5qcXVlcnkuY29tL2pxdWVyeS0xLjEyLjQubWluLmpzIj48L3NjcmlwdD4KICAgIDxzY3JpcHQgc3JjPSJodHRwczovL21heGNkbi5ib290c3RyYXBjZG4uY29tL2Jvb3RzdHJhcC8zLjIuMC9qcy9ib290c3RyYXAubWluLmpzIj48L3NjcmlwdD4KICAgIDxzY3JpcHQgc3JjPSJodHRwczovL2NkbmpzLmNsb3VkZmxhcmUuY29tL2FqYXgvbGlicy9MZWFmbGV0LmF3ZXNvbWUtbWFya2Vycy8yLjAuMi9sZWFmbGV0LmF3ZXNvbWUtbWFya2Vycy5qcyI+PC9zY3JpcHQ+CiAgICA8bGluayByZWw9InN0eWxlc2hlZXQiIGhyZWY9Imh0dHBzOi8vY2RuLmpzZGVsaXZyLm5ldC9ucG0vbGVhZmxldEAxLjUuMS9kaXN0L2xlYWZsZXQuY3NzIi8+CiAgICA8bGluayByZWw9InN0eWxlc2hlZXQiIGhyZWY9Imh0dHBzOi8vbWF4Y2RuLmJvb3RzdHJhcGNkbi5jb20vYm9vdHN0cmFwLzMuMi4wL2Nzcy9ib290c3RyYXAubWluLmNzcyIvPgogICAgPGxpbmsgcmVsPSJzdHlsZXNoZWV0IiBocmVmPSJodHRwczovL21heGNkbi5ib290c3RyYXBjZG4uY29tL2Jvb3RzdHJhcC8zLjIuMC9jc3MvYm9vdHN0cmFwLXRoZW1lLm1pbi5jc3MiLz4KICAgIDxsaW5rIHJlbD0ic3R5bGVzaGVldCIgaHJlZj0iaHR0cHM6Ly9tYXhjZG4uYm9vdHN0cmFwY2RuLmNvbS9mb250LWF3ZXNvbWUvNC42LjMvY3NzL2ZvbnQtYXdlc29tZS5taW4uY3NzIi8+CiAgICA8bGluayByZWw9InN0eWxlc2hlZXQiIGhyZWY9Imh0dHBzOi8vY2RuanMuY2xvdWRmbGFyZS5jb20vYWpheC9saWJzL0xlYWZsZXQuYXdlc29tZS1tYXJrZXJzLzIuMC4yL2xlYWZsZXQuYXdlc29tZS1tYXJrZXJzLmNzcyIvPgogICAgPGxpbmsgcmVsPSJzdHlsZXNoZWV0IiBocmVmPSJodHRwczovL3Jhd2Nkbi5naXRoYWNrLmNvbS9weXRob24tdmlzdWFsaXphdGlvbi9mb2xpdW0vbWFzdGVyL2ZvbGl1bS90ZW1wbGF0ZXMvbGVhZmxldC5hd2Vzb21lLnJvdGF0ZS5jc3MiLz4KICAgIDxzdHlsZT5odG1sLCBib2R5IHt3aWR0aDogMTAwJTtoZWlnaHQ6IDEwMCU7bWFyZ2luOiAwO3BhZGRpbmc6IDA7fTwvc3R5bGU+CiAgICA8c3R5bGU+I21hcCB7cG9zaXRpb246YWJzb2x1dGU7dG9wOjA7Ym90dG9tOjA7cmlnaHQ6MDtsZWZ0OjA7fTwvc3R5bGU+CiAgICAKICAgICAgICAgICAgPG1ldGEgbmFtZT0idmlld3BvcnQiIGNvbnRlbnQ9IndpZHRoPWRldmljZS13aWR0aCwKICAgICAgICAgICAgICAgIGluaXRpYWwtc2NhbGU9MS4wLCBtYXhpbXVtLXNjYWxlPTEuMCwgdXNlci1zY2FsYWJsZT1ubyIgLz4KICAgICAgICAgICAgPHN0eWxlPgogICAgICAgICAgICAgICAgI21hcF84NjhjYjRlMTZkZDM0MjkyYjNiZTIzYzYxMWQwMjI4YiB7CiAgICAgICAgICAgICAgICAgICAgcG9zaXRpb246IHJlbGF0aXZlOwogICAgICAgICAgICAgICAgICAgIHdpZHRoOiAxMDAuMCU7CiAgICAgICAgICAgICAgICAgICAgaGVpZ2h0OiAxMDAuMCU7CiAgICAgICAgICAgICAgICAgICAgbGVmdDogMC4wJTsKICAgICAgICAgICAgICAgICAgICB0b3A6IDAuMCU7CiAgICAgICAgICAgICAgICB9CiAgICAgICAgICAgIDwvc3R5bGU+CiAgICAgICAgCjwvaGVhZD4KPGJvZHk+ICAgIAogICAgCiAgICAgICAgICAgIDxkaXYgY2xhc3M9ImZvbGl1bS1tYXAiIGlkPSJtYXBfODY4Y2I0ZTE2ZGQzNDI5MmIzYmUyM2M2MTFkMDIyOGIiID48L2Rpdj4KICAgICAgICAKPC9ib2R5Pgo8c2NyaXB0PiAgICAKICAgIAogICAgICAgICAgICB2YXIgbWFwXzg2OGNiNGUxNmRkMzQyOTJiM2JlMjNjNjExZDAyMjhiID0gTC5tYXAoCiAgICAgICAgICAgICAgICAibWFwXzg2OGNiNGUxNmRkMzQyOTJiM2JlMjNjNjExZDAyMjhiIiwKICAgICAgICAgICAgICAgIHsKICAgICAgICAgICAgICAgICAgICBjZW50ZXI6IFs1MS41MDg1MywgLTAuMTI1NzQwMDAwMDAwMDAwMDJdLAogICAgICAgICAgICAgICAgICAgIGNyczogTC5DUlMuRVBTRzM4NTcsCiAgICAgICAgICAgICAgICAgICAgem9vbTogMywKICAgICAgICAgICAgICAgICAgICB6b29tQ29udHJvbDogdHJ1ZSwKICAgICAgICAgICAgICAgICAgICBwcmVmZXJDYW52YXM6IGZhbHNlLAogICAgICAgICAgICAgICAgICAgIHdvcmxkQ29weUp1bXA6IHRydWUsCiAgICAgICAgICAgICAgICAgICAgbm9XcmFwOiBmYWxzZSwKICAgICAgICAgICAgICAgIH0KICAgICAgICAgICAgKTsKCiAgICAgICAgICAgIAoKICAgICAgICAKICAgIAogICAgICAgICAgICB2YXIgdGlsZV9sYXllcl9jYTQyYjljNDNhZWY0ZGUyYWJhZWZkNmEwYmZmM2ExYiA9IEwudGlsZUxheWVyKAogICAgICAgICAgICAgICAgImh0dHBzOi8ve3N9LnRpbGUub3BlbnN0cmVldG1hcC5vcmcve3p9L3t4fS97eX0ucG5nIiwKICAgICAgICAgICAgICAgIHsiYXR0cmlidXRpb24iOiAiRGF0YSBieSBcdTAwMjZjb3B5OyBcdTAwM2NhIGhyZWY9XCJodHRwOi8vb3BlbnN0cmVldG1hcC5vcmdcIlx1MDAzZU9wZW5TdHJlZXRNYXBcdTAwM2MvYVx1MDAzZSwgdW5kZXIgXHUwMDNjYSBocmVmPVwiaHR0cDovL3d3dy5vcGVuc3RyZWV0bWFwLm9yZy9jb3B5cmlnaHRcIlx1MDAzZU9EYkxcdTAwM2MvYVx1MDAzZS4iLCAiZGV0ZWN0UmV0aW5hIjogZmFsc2UsICJtYXhOYXRpdmVab29tIjogMTgsICJtYXhab29tIjogMTgsICJtaW5ab29tIjogMCwgIm5vV3JhcCI6IGZhbHNlLCAib3BhY2l0eSI6IDEsICJzdWJkb21haW5zIjogImFiYyIsICJ0bXMiOiBmYWxzZX0KICAgICAgICAgICAgKS5hZGRUbyhtYXBfODY4Y2I0ZTE2ZGQzNDI5MmIzYmUyM2M2MTFkMDIyOGIpOwogICAgICAgIAogICAgCiAgICAgICAgICAgIHZhciBtYXJrZXJfZTk2MTk0MmU0NTIwNDgwOGJkMWNmMmFlMjVmM2U3ODkgPSBMLm1hcmtlcigKICAgICAgICAgICAgICAgIFszNy43NzQ5MywgLTEyMi40MTk0Ml0sCiAgICAgICAgICAgICAgICB7fQogICAgICAgICAgICApLmFkZFRvKG1hcF84NjhjYjRlMTZkZDM0MjkyYjNiZTIzYzYxMWQwMjI4Yik7CiAgICAgICAgCiAgICAKICAgICAgICB2YXIgcG9wdXBfZDVhNmEzNTQ2NjY3NGM4ZWJhYWNhNjYzNjRmZDQ3YzkgPSBMLnBvcHVwKHsibWF4V2lkdGgiOiAiMTAwJSJ9KTsKCiAgICAgICAgCiAgICAgICAgICAgIHZhciBodG1sX2EwNzM1NzkwMzY0ZTQ1MmE4NGFjYTM1YjczYTUyMDQ2ID0gJChgPGRpdiBpZD0iaHRtbF9hMDczNTc5MDM2NGU0NTJhODRhY2EzNWI3M2E1MjA0NiIgc3R5bGU9IndpZHRoOiAxMDAuMCU7IGhlaWdodDogMTAwLjAlOyI+PHN0cm9uZz5TYW4gRnJhbmNpc2NvPC9zdHJvbmc+PHA+TGF0aXR1ZGU6IDM3Ljc3NDkzPC9wPjxwPkxvbmdpdHVkZTogLTEyMi40MTk0MjwvcD48L2Rpdj5gKVswXTsKICAgICAgICAgICAgcG9wdXBfZDVhNmEzNTQ2NjY3NGM4ZWJhYWNhNjYzNjRmZDQ3Yzkuc2V0Q29udGVudChodG1sX2EwNzM1NzkwMzY0ZTQ1MmE4NGFjYTM1YjczYTUyMDQ2KTsKICAgICAgICAKCiAgICAgICAgbWFya2VyX2U5NjE5NDJlNDUyMDQ4MDhiZDFjZjJhZTI1ZjNlNzg5LmJpbmRQb3B1cChwb3B1cF9kNWE2YTM1NDY2Njc0YzhlYmFhY2E2NjM2NGZkNDdjOSkKICAgICAgICA7CgogICAgICAgIAogICAgCiAgICAKICAgICAgICAgICAgbWFya2VyX2U5NjE5NDJlNDUyMDQ4MDhiZDFjZjJhZTI1ZjNlNzg5LmJpbmRUb29sdGlwKAogICAgICAgICAgICAgICAgYDxkaXY+CiAgICAgICAgICAgICAgICAgICAgIFNhbiBGcmFuY2lzY28KICAgICAgICAgICAgICAgICA8L2Rpdj5gLAogICAgICAgICAgICAgICAgeyJzdGlja3kiOiB0cnVlfQogICAgICAgICAgICApOwogICAgICAgIAogICAgCiAgICAgICAgICAgIHZhciBtYXJrZXJfYmM0ZjI5ODJkZGJlNDE3ZWE5MTQzYzUxYzk1NjYxYjYgPSBMLm1hcmtlcigKICAgICAgICAgICAgICAgIFszOS43MzkxNSwgLTEwNC45ODQ3XSwKICAgICAgICAgICAgICAgIHt9CiAgICAgICAgICAgICkuYWRkVG8obWFwXzg2OGNiNGUxNmRkMzQyOTJiM2JlMjNjNjExZDAyMjhiKTsKICAgICAgICAKICAgIAogICAgICAgIHZhciBwb3B1cF9iMjg4NjU5M2JkOWM0ZTE2ODFhNjJkZWYxMTZmN2IyNiA9IEwucG9wdXAoeyJtYXhXaWR0aCI6ICIxMDAlIn0pOwoKICAgICAgICAKICAgICAgICAgICAgdmFyIGh0bWxfMWY1NGE2MzE5NTIwNDRjNGEwOTQzYmI2ODUwNjhmNGMgPSAkKGA8ZGl2IGlkPSJodG1sXzFmNTRhNjMxOTUyMDQ0YzRhMDk0M2JiNjg1MDY4ZjRjIiBzdHlsZT0id2lkdGg6IDEwMC4wJTsgaGVpZ2h0OiAxMDAuMCU7Ij48c3Ryb25nPkRlbnZlcjwvc3Ryb25nPjxwPkxhdGl0dWRlOiAzOS43MzkxNTwvcD48cD5Mb25naXR1ZGU6IC0xMDQuOTg0NzwvcD48L2Rpdj5gKVswXTsKICAgICAgICAgICAgcG9wdXBfYjI4ODY1OTNiZDljNGUxNjgxYTYyZGVmMTE2ZjdiMjYuc2V0Q29udGVudChodG1sXzFmNTRhNjMxOTUyMDQ0YzRhMDk0M2JiNjg1MDY4ZjRjKTsKICAgICAgICAKCiAgICAgICAgbWFya2VyX2JjNGYyOTgyZGRiZTQxN2VhOTE0M2M1MWM5NTY2MWI2LmJpbmRQb3B1cChwb3B1cF9iMjg4NjU5M2JkOWM0ZTE2ODFhNjJkZWYxMTZmN2IyNikKICAgICAgICA7CgogICAgICAgIAogICAgCiAgICAKICAgICAgICAgICAgbWFya2VyX2JjNGYyOTgyZGRiZTQxN2VhOTE0M2M1MWM5NTY2MWI2LmJpbmRUb29sdGlwKAogICAgICAgICAgICAgICAgYDxkaXY+CiAgICAgICAgICAgICAgICAgICAgIERlbnZlcgogICAgICAgICAgICAgICAgIDwvZGl2PmAsCiAgICAgICAgICAgICAgICB7InN0aWNreSI6IHRydWV9CiAgICAgICAgICAgICk7CiAgICAgICAgCiAgICAKICAgICAgICAgICAgdmFyIG1hcmtlcl8wYjViYjYzZWY0NTg0OTVkYjU2N2JhZGJlZjFkNDljZSA9IEwubWFya2VyKAogICAgICAgICAgICAgICAgWzQxLjg1MDAzLCAtODcuNjUwMDVdLAogICAgICAgICAgICAgICAge30KICAgICAgICAgICAgKS5hZGRUbyhtYXBfODY4Y2I0ZTE2ZGQzNDI5MmIzYmUyM2M2MTFkMDIyOGIpOwogICAgICAgIAogICAgCiAgICAgICAgdmFyIHBvcHVwX2QzNGM1NjgyMjhkMDRiZmM5ZmNhNWEzM2QwM2VjMWQxID0gTC5wb3B1cCh7Im1heFdpZHRoIjogIjEwMCUifSk7CgogICAgICAgIAogICAgICAgICAgICB2YXIgaHRtbF81MGU3MjBhZjllNTA0ZjQ4Yjg2OTBkNTMyYzlhODBlMSA9ICQoYDxkaXYgaWQ9Imh0bWxfNTBlNzIwYWY5ZTUwNGY0OGI4NjkwZDUzMmM5YTgwZTEiIHN0eWxlPSJ3aWR0aDogMTAwLjAlOyBoZWlnaHQ6IDEwMC4wJTsiPjxzdHJvbmc+Q2hpY2Fnbzwvc3Ryb25nPjxwPkxhdGl0dWRlOiA0MS44NTAwMzwvcD48cD5Mb25naXR1ZGU6IC04Ny42NTAwNTwvcD48L2Rpdj5gKVswXTsKICAgICAgICAgICAgcG9wdXBfZDM0YzU2ODIyOGQwNGJmYzlmY2E1YTMzZDAzZWMxZDEuc2V0Q29udGVudChodG1sXzUwZTcyMGFmOWU1MDRmNDhiODY5MGQ1MzJjOWE4MGUxKTsKICAgICAgICAKCiAgICAgICAgbWFya2VyXzBiNWJiNjNlZjQ1ODQ5NWRiNTY3YmFkYmVmMWQ0OWNlLmJpbmRQb3B1cChwb3B1cF9kMzRjNTY4MjI4ZDA0YmZjOWZjYTVhMzNkMDNlYzFkMSkKICAgICAgICA7CgogICAgICAgIAogICAgCiAgICAKICAgICAgICAgICAgbWFya2VyXzBiNWJiNjNlZjQ1ODQ5NWRiNTY3YmFkYmVmMWQ0OWNlLmJpbmRUb29sdGlwKAogICAgICAgICAgICAgICAgYDxkaXY+CiAgICAgICAgICAgICAgICAgICAgIENoaWNhZ28KICAgICAgICAgICAgICAgICA8L2Rpdj5gLAogICAgICAgICAgICAgICAgeyJzdGlja3kiOiB0cnVlfQogICAgICAgICAgICApOwogICAgICAgIAogICAgCiAgICAgICAgICAgIHZhciBtYXJrZXJfMWU5YWE2NzRkYmYwNDBmZDg4YTNlOGViMmU4ODRkZWIgPSBMLm1hcmtlcigKICAgICAgICAgICAgICAgIFszOS45NjExOCwgLTgyLjk5ODc5XSwKICAgICAgICAgICAgICAgIHt9CiAgICAgICAgICAgICkuYWRkVG8obWFwXzg2OGNiNGUxNmRkMzQyOTJiM2JlMjNjNjExZDAyMjhiKTsKICAgICAgICAKICAgIAogICAgICAgIHZhciBwb3B1cF8wNjM2M2NlMGZiMTU0NGYzODBiNGVlYTkwM2VhZTRjOCA9IEwucG9wdXAoeyJtYXhXaWR0aCI6ICIxMDAlIn0pOwoKICAgICAgICAKICAgICAgICAgICAgdmFyIGh0bWxfODUyYjZmNzVhMzY2NDRmNmJjYzEzNWQ3YmE1ZTg0NjggPSAkKGA8ZGl2IGlkPSJodG1sXzg1MmI2Zjc1YTM2NjQ0ZjZiY2MxMzVkN2JhNWU4NDY4IiBzdHlsZT0id2lkdGg6IDEwMC4wJTsgaGVpZ2h0OiAxMDAuMCU7Ij48c3Ryb25nPkNvbHVtYnVzPC9zdHJvbmc+PHA+TGF0aXR1ZGU6IDM5Ljk2MTE4PC9wPjxwPkxvbmdpdHVkZTogLTgyLjk5ODc5PC9wPjwvZGl2PmApWzBdOwogICAgICAgICAgICBwb3B1cF8wNjM2M2NlMGZiMTU0NGYzODBiNGVlYTkwM2VhZTRjOC5zZXRDb250ZW50KGh0bWxfODUyYjZmNzVhMzY2NDRmNmJjYzEzNWQ3YmE1ZTg0NjgpOwogICAgICAgIAoKICAgICAgICBtYXJrZXJfMWU5YWE2NzRkYmYwNDBmZDg4YTNlOGViMmU4ODRkZWIuYmluZFBvcHVwKHBvcHVwXzA2MzYzY2UwZmIxNTQ0ZjM4MGI0ZWVhOTAzZWFlNGM4KQogICAgICAgIDsKCiAgICAgICAgCiAgICAKICAgIAogICAgICAgICAgICBtYXJrZXJfMWU5YWE2NzRkYmYwNDBmZDg4YTNlOGViMmU4ODRkZWIuYmluZFRvb2x0aXAoCiAgICAgICAgICAgICAgICBgPGRpdj4KICAgICAgICAgICAgICAgICAgICAgQ29sdW1idXMKICAgICAgICAgICAgICAgICA8L2Rpdj5gLAogICAgICAgICAgICAgICAgeyJzdGlja3kiOiB0cnVlfQogICAgICAgICAgICApOwogICAgICAgIAogICAgCiAgICAgICAgICAgIHZhciBtYXJrZXJfNzAzMDZjOWY1YzVlNDllOWJkYWRiODBjNGFhOWFjMDEgPSBMLm1hcmtlcigKICAgICAgICAgICAgICAgIFs0MC42ODE0OTAwMDAwMDAwMDQsIC03My44MzY1Ml0sCiAgICAgICAgICAgICAgICB7fQogICAgICAgICAgICApLmFkZFRvKG1hcF84NjhjYjRlMTZkZDM0MjkyYjNiZTIzYzYxMWQwMjI4Yik7CiAgICAgICAgCiAgICAKICAgICAgICB2YXIgcG9wdXBfOThhODUwOWJhMDU1NGQ3YTg4MzE3Yzk0OTNiYzRiZWEgPSBMLnBvcHVwKHsibWF4V2lkdGgiOiAiMTAwJSJ9KTsKCiAgICAgICAgCiAgICAgICAgICAgIHZhciBodG1sX2E5ZDBlZDU5OTA4NzRlMjk4YmY3OWIzZDViYmIwNmYzID0gJChgPGRpdiBpZD0iaHRtbF9hOWQwZWQ1OTkwODc0ZTI5OGJmNzliM2Q1YmJiMDZmMyIgc3R5bGU9IndpZHRoOiAxMDAuMCU7IGhlaWdodDogMTAwLjAlOyI+PHN0cm9uZz5RdWVlbnM8L3N0cm9uZz48cD5MYXRpdHVkZTogNDAuNjgxNDkwMDAwMDAwMDA0PC9wPjxwPkxvbmdpdHVkZTogLTczLjgzNjUyPC9wPjwvZGl2PmApWzBdOwogICAgICAgICAgICBwb3B1cF85OGE4NTA5YmEwNTU0ZDdhODgzMTdjOTQ5M2JjNGJlYS5zZXRDb250ZW50KGh0bWxfYTlkMGVkNTk5MDg3NGUyOThiZjc5YjNkNWJiYjA2ZjMpOwogICAgICAgIAoKICAgICAgICBtYXJrZXJfNzAzMDZjOWY1YzVlNDllOWJkYWRiODBjNGFhOWFjMDEuYmluZFBvcHVwKHBvcHVwXzk4YTg1MDliYTA1NTRkN2E4ODMxN2M5NDkzYmM0YmVhKQogICAgICAgIDsKCiAgICAgICAgCiAgICAKICAgIAogICAgICAgICAgICBtYXJrZXJfNzAzMDZjOWY1YzVlNDllOWJkYWRiODBjNGFhOWFjMDEuYmluZFRvb2x0aXAoCiAgICAgICAgICAgICAgICBgPGRpdj4KICAgICAgICAgICAgICAgICAgICAgUXVlZW5zCiAgICAgICAgICAgICAgICAgPC9kaXY+YCwKICAgICAgICAgICAgICAgIHsic3RpY2t5IjogdHJ1ZX0KICAgICAgICAgICAgKTsKICAgICAgICAKICAgIAogICAgICAgICAgICB2YXIgbWFya2VyXzk1NWMxMmU5NmQ2OTQ5YTRhOGIyMjIxY2I0MWUxMzcxID0gTC5tYXJrZXIoCiAgICAgICAgICAgICAgICBbNTMuMzMzMDU5OTk5OTk5OTk2LCAtNi4yNDg4OV0sCiAgICAgICAgICAgICAgICB7fQogICAgICAgICAgICApLmFkZFRvKG1hcF84NjhjYjRlMTZkZDM0MjkyYjNiZTIzYzYxMWQwMjI4Yik7CiAgICAgICAgCiAgICAKICAgICAgICB2YXIgcG9wdXBfOTkxZTAxMzBhYTY3NDJjMWJjNzQwYzBkYTZhNDU1ZDAgPSBMLnBvcHVwKHsibWF4V2lkdGgiOiAiMTAwJSJ9KTsKCiAgICAgICAgCiAgICAgICAgICAgIHZhciBodG1sX2M2MzI0NWNlOTJlNTQ3OWE5NTRmOTFlNjc4MzA0YjM1ID0gJChgPGRpdiBpZD0iaHRtbF9jNjMyNDVjZTkyZTU0NzlhOTU0ZjkxZTY3ODMwNGIzNSIgc3R5bGU9IndpZHRoOiAxMDAuMCU7IGhlaWdodDogMTAwLjAlOyI+PHN0cm9uZz5EdWJsaW48L3N0cm9uZz48cD5MYXRpdHVkZTogNTMuMzMzMDU5OTk5OTk5OTk2PC9wPjxwPkxvbmdpdHVkZTogLTYuMjQ4ODk8L3A+PC9kaXY+YClbMF07CiAgICAgICAgICAgIHBvcHVwXzk5MWUwMTMwYWE2NzQyYzFiYzc0MGMwZGE2YTQ1NWQwLnNldENvbnRlbnQoaHRtbF9jNjMyNDVjZTkyZTU0NzlhOTU0ZjkxZTY3ODMwNGIzNSk7CiAgICAgICAgCgogICAgICAgIG1hcmtlcl85NTVjMTJlOTZkNjk0OWE0YThiMjIyMWNiNDFlMTM3MS5iaW5kUG9wdXAocG9wdXBfOTkxZTAxMzBhYTY3NDJjMWJjNzQwYzBkYTZhNDU1ZDApCiAgICAgICAgOwoKICAgICAgICAKICAgIAogICAgCiAgICAgICAgICAgIG1hcmtlcl85NTVjMTJlOTZkNjk0OWE0YThiMjIyMWNiNDFlMTM3MS5iaW5kVG9vbHRpcCgKICAgICAgICAgICAgICAgIGA8ZGl2PgogICAgICAgICAgICAgICAgICAgICBEdWJsaW4KICAgICAgICAgICAgICAgICA8L2Rpdj5gLAogICAgICAgICAgICAgICAgeyJzdGlja3kiOiB0cnVlfQogICAgICAgICAgICApOwogICAgICAgIAogICAgCiAgICAgICAgICAgIHZhciBtYXJrZXJfMDQzNDdkZTIyMGZmNGE2YTg0YmIzOWJmZDJhOGNjNDMgPSBMLm1hcmtlcigKICAgICAgICAgICAgICAgIFs1NS44NjUxNSwgLTQuMjU3NjMwMDAwMDAwMDAxXSwKICAgICAgICAgICAgICAgIHt9CiAgICAgICAgICAgICkuYWRkVG8obWFwXzg2OGNiNGUxNmRkMzQyOTJiM2JlMjNjNjExZDAyMjhiKTsKICAgICAgICAKICAgIAogICAgICAgIHZhciBwb3B1cF84ZWJkYzA0MTVkNTU0MjY0YjA0NjVmMWYyYWNjMDI5MSA9IEwucG9wdXAoeyJtYXhXaWR0aCI6ICIxMDAlIn0pOwoKICAgICAgICAKICAgICAgICAgICAgdmFyIGh0bWxfZGNkZDg5MTA0YTM1NDExYWIxZjk5MjgxNmQzMDkwMGEgPSAkKGA8ZGl2IGlkPSJodG1sX2RjZGQ4OTEwNGEzNTQxMWFiMWY5OTI4MTZkMzA5MDBhIiBzdHlsZT0id2lkdGg6IDEwMC4wJTsgaGVpZ2h0OiAxMDAuMCU7Ij48c3Ryb25nPkdsYXNnb3c8L3N0cm9uZz48cD5MYXRpdHVkZTogNTUuODY1MTU8L3A+PHA+TG9uZ2l0dWRlOiAtNC4yNTc2MzAwMDAwMDAwMDE8L3A+PC9kaXY+YClbMF07CiAgICAgICAgICAgIHBvcHVwXzhlYmRjMDQxNWQ1NTQyNjRiMDQ2NWYxZjJhY2MwMjkxLnNldENvbnRlbnQoaHRtbF9kY2RkODkxMDRhMzU0MTFhYjFmOTkyODE2ZDMwOTAwYSk7CiAgICAgICAgCgogICAgICAgIG1hcmtlcl8wNDM0N2RlMjIwZmY0YTZhODRiYjM5YmZkMmE4Y2M0My5iaW5kUG9wdXAocG9wdXBfOGViZGMwNDE1ZDU1NDI2NGIwNDY1ZjFmMmFjYzAyOTEpCiAgICAgICAgOwoKICAgICAgICAKICAgIAogICAgCiAgICAgICAgICAgIG1hcmtlcl8wNDM0N2RlMjIwZmY0YTZhODRiYjM5YmZkMmE4Y2M0My5iaW5kVG9vbHRpcCgKICAgICAgICAgICAgICAgIGA8ZGl2PgogICAgICAgICAgICAgICAgICAgICBHbGFzZ293CiAgICAgICAgICAgICAgICAgPC9kaXY+YCwKICAgICAgICAgICAgICAgIHsic3RpY2t5IjogdHJ1ZX0KICAgICAgICAgICAgKTsKICAgICAgICAKICAgIAogICAgICAgICAgICB2YXIgbWFya2VyX2E0MTEwODE1ZTQyNzQ5OGFiZjc4ZjRjN2YxNTNiZTE5ID0gTC5tYXJrZXIoCiAgICAgICAgICAgICAgICBbNTMuNDEwNTgsIC0yLjk3Nzk0MDAwMDAwMDAwMDNdLAogICAgICAgICAgICAgICAge30KICAgICAgICAgICAgKS5hZGRUbyhtYXBfODY4Y2I0ZTE2ZGQzNDI5MmIzYmUyM2M2MTFkMDIyOGIpOwogICAgICAgIAogICAgCiAgICAgICAgdmFyIHBvcHVwXzY0OGIxNzBhMjk4MzRiZGY5NjkyYjFlNzdlMGE5MjJlID0gTC5wb3B1cCh7Im1heFdpZHRoIjogIjEwMCUifSk7CgogICAgICAgIAogICAgICAgICAgICB2YXIgaHRtbF8zMTg0NTc5YWZmZTM0M2IxOGFjYzIwNDA4ZTg0ZGQ2ZCA9ICQoYDxkaXYgaWQ9Imh0bWxfMzE4NDU3OWFmZmUzNDNiMThhY2MyMDQwOGU4NGRkNmQiIHN0eWxlPSJ3aWR0aDogMTAwLjAlOyBoZWlnaHQ6IDEwMC4wJTsiPjxzdHJvbmc+TGl2ZXJwb29sPC9zdHJvbmc+PHA+TGF0aXR1ZGU6IDUzLjQxMDU4PC9wPjxwPkxvbmdpdHVkZTogLTIuOTc3OTQwMDAwMDAwMDAwMzwvcD48L2Rpdj5gKVswXTsKICAgICAgICAgICAgcG9wdXBfNjQ4YjE3MGEyOTgzNGJkZjk2OTJiMWU3N2UwYTkyMmUuc2V0Q29udGVudChodG1sXzMxODQ1NzlhZmZlMzQzYjE4YWNjMjA0MDhlODRkZDZkKTsKICAgICAgICAKCiAgICAgICAgbWFya2VyX2E0MTEwODE1ZTQyNzQ5OGFiZjc4ZjRjN2YxNTNiZTE5LmJpbmRQb3B1cChwb3B1cF82NDhiMTcwYTI5ODM0YmRmOTY5MmIxZTc3ZTBhOTIyZSkKICAgICAgICA7CgogICAgICAgIAogICAgCiAgICAKICAgICAgICAgICAgbWFya2VyX2E0MTEwODE1ZTQyNzQ5OGFiZjc4ZjRjN2YxNTNiZTE5LmJpbmRUb29sdGlwKAogICAgICAgICAgICAgICAgYDxkaXY+CiAgICAgICAgICAgICAgICAgICAgIExpdmVycG9vbAogICAgICAgICAgICAgICAgIDwvZGl2PmAsCiAgICAgICAgICAgICAgICB7InN0aWNreSI6IHRydWV9CiAgICAgICAgICAgICk7CiAgICAgICAgCiAgICAKICAgICAgICAgICAgdmFyIG1hcmtlcl9lYTVmNmRmMGE0MzE0ZTg0OWY1ZjU1MTk1ZmY3ZjIwMiA9IEwubWFya2VyKAogICAgICAgICAgICAgICAgWzUyLjQ4MTQxOTk5OTk5OTk5LCAtMS44OTk4M10sCiAgICAgICAgICAgICAgICB7fQogICAgICAgICAgICApLmFkZFRvKG1hcF84NjhjYjRlMTZkZDM0MjkyYjNiZTIzYzYxMWQwMjI4Yik7CiAgICAgICAgCiAgICAKICAgICAgICB2YXIgcG9wdXBfY2Q0MjA3NWJhODg3NGQ3YjhjNGMxYzZhNDU1YzM4OWQgPSBMLnBvcHVwKHsibWF4V2lkdGgiOiAiMTAwJSJ9KTsKCiAgICAgICAgCiAgICAgICAgICAgIHZhciBodG1sX2FmZGMzNDc5N2QyODQ3YjFiNWIxNjQ1MjVmOGJiZWQwID0gJChgPGRpdiBpZD0iaHRtbF9hZmRjMzQ3OTdkMjg0N2IxYjViMTY0NTI1ZjhiYmVkMCIgc3R5bGU9IndpZHRoOiAxMDAuMCU7IGhlaWdodDogMTAwLjAlOyI+PHN0cm9uZz5CaXJtaW5naGFtPC9zdHJvbmc+PHA+TGF0aXR1ZGU6IDUyLjQ4MTQxOTk5OTk5OTk5PC9wPjxwPkxvbmdpdHVkZTogLTEuODk5ODM8L3A+PC9kaXY+YClbMF07CiAgICAgICAgICAgIHBvcHVwX2NkNDIwNzViYTg4NzRkN2I4YzRjMWM2YTQ1NWMzODlkLnNldENvbnRlbnQoaHRtbF9hZmRjMzQ3OTdkMjg0N2IxYjViMTY0NTI1ZjhiYmVkMCk7CiAgICAgICAgCgogICAgICAgIG1hcmtlcl9lYTVmNmRmMGE0MzE0ZTg0OWY1ZjU1MTk1ZmY3ZjIwMi5iaW5kUG9wdXAocG9wdXBfY2Q0MjA3NWJhODg3NGQ3YjhjNGMxYzZhNDU1YzM4OWQpCiAgICAgICAgOwoKICAgICAgICAKICAgIAogICAgCiAgICAgICAgICAgIG1hcmtlcl9lYTVmNmRmMGE0MzE0ZTg0OWY1ZjU1MTk1ZmY3ZjIwMi5iaW5kVG9vbHRpcCgKICAgICAgICAgICAgICAgIGA8ZGl2PgogICAgICAgICAgICAgICAgICAgICBCaXJtaW5naGFtCiAgICAgICAgICAgICAgICAgPC9kaXY+YCwKICAgICAgICAgICAgICAgIHsic3RpY2t5IjogdHJ1ZX0KICAgICAgICAgICAgKTsKICAgICAgICAKICAgIAogICAgICAgICAgICB2YXIgbWFya2VyXzllNzA3NDNiYzIwYjRiZjU5MjVkOGIxOGM1OTE0NGU2ID0gTC5tYXJrZXIoCiAgICAgICAgICAgICAgICBbNTEuNTA4NTMsIC0wLjEyNTc0MDAwMDAwMDAwMDAyXSwKICAgICAgICAgICAgICAgIHt9CiAgICAgICAgICAgICkuYWRkVG8obWFwXzg2OGNiNGUxNmRkMzQyOTJiM2JlMjNjNjExZDAyMjhiKTsKICAgICAgICAKICAgIAogICAgICAgIHZhciBwb3B1cF9jZWFlZjY4MDcxOTA0N2Y2YmQzOTc3ZmI2ZDFhZjI5MSA9IEwucG9wdXAoeyJtYXhXaWR0aCI6ICIxMDAlIn0pOwoKICAgICAgICAKICAgICAgICAgICAgdmFyIGh0bWxfNWE1ZDM5N2NiZmE2NDIzMjkyNzcxMzUyMmYxMDJkZjUgPSAkKGA8ZGl2IGlkPSJodG1sXzVhNWQzOTdjYmZhNjQyMzI5Mjc3MTM1MjJmMTAyZGY1IiBzdHlsZT0id2lkdGg6IDEwMC4wJTsgaGVpZ2h0OiAxMDAuMCU7Ij48c3Ryb25nPkxvbmRvbjwvc3Ryb25nPjxwPkxhdGl0dWRlOiA1MS41MDg1MzwvcD48cD5Mb25naXR1ZGU6IC0wLjEyNTc0MDAwMDAwMDAwMDAyPC9wPjwvZGl2PmApWzBdOwogICAgICAgICAgICBwb3B1cF9jZWFlZjY4MDcxOTA0N2Y2YmQzOTc3ZmI2ZDFhZjI5MS5zZXRDb250ZW50KGh0bWxfNWE1ZDM5N2NiZmE2NDIzMjkyNzcxMzUyMmYxMDJkZjUpOwogICAgICAgIAoKICAgICAgICBtYXJrZXJfOWU3MDc0M2JjMjBiNGJmNTkyNWQ4YjE4YzU5MTQ0ZTYuYmluZFBvcHVwKHBvcHVwX2NlYWVmNjgwNzE5MDQ3ZjZiZDM5NzdmYjZkMWFmMjkxKQogICAgICAgIDsKCiAgICAgICAgCiAgICAKICAgIAogICAgICAgICAgICBtYXJrZXJfOWU3MDc0M2JjMjBiNGJmNTkyNWQ4YjE4YzU5MTQ0ZTYuYmluZFRvb2x0aXAoCiAgICAgICAgICAgICAgICBgPGRpdj4KICAgICAgICAgICAgICAgICAgICAgTG9uZG9uCiAgICAgICAgICAgICAgICAgPC9kaXY+YCwKICAgICAgICAgICAgICAgIHsic3RpY2t5IjogdHJ1ZX0KICAgICAgICAgICAgKTsKICAgICAgICAKICAgIAogICAgICAgICAgICB2YXIgbWFya2VyX2Q4ODVjMjViZmJlNDQzYTU4MjFkNGY0N2QxZjczNDlkID0gTC5tYXJrZXIoCiAgICAgICAgICAgICAgICBbNDguODUzNDEsIDIuMzQ4OF0sCiAgICAgICAgICAgICAgICB7fQogICAgICAgICAgICApLmFkZFRvKG1hcF84NjhjYjRlMTZkZDM0MjkyYjNiZTIzYzYxMWQwMjI4Yik7CiAgICAgICAgCiAgICAKICAgICAgICB2YXIgcG9wdXBfMTJhYmVjNTYzYjFhNDlkM2JlNDk5ZGQ3M2QyNzQzZGIgPSBMLnBvcHVwKHsibWF4V2lkdGgiOiAiMTAwJSJ9KTsKCiAgICAgICAgCiAgICAgICAgICAgIHZhciBodG1sX2Q4YjdmOGQxZDNiZDQ4YTNiNzE2NjIwY2NmODk2OThjID0gJChgPGRpdiBpZD0iaHRtbF9kOGI3ZjhkMWQzYmQ0OGEzYjcxNjYyMGNjZjg5Njk4YyIgc3R5bGU9IndpZHRoOiAxMDAuMCU7IGhlaWdodDogMTAwLjAlOyI+PHN0cm9uZz5QYXJpczwvc3Ryb25nPjxwPkxhdGl0dWRlOiA0OC44NTM0MTwvcD48cD5Mb25naXR1ZGU6IDIuMzQ4ODwvcD48L2Rpdj5gKVswXTsKICAgICAgICAgICAgcG9wdXBfMTJhYmVjNTYzYjFhNDlkM2JlNDk5ZGQ3M2QyNzQzZGIuc2V0Q29udGVudChodG1sX2Q4YjdmOGQxZDNiZDQ4YTNiNzE2NjIwY2NmODk2OThjKTsKICAgICAgICAKCiAgICAgICAgbWFya2VyX2Q4ODVjMjViZmJlNDQzYTU4MjFkNGY0N2QxZjczNDlkLmJpbmRQb3B1cChwb3B1cF8xMmFiZWM1NjNiMWE0OWQzYmU0OTlkZDczZDI3NDNkYikKICAgICAgICA7CgogICAgICAgIAogICAgCiAgICAKICAgICAgICAgICAgbWFya2VyX2Q4ODVjMjViZmJlNDQzYTU4MjFkNGY0N2QxZjczNDlkLmJpbmRUb29sdGlwKAogICAgICAgICAgICAgICAgYDxkaXY+CiAgICAgICAgICAgICAgICAgICAgIFBhcmlzCiAgICAgICAgICAgICAgICAgPC9kaXY+YCwKICAgICAgICAgICAgICAgIHsic3RpY2t5IjogdHJ1ZX0KICAgICAgICAgICAgKTsKICAgICAgICAKICAgIAogICAgICAgICAgICB2YXIgbWFya2VyXzRhOTViZTgzMDhkMTQ3NTk5MjhmYWIzMTE0YjZlNWYxID0gTC5tYXJrZXIoCiAgICAgICAgICAgICAgICBbNTMuNTUwNzMsIDkuOTkzMDJdLAogICAgICAgICAgICAgICAge30KICAgICAgICAgICAgKS5hZGRUbyhtYXBfODY4Y2I0ZTE2ZGQzNDI5MmIzYmUyM2M2MTFkMDIyOGIpOwogICAgICAgIAogICAgCiAgICAgICAgdmFyIHBvcHVwX2FiNGM4MDQxZmI2MjQ1ODM4YTJkNmJkNWIxMjI4YWYzID0gTC5wb3B1cCh7Im1heFdpZHRoIjogIjEwMCUifSk7CgogICAgICAgIAogICAgICAgICAgICB2YXIgaHRtbF9lNTFiNDllMjlhY2Y0M2Q5OWM0NGNiODIyYmFlYTE2NCA9ICQoYDxkaXYgaWQ9Imh0bWxfZTUxYjQ5ZTI5YWNmNDNkOTljNDRjYjgyMmJhZWExNjQiIHN0eWxlPSJ3aWR0aDogMTAwLjAlOyBoZWlnaHQ6IDEwMC4wJTsiPjxzdHJvbmc+SGFtYnVyZzwvc3Ryb25nPjxwPkxhdGl0dWRlOiA1My41NTA3MzwvcD48cD5Mb25naXR1ZGU6IDkuOTkzMDI8L3A+PC9kaXY+YClbMF07CiAgICAgICAgICAgIHBvcHVwX2FiNGM4MDQxZmI2MjQ1ODM4YTJkNmJkNWIxMjI4YWYzLnNldENvbnRlbnQoaHRtbF9lNTFiNDllMjlhY2Y0M2Q5OWM0NGNiODIyYmFlYTE2NCk7CiAgICAgICAgCgogICAgICAgIG1hcmtlcl80YTk1YmU4MzA4ZDE0NzU5OTI4ZmFiMzExNGI2ZTVmMS5iaW5kUG9wdXAocG9wdXBfYWI0YzgwNDFmYjYyNDU4MzhhMmQ2YmQ1YjEyMjhhZjMpCiAgICAgICAgOwoKICAgICAgICAKICAgIAogICAgCiAgICAgICAgICAgIG1hcmtlcl80YTk1YmU4MzA4ZDE0NzU5OTI4ZmFiMzExNGI2ZTVmMS5iaW5kVG9vbHRpcCgKICAgICAgICAgICAgICAgIGA8ZGl2PgogICAgICAgICAgICAgICAgICAgICBIYW1idXJnCiAgICAgICAgICAgICAgICAgPC9kaXY+YCwKICAgICAgICAgICAgICAgIHsic3RpY2t5IjogdHJ1ZX0KICAgICAgICAgICAgKTsKICAgICAgICAKICAgIAogICAgICAgICAgICB2YXIgbWFya2VyXzkwMjNlYWUyODdhZTQ3MGQ4ZjY5MWYyOTZkNTRmMTNhID0gTC5tYXJrZXIoCiAgICAgICAgICAgICAgICBbMzcuOTgzNzYsIDIzLjcyNzg0XSwKICAgICAgICAgICAgICAgIHt9CiAgICAgICAgICAgICkuYWRkVG8obWFwXzg2OGNiNGUxNmRkMzQyOTJiM2JlMjNjNjExZDAyMjhiKTsKICAgICAgICAKICAgIAogICAgICAgIHZhciBwb3B1cF8yM2MyMDU5N2JjYjk0NDQwYTBkMmJjZWI5YjA4NWMxNCA9IEwucG9wdXAoeyJtYXhXaWR0aCI6ICIxMDAlIn0pOwoKICAgICAgICAKICAgICAgICAgICAgdmFyIGh0bWxfZjIzYjkzZDcxOThhNGU1NGI2OTAyYWFhMWZkOTU4ZDggPSAkKGA8ZGl2IGlkPSJodG1sX2YyM2I5M2Q3MTk4YTRlNTRiNjkwMmFhYTFmZDk1OGQ4IiBzdHlsZT0id2lkdGg6IDEwMC4wJTsgaGVpZ2h0OiAxMDAuMCU7Ij48c3Ryb25nPkF0aGVuczwvc3Ryb25nPjxwPkxhdGl0dWRlOiAzNy45ODM3NjwvcD48cD5Mb25naXR1ZGU6IDIzLjcyNzg0PC9wPjwvZGl2PmApWzBdOwogICAgICAgICAgICBwb3B1cF8yM2MyMDU5N2JjYjk0NDQwYTBkMmJjZWI5YjA4NWMxNC5zZXRDb250ZW50KGh0bWxfZjIzYjkzZDcxOThhNGU1NGI2OTAyYWFhMWZkOTU4ZDgpOwogICAgICAgIAoKICAgICAgICBtYXJrZXJfOTAyM2VhZTI4N2FlNDcwZDhmNjkxZjI5NmQ1NGYxM2EuYmluZFBvcHVwKHBvcHVwXzIzYzIwNTk3YmNiOTQ0NDBhMGQyYmNlYjliMDg1YzE0KQogICAgICAgIDsKCiAgICAgICAgCiAgICAKICAgIAogICAgICAgICAgICBtYXJrZXJfOTAyM2VhZTI4N2FlNDcwZDhmNjkxZjI5NmQ1NGYxM2EuYmluZFRvb2x0aXAoCiAgICAgICAgICAgICAgICBgPGRpdj4KICAgICAgICAgICAgICAgICAgICAgQXRoZW5zCiAgICAgICAgICAgICAgICAgPC9kaXY+YCwKICAgICAgICAgICAgICAgIHsic3RpY2t5IjogdHJ1ZX0KICAgICAgICAgICAgKTsKICAgICAgICAKICAgIAogICAgICAgICAgICB2YXIgbWFya2VyXzdmZDVhZTg1NTM2MTRkNzI4NjU4NjMwNjI2OGJiODM2ID0gTC5tYXJrZXIoCiAgICAgICAgICAgICAgICBbMTIuNzc5NDQsIDQ1LjAzNjY3XSwKICAgICAgICAgICAgICAgIHt9CiAgICAgICAgICAgICkuYWRkVG8obWFwXzg2OGNiNGUxNmRkMzQyOTJiM2JlMjNjNjExZDAyMjhiKTsKICAgICAgICAKICAgIAogICAgICAgIHZhciBwb3B1cF84MTZmN2E1NGQ4ZGI0MzJhYmU1ZDY5NGZkOGJjMWNlYiA9IEwucG9wdXAoeyJtYXhXaWR0aCI6ICIxMDAlIn0pOwoKICAgICAgICAKICAgICAgICAgICAgdmFyIGh0bWxfNjdkYzFmZWFiZDk5NDA1Zjg3ZWY2NzVhOTYzYThhNGIgPSAkKGA8ZGl2IGlkPSJodG1sXzY3ZGMxZmVhYmQ5OTQwNWY4N2VmNjc1YTk2M2E4YTRiIiBzdHlsZT0id2lkdGg6IDEwMC4wJTsgaGVpZ2h0OiAxMDAuMCU7Ij48c3Ryb25nPkFkZW48L3N0cm9uZz48cD5MYXRpdHVkZTogMTIuNzc5NDQ8L3A+PHA+TG9uZ2l0dWRlOiA0NS4wMzY2NzwvcD48L2Rpdj5gKVswXTsKICAgICAgICAgICAgcG9wdXBfODE2ZjdhNTRkOGRiNDMyYWJlNWQ2OTRmZDhiYzFjZWIuc2V0Q29udGVudChodG1sXzY3ZGMxZmVhYmQ5OTQwNWY4N2VmNjc1YTk2M2E4YTRiKTsKICAgICAgICAKCiAgICAgICAgbWFya2VyXzdmZDVhZTg1NTM2MTRkNzI4NjU4NjMwNjI2OGJiODM2LmJpbmRQb3B1cChwb3B1cF84MTZmN2E1NGQ4ZGI0MzJhYmU1ZDY5NGZkOGJjMWNlYikKICAgICAgICA7CgogICAgICAgIAogICAgCiAgICAKICAgICAgICAgICAgbWFya2VyXzdmZDVhZTg1NTM2MTRkNzI4NjU4NjMwNjI2OGJiODM2LmJpbmRUb29sdGlwKAogICAgICAgICAgICAgICAgYDxkaXY+CiAgICAgICAgICAgICAgICAgICAgIEFkZW4KICAgICAgICAgICAgICAgICA8L2Rpdj5gLAogICAgICAgICAgICAgICAgeyJzdGlja3kiOiB0cnVlfQogICAgICAgICAgICApOwogICAgICAgIAogICAgCiAgICAgICAgICAgIHZhciBtYXJrZXJfOTI1MjU5NTEyMzMzNDZmYWJlY2ZiYjkyMTBiY2RhM2MgPSBMLm1hcmtlcigKICAgICAgICAgICAgICAgIFsxOS4wNzI4MywgNzIuODgyNjFdLAogICAgICAgICAgICAgICAge30KICAgICAgICAgICAgKS5hZGRUbyhtYXBfODY4Y2I0ZTE2ZGQzNDI5MmIzYmUyM2M2MTFkMDIyOGIpOwogICAgICAgIAogICAgCiAgICAgICAgdmFyIHBvcHVwX2FiOTQyMTg4NDU0MjQ0MDI4ZDI0MGNhNDlmNzIzZDQyID0gTC5wb3B1cCh7Im1heFdpZHRoIjogIjEwMCUifSk7CgogICAgICAgIAogICAgICAgICAgICB2YXIgaHRtbF83ZWVjMmEyNjY1NWY0ZGViYWQwOWNkZjJlMjZjZjhmYyA9ICQoYDxkaXYgaWQ9Imh0bWxfN2VlYzJhMjY2NTVmNGRlYmFkMDljZGYyZTI2Y2Y4ZmMiIHN0eWxlPSJ3aWR0aDogMTAwLjAlOyBoZWlnaHQ6IDEwMC4wJTsiPjxzdHJvbmc+TXVtYmFpPC9zdHJvbmc+PHA+TGF0aXR1ZGU6IDE5LjA3MjgzPC9wPjxwPkxvbmdpdHVkZTogNzIuODgyNjE8L3A+PC9kaXY+YClbMF07CiAgICAgICAgICAgIHBvcHVwX2FiOTQyMTg4NDU0MjQ0MDI4ZDI0MGNhNDlmNzIzZDQyLnNldENvbnRlbnQoaHRtbF83ZWVjMmEyNjY1NWY0ZGViYWQwOWNkZjJlMjZjZjhmYyk7CiAgICAgICAgCgogICAgICAgIG1hcmtlcl85MjUyNTk1MTIzMzM0NmZhYmVjZmJiOTIxMGJjZGEzYy5iaW5kUG9wdXAocG9wdXBfYWI5NDIxODg0NTQyNDQwMjhkMjQwY2E0OWY3MjNkNDIpCiAgICAgICAgOwoKICAgICAgICAKICAgIAogICAgCiAgICAgICAgICAgIG1hcmtlcl85MjUyNTk1MTIzMzM0NmZhYmVjZmJiOTIxMGJjZGEzYy5iaW5kVG9vbHRpcCgKICAgICAgICAgICAgICAgIGA8ZGl2PgogICAgICAgICAgICAgICAgICAgICBNdW1iYWkKICAgICAgICAgICAgICAgICA8L2Rpdj5gLAogICAgICAgICAgICAgICAgeyJzdGlja3kiOiB0cnVlfQogICAgICAgICAgICApOwogICAgICAgIAogICAgCiAgICAgICAgICAgIHZhciBtYXJrZXJfZWFkYWY5MjZlZGZkNGU4NWIwNTFhOGFjYzFhNTUxYWYgPSBMLm1hcmtlcigKICAgICAgICAgICAgICAgIFs5LjkzOTg4LCA3Ni4yNjAyMTk5OTk5OTk5OV0sCiAgICAgICAgICAgICAgICB7fQogICAgICAgICAgICApLmFkZFRvKG1hcF84NjhjYjRlMTZkZDM0MjkyYjNiZTIzYzYxMWQwMjI4Yik7CiAgICAgICAgCiAgICAKICAgICAgICB2YXIgcG9wdXBfZGU1MWVjYTlmOTk3NGMwMzllZjQ2ZWU4MTc1Y2U0NTkgPSBMLnBvcHVwKHsibWF4V2lkdGgiOiAiMTAwJSJ9KTsKCiAgICAgICAgCiAgICAgICAgICAgIHZhciBodG1sX2QyNTQyZmYxZDI2ZTQwMGY5MTFmYzQ1NTM1YzBjMDdjID0gJChgPGRpdiBpZD0iaHRtbF9kMjU0MmZmMWQyNmU0MDBmOTExZmM0NTUzNWMwYzA3YyIgc3R5bGU9IndpZHRoOiAxMDAuMCU7IGhlaWdodDogMTAwLjAlOyI+PHN0cm9uZz5Db2NoaW48L3N0cm9uZz48cD5MYXRpdHVkZTogOS45Mzk4ODwvcD48cD5Mb25naXR1ZGU6IDc2LjI2MDIxOTk5OTk5OTk5PC9wPjwvZGl2PmApWzBdOwogICAgICAgICAgICBwb3B1cF9kZTUxZWNhOWY5OTc0YzAzOWVmNDZlZTgxNzVjZTQ1OS5zZXRDb250ZW50KGh0bWxfZDI1NDJmZjFkMjZlNDAwZjkxMWZjNDU1MzVjMGMwN2MpOwogICAgICAgIAoKICAgICAgICBtYXJrZXJfZWFkYWY5MjZlZGZkNGU4NWIwNTFhOGFjYzFhNTUxYWYuYmluZFBvcHVwKHBvcHVwX2RlNTFlY2E5Zjk5NzRjMDM5ZWY0NmVlODE3NWNlNDU5KQogICAgICAgIDsKCiAgICAgICAgCiAgICAKICAgIAogICAgICAgICAgICBtYXJrZXJfZWFkYWY5MjZlZGZkNGU4NWIwNTFhOGFjYzFhNTUxYWYuYmluZFRvb2x0aXAoCiAgICAgICAgICAgICAgICBgPGRpdj4KICAgICAgICAgICAgICAgICAgICAgQ29jaGluCiAgICAgICAgICAgICAgICAgPC9kaXY+YCwKICAgICAgICAgICAgICAgIHsic3RpY2t5IjogdHJ1ZX0KICAgICAgICAgICAgKTsKICAgICAgICAKICAgIAogICAgICAgICAgICB2YXIgbWFya2VyX2MzMTk1NTgwOTAzZTQyNTZiODE2MjBkOTgxOWIwNjVjID0gTC5tYXJrZXIoCiAgICAgICAgICAgICAgICBbMTMuMDg3ODQsIDgwLjI3ODQ3XSwKICAgICAgICAgICAgICAgIHt9CiAgICAgICAgICAgICkuYWRkVG8obWFwXzg2OGNiNGUxNmRkMzQyOTJiM2JlMjNjNjExZDAyMjhiKTsKICAgICAgICAKICAgIAogICAgICAgIHZhciBwb3B1cF9iZmZhMWVjYTNmMTI0MTYzYjJkNzg3NzEyZDhjZTU1ZCA9IEwucG9wdXAoeyJtYXhXaWR0aCI6ICIxMDAlIn0pOwoKICAgICAgICAKICAgICAgICAgICAgdmFyIGh0bWxfYzk4MjdiMGU0YmU1NGNjZWEyZjFiNzI2MTFlNjZjZjEgPSAkKGA8ZGl2IGlkPSJodG1sX2M5ODI3YjBlNGJlNTRjY2VhMmYxYjcyNjExZTY2Y2YxIiBzdHlsZT0id2lkdGg6IDEwMC4wJTsgaGVpZ2h0OiAxMDAuMCU7Ij48c3Ryb25nPkNoZW5uYWk8L3N0cm9uZz48cD5MYXRpdHVkZTogMTMuMDg3ODQ8L3A+PHA+TG9uZ2l0dWRlOiA4MC4yNzg0NzwvcD48L2Rpdj5gKVswXTsKICAgICAgICAgICAgcG9wdXBfYmZmYTFlY2EzZjEyNDE2M2IyZDc4NzcxMmQ4Y2U1NWQuc2V0Q29udGVudChodG1sX2M5ODI3YjBlNGJlNTRjY2VhMmYxYjcyNjExZTY2Y2YxKTsKICAgICAgICAKCiAgICAgICAgbWFya2VyX2MzMTk1NTgwOTAzZTQyNTZiODE2MjBkOTgxOWIwNjVjLmJpbmRQb3B1cChwb3B1cF9iZmZhMWVjYTNmMTI0MTYzYjJkNzg3NzEyZDhjZTU1ZCkKICAgICAgICA7CgogICAgICAgIAogICAgCiAgICAKICAgICAgICAgICAgbWFya2VyX2MzMTk1NTgwOTAzZTQyNTZiODE2MjBkOTgxOWIwNjVjLmJpbmRUb29sdGlwKAogICAgICAgICAgICAgICAgYDxkaXY+CiAgICAgICAgICAgICAgICAgICAgIENoZW5uYWkKICAgICAgICAgICAgICAgICA8L2Rpdj5gLAogICAgICAgICAgICAgICAgeyJzdGlja3kiOiB0cnVlfQogICAgICAgICAgICApOwogICAgICAgIAogICAgCiAgICAgICAgICAgIHZhciBtYXJrZXJfZTUzNmNkZmEzOWM4NDE1ZWExOWE3YWM2N2Q1MzYyYzAgPSBMLm1hcmtlcigKICAgICAgICAgICAgICAgIFsyNS41OTQwNzk5OTk5OTk5OTgsIDg1LjEzNTYzXSwKICAgICAgICAgICAgICAgIHt9CiAgICAgICAgICAgICkuYWRkVG8obWFwXzg2OGNiNGUxNmRkMzQyOTJiM2JlMjNjNjExZDAyMjhiKTsKICAgICAgICAKICAgIAogICAgICAgIHZhciBwb3B1cF82ZjcwM2UxYzdjMWY0MTk5YjE2YjBkNTlhYzA5MGY1NiA9IEwucG9wdXAoeyJtYXhXaWR0aCI6ICIxMDAlIn0pOwoKICAgICAgICAKICAgICAgICAgICAgdmFyIGh0bWxfNWRmZTlmODMwMjE2NGExYTk5NThhN2M3YTQ0YzAyMTEgPSAkKGA8ZGl2IGlkPSJodG1sXzVkZmU5ZjgzMDIxNjRhMWE5OTU4YTdjN2E0NGMwMjExIiBzdHlsZT0id2lkdGg6IDEwMC4wJTsgaGVpZ2h0OiAxMDAuMCU7Ij48c3Ryb25nPlBhdG5hPC9zdHJvbmc+PHA+TGF0aXR1ZGU6IDI1LjU5NDA3OTk5OTk5OTk5ODwvcD48cD5Mb25naXR1ZGU6IDg1LjEzNTYzPC9wPjwvZGl2PmApWzBdOwogICAgICAgICAgICBwb3B1cF82ZjcwM2UxYzdjMWY0MTk5YjE2YjBkNTlhYzA5MGY1Ni5zZXRDb250ZW50KGh0bWxfNWRmZTlmODMwMjE2NGExYTk5NThhN2M3YTQ0YzAyMTEpOwogICAgICAgIAoKICAgICAgICBtYXJrZXJfZTUzNmNkZmEzOWM4NDE1ZWExOWE3YWM2N2Q1MzYyYzAuYmluZFBvcHVwKHBvcHVwXzZmNzAzZTFjN2MxZjQxOTliMTZiMGQ1OWFjMDkwZjU2KQogICAgICAgIDsKCiAgICAgICAgCiAgICAKICAgIAogICAgICAgICAgICBtYXJrZXJfZTUzNmNkZmEzOWM4NDE1ZWExOWE3YWM2N2Q1MzYyYzAuYmluZFRvb2x0aXAoCiAgICAgICAgICAgICAgICBgPGRpdj4KICAgICAgICAgICAgICAgICAgICAgUGF0bmEKICAgICAgICAgICAgICAgICA8L2Rpdj5gLAogICAgICAgICAgICAgICAgeyJzdGlja3kiOiB0cnVlfQogICAgICAgICAgICApOwogICAgICAgIAogICAgCiAgICAgICAgICAgIHZhciBtYXJrZXJfZDZjY2UyMzQ3MmE2NDc3YjgzMTA0ZjM5ZmZiMTE3M2UgPSBMLm1hcmtlcigKICAgICAgICAgICAgICAgIFsyMi41NjI2MywgODguMzYzMDRdLAogICAgICAgICAgICAgICAge30KICAgICAgICAgICAgKS5hZGRUbyhtYXBfODY4Y2I0ZTE2ZGQzNDI5MmIzYmUyM2M2MTFkMDIyOGIpOwogICAgICAgIAogICAgCiAgICAgICAgdmFyIHBvcHVwXzhkYjE0ODM0OTYwZDQ5MmE4YjczYzExMWIyMDNjNDFjID0gTC5wb3B1cCh7Im1heFdpZHRoIjogIjEwMCUifSk7CgogICAgICAgIAogICAgICAgICAgICB2YXIgaHRtbF8zNTMyMDdmMDUyYzA0OTRiYTE2MTQ2OWVhZWU5MTg5ZCA9ICQoYDxkaXYgaWQ9Imh0bWxfMzUzMjA3ZjA1MmMwNDk0YmExNjE0NjllYWVlOTE4OWQiIHN0eWxlPSJ3aWR0aDogMTAwLjAlOyBoZWlnaHQ6IDEwMC4wJTsiPjxzdHJvbmc+S29sa2F0YTwvc3Ryb25nPjxwPkxhdGl0dWRlOiAyMi41NjI2MzwvcD48cD5Mb25naXR1ZGU6IDg4LjM2MzA0PC9wPjwvZGl2PmApWzBdOwogICAgICAgICAgICBwb3B1cF84ZGIxNDgzNDk2MGQ0OTJhOGI3M2MxMTFiMjAzYzQxYy5zZXRDb250ZW50KGh0bWxfMzUzMjA3ZjA1MmMwNDk0YmExNjE0NjllYWVlOTE4OWQpOwogICAgICAgIAoKICAgICAgICBtYXJrZXJfZDZjY2UyMzQ3MmE2NDc3YjgzMTA0ZjM5ZmZiMTE3M2UuYmluZFBvcHVwKHBvcHVwXzhkYjE0ODM0OTYwZDQ5MmE4YjczYzExMWIyMDNjNDFjKQogICAgICAgIDsKCiAgICAgICAgCiAgICAKICAgIAogICAgICAgICAgICBtYXJrZXJfZDZjY2UyMzQ3MmE2NDc3YjgzMTA0ZjM5ZmZiMTE3M2UuYmluZFRvb2x0aXAoCiAgICAgICAgICAgICAgICBgPGRpdj4KICAgICAgICAgICAgICAgICAgICAgS29sa2F0YQogICAgICAgICAgICAgICAgIDwvZGl2PmAsCiAgICAgICAgICAgICAgICB7InN0aWNreSI6IHRydWV9CiAgICAgICAgICAgICk7CiAgICAgICAgCiAgICAKICAgICAgICAgICAgdmFyIG1hcmtlcl84ZjMxYmUyZWFhNjc0ZmU4YjdkY2JmZTE4ZGU4MGRmYyA9IEwubWFya2VyKAogICAgICAgICAgICAgICAgWzE2LjgwNTI4LCA5Ni4xNTYxMV0sCiAgICAgICAgICAgICAgICB7fQogICAgICAgICAgICApLmFkZFRvKG1hcF84NjhjYjRlMTZkZDM0MjkyYjNiZTIzYzYxMWQwMjI4Yik7CiAgICAgICAgCiAgICAKICAgICAgICB2YXIgcG9wdXBfODA5NWI5YzJmNjk5NDFlN2IxOTRlYzRkY2U1YzYxNWQgPSBMLnBvcHVwKHsibWF4V2lkdGgiOiAiMTAwJSJ9KTsKCiAgICAgICAgCiAgICAgICAgICAgIHZhciBodG1sXzlkOGRkYzVjMzc3ZTRhNDdiOTNjYWRjYmQ2ZjY5NjI3ID0gJChgPGRpdiBpZD0iaHRtbF85ZDhkZGM1YzM3N2U0YTQ3YjkzY2FkY2JkNmY2OTYyNyIgc3R5bGU9IndpZHRoOiAxMDAuMCU7IGhlaWdodDogMTAwLjAlOyI+PHN0cm9uZz5ZYW5nb248L3N0cm9uZz48cD5MYXRpdHVkZTogMTYuODA1Mjg8L3A+PHA+TG9uZ2l0dWRlOiA5Ni4xNTYxMTwvcD48L2Rpdj5gKVswXTsKICAgICAgICAgICAgcG9wdXBfODA5NWI5YzJmNjk5NDFlN2IxOTRlYzRkY2U1YzYxNWQuc2V0Q29udGVudChodG1sXzlkOGRkYzVjMzc3ZTRhNDdiOTNjYWRjYmQ2ZjY5NjI3KTsKICAgICAgICAKCiAgICAgICAgbWFya2VyXzhmMzFiZTJlYWE2NzRmZThiN2RjYmZlMThkZTgwZGZjLmJpbmRQb3B1cChwb3B1cF84MDk1YjljMmY2OTk0MWU3YjE5NGVjNGRjZTVjNjE1ZCkKICAgICAgICA7CgogICAgICAgIAogICAgCiAgICAKICAgICAgICAgICAgbWFya2VyXzhmMzFiZTJlYWE2NzRmZThiN2RjYmZlMThkZTgwZGZjLmJpbmRUb29sdGlwKAogICAgICAgICAgICAgICAgYDxkaXY+CiAgICAgICAgICAgICAgICAgICAgIFlhbmdvbgogICAgICAgICAgICAgICAgIDwvZGl2PmAsCiAgICAgICAgICAgICAgICB7InN0aWNreSI6IHRydWV9CiAgICAgICAgICAgICk7CiAgICAgICAgCiAgICAKICAgICAgICAgICAgdmFyIG1hcmtlcl84ODIyNGJhM2NmNmE0MDhiOWJkNDdlNGY3NzY3M2FjMiA9IEwubWFya2VyKAogICAgICAgICAgICAgICAgWzEuMjg5NjcsIDEwMy44NTAwN10sCiAgICAgICAgICAgICAgICB7fQogICAgICAgICAgICApLmFkZFRvKG1hcF84NjhjYjRlMTZkZDM0MjkyYjNiZTIzYzYxMWQwMjI4Yik7CiAgICAgICAgCiAgICAKICAgICAgICB2YXIgcG9wdXBfNWE4MDNkMWY1MjYxNDRmMWEwMzBmOTI4Nzc2OTg3NTYgPSBMLnBvcHVwKHsibWF4V2lkdGgiOiAiMTAwJSJ9KTsKCiAgICAgICAgCiAgICAgICAgICAgIHZhciBodG1sX2Y4NTQ0YmZjMzExNzQ5NDFiMzI2ZTQ4MTAwMjJhMDhjID0gJChgPGRpdiBpZD0iaHRtbF9mODU0NGJmYzMxMTc0OTQxYjMyNmU0ODEwMDIyYTA4YyIgc3R5bGU9IndpZHRoOiAxMDAuMCU7IGhlaWdodDogMTAwLjAlOyI+PHN0cm9uZz5TaW5nYXBvcmU8L3N0cm9uZz48cD5MYXRpdHVkZTogMS4yODk2NzwvcD48cD5Mb25naXR1ZGU6IDEwMy44NTAwNzwvcD48L2Rpdj5gKVswXTsKICAgICAgICAgICAgcG9wdXBfNWE4MDNkMWY1MjYxNDRmMWEwMzBmOTI4Nzc2OTg3NTYuc2V0Q29udGVudChodG1sX2Y4NTQ0YmZjMzExNzQ5NDFiMzI2ZTQ4MTAwMjJhMDhjKTsKICAgICAgICAKCiAgICAgICAgbWFya2VyXzg4MjI0YmEzY2Y2YTQwOGI5YmQ0N2U0Zjc3NjczYWMyLmJpbmRQb3B1cChwb3B1cF81YTgwM2QxZjUyNjE0NGYxYTAzMGY5Mjg3NzY5ODc1NikKICAgICAgICA7CgogICAgICAgIAogICAgCiAgICAKICAgICAgICAgICAgbWFya2VyXzg4MjI0YmEzY2Y2YTQwOGI5YmQ0N2U0Zjc3NjczYWMyLmJpbmRUb29sdGlwKAogICAgICAgICAgICAgICAgYDxkaXY+CiAgICAgICAgICAgICAgICAgICAgIFNpbmdhcG9yZQogICAgICAgICAgICAgICAgIDwvZGl2PmAsCiAgICAgICAgICAgICAgICB7InN0aWNreSI6IHRydWV9CiAgICAgICAgICAgICk7CiAgICAgICAgCiAgICAKICAgICAgICAgICAgdmFyIG1hcmtlcl8yMGQ1OWZkMzM4MzE0ZmZmYmY1MDQwZjIwMzZmMGRkMyA9IEwubWFya2VyKAogICAgICAgICAgICAgICAgWzIyLjI3ODMyLCAxMTQuMTc0Njg5OTk5OTk5OThdLAogICAgICAgICAgICAgICAge30KICAgICAgICAgICAgKS5hZGRUbyhtYXBfODY4Y2I0ZTE2ZGQzNDI5MmIzYmUyM2M2MTFkMDIyOGIpOwogICAgICAgIAogICAgCiAgICAgICAgdmFyIHBvcHVwX2Q1YzA0MDVmNjdjYjRhMzNhODJmMTFhYmVlNDc5ZmUwID0gTC5wb3B1cCh7Im1heFdpZHRoIjogIjEwMCUifSk7CgogICAgICAgIAogICAgICAgICAgICB2YXIgaHRtbF9hZWU1YWJiZWU3MDM0NzhkYTcwNGZlOWU0MTVjZDk3NyA9ICQoYDxkaXYgaWQ9Imh0bWxfYWVlNWFiYmVlNzAzNDc4ZGE3MDRmZTllNDE1Y2Q5NzciIHN0eWxlPSJ3aWR0aDogMTAwLjAlOyBoZWlnaHQ6IDEwMC4wJTsiPjxzdHJvbmc+SG9uZyBLb25nPC9zdHJvbmc+PHA+TGF0aXR1ZGU6IDIyLjI3ODMyPC9wPjxwPkxvbmdpdHVkZTogMTE0LjE3NDY4OTk5OTk5OTk4PC9wPjwvZGl2PmApWzBdOwogICAgICAgICAgICBwb3B1cF9kNWMwNDA1ZjY3Y2I0YTMzYTgyZjExYWJlZTQ3OWZlMC5zZXRDb250ZW50KGh0bWxfYWVlNWFiYmVlNzAzNDc4ZGE3MDRmZTllNDE1Y2Q5NzcpOwogICAgICAgIAoKICAgICAgICBtYXJrZXJfMjBkNTlmZDMzODMxNGZmZmJmNTA0MGYyMDM2ZjBkZDMuYmluZFBvcHVwKHBvcHVwX2Q1YzA0MDVmNjdjYjRhMzNhODJmMTFhYmVlNDc5ZmUwKQogICAgICAgIDsKCiAgICAgICAgCiAgICAKICAgIAogICAgICAgICAgICBtYXJrZXJfMjBkNTlmZDMzODMxNGZmZmJmNTA0MGYyMDM2ZjBkZDMuYmluZFRvb2x0aXAoCiAgICAgICAgICAgICAgICBgPGRpdj4KICAgICAgICAgICAgICAgICAgICAgSG9uZyBLb25nCiAgICAgICAgICAgICAgICAgPC9kaXY+YCwKICAgICAgICAgICAgICAgIHsic3RpY2t5IjogdHJ1ZX0KICAgICAgICAgICAgKTsKICAgICAgICAKICAgIAogICAgICAgICAgICB2YXIgbWFya2VyXzliYjhkMGEyMTE0YzRmNWZiNzk1ZDI2MDk2MjI1OGExID0gTC5tYXJrZXIoCiAgICAgICAgICAgICAgICBbMzEuMjIyMjIsIDEyMS40NTgwNl0sCiAgICAgICAgICAgICAgICB7fQogICAgICAgICAgICApLmFkZFRvKG1hcF84NjhjYjRlMTZkZDM0MjkyYjNiZTIzYzYxMWQwMjI4Yik7CiAgICAgICAgCiAgICAKICAgICAgICB2YXIgcG9wdXBfMmFhNDBmZWI3NzQ1NDY5OWI5YzU0YmQ1YTRmZWQzZDggPSBMLnBvcHVwKHsibWF4V2lkdGgiOiAiMTAwJSJ9KTsKCiAgICAgICAgCiAgICAgICAgICAgIHZhciBodG1sXzZhNTliZWNmYmYxMjQ1Yjg4ZmQ1OTZmNjZmYmI1MGFlID0gJChgPGRpdiBpZD0iaHRtbF82YTU5YmVjZmJmMTI0NWI4OGZkNTk2ZjY2ZmJiNTBhZSIgc3R5bGU9IndpZHRoOiAxMDAuMCU7IGhlaWdodDogMTAwLjAlOyI+PHN0cm9uZz5TaGFuZ2hhaTwvc3Ryb25nPjxwPkxhdGl0dWRlOiAzMS4yMjIyMjwvcD48cD5Mb25naXR1ZGU6IDEyMS40NTgwNjwvcD48L2Rpdj5gKVswXTsKICAgICAgICAgICAgcG9wdXBfMmFhNDBmZWI3NzQ1NDY5OWI5YzU0YmQ1YTRmZWQzZDguc2V0Q29udGVudChodG1sXzZhNTliZWNmYmYxMjQ1Yjg4ZmQ1OTZmNjZmYmI1MGFlKTsKICAgICAgICAKCiAgICAgICAgbWFya2VyXzliYjhkMGEyMTE0YzRmNWZiNzk1ZDI2MDk2MjI1OGExLmJpbmRQb3B1cChwb3B1cF8yYWE0MGZlYjc3NDU0Njk5YjljNTRiZDVhNGZlZDNkOCkKICAgICAgICA7CgogICAgICAgIAogICAgCiAgICAKICAgICAgICAgICAgbWFya2VyXzliYjhkMGEyMTE0YzRmNWZiNzk1ZDI2MDk2MjI1OGExLmJpbmRUb29sdGlwKAogICAgICAgICAgICAgICAgYDxkaXY+CiAgICAgICAgICAgICAgICAgICAgIFNoYW5naGFpCiAgICAgICAgICAgICAgICAgPC9kaXY+YCwKICAgICAgICAgICAgICAgIHsic3RpY2t5IjogdHJ1ZX0KICAgICAgICAgICAgKTsKICAgICAgICAKICAgIAogICAgICAgICAgICB2YXIgbWFya2VyX2UxODRmNGQ3MjY2ZjQyOTliZTAyOTI5NmIyZDk2NzllID0gTC5tYXJrZXIoCiAgICAgICAgICAgICAgICBbMzUuNDMzMzMsIDEzOS42NV0sCiAgICAgICAgICAgICAgICB7fQogICAgICAgICAgICApLmFkZFRvKG1hcF84NjhjYjRlMTZkZDM0MjkyYjNiZTIzYzYxMWQwMjI4Yik7CiAgICAgICAgCiAgICAKICAgICAgICB2YXIgcG9wdXBfZWIwYjkyY2Y4MDllNGM2M2FiMzU3ZTFlMDU0Y2NmYjUgPSBMLnBvcHVwKHsibWF4V2lkdGgiOiAiMTAwJSJ9KTsKCiAgICAgICAgCiAgICAgICAgICAgIHZhciBodG1sXzNmOGIyNjdmNDE1MzRlOGI4YjAwNDllZjdiMDQ0ODE0ID0gJChgPGRpdiBpZD0iaHRtbF8zZjhiMjY3ZjQxNTM0ZThiOGIwMDQ5ZWY3YjA0NDgxNCIgc3R5bGU9IndpZHRoOiAxMDAuMCU7IGhlaWdodDogMTAwLjAlOyI+PHN0cm9uZz5Zb2tvaGFtYTwvc3Ryb25nPjxwPkxhdGl0dWRlOiAzNS40MzMzMzwvcD48cD5Mb25naXR1ZGU6IDEzOS42NTwvcD48L2Rpdj5gKVswXTsKICAgICAgICAgICAgcG9wdXBfZWIwYjkyY2Y4MDllNGM2M2FiMzU3ZTFlMDU0Y2NmYjUuc2V0Q29udGVudChodG1sXzNmOGIyNjdmNDE1MzRlOGI4YjAwNDllZjdiMDQ0ODE0KTsKICAgICAgICAKCiAgICAgICAgbWFya2VyX2UxODRmNGQ3MjY2ZjQyOTliZTAyOTI5NmIyZDk2NzllLmJpbmRQb3B1cChwb3B1cF9lYjBiOTJjZjgwOWU0YzYzYWIzNTdlMWUwNTRjY2ZiNSkKICAgICAgICA7CgogICAgICAgIAogICAgCiAgICAKICAgICAgICAgICAgbWFya2VyX2UxODRmNGQ3MjY2ZjQyOTliZTAyOTI5NmIyZDk2NzllLmJpbmRUb29sdGlwKAogICAgICAgICAgICAgICAgYDxkaXY+CiAgICAgICAgICAgICAgICAgICAgIFlva29oYW1hCiAgICAgICAgICAgICAgICAgPC9kaXY+YCwKICAgICAgICAgICAgICAgIHsic3RpY2t5IjogdHJ1ZX0KICAgICAgICAgICAgKTsKICAgICAgICAKICAgIAogICAgICAgICAgICB2YXIgcG9seV9saW5lXzZiNjUzY2Q1NTllMTQxYTg5MGVlMWFlYWQzMzczMDU2ID0gTC5wb2x5bGluZSgKICAgICAgICAgICAgICAgIFtbMzcuNzc0OTMsIC0xMjIuNDE5NDJdLCBbMzkuNzM5MTUsIC0xMDQuOTg0N10sIFs0MS44NTAwMywgLTg3LjY1MDA1XSwgWzM5Ljk2MTE4LCAtODIuOTk4NzldLCBbNDAuNjgxNDkwMDAwMDAwMDA0LCAtNzMuODM2NTJdLCBbNTMuMzMzMDU5OTk5OTk5OTk2LCAtNi4yNDg4OV0sIFs1NS44NjUxNSwgLTQuMjU3NjMwMDAwMDAwMDAxXSwgWzUzLjQxMDU4LCAtMi45Nzc5NDAwMDAwMDAwMDAzXSwgWzUyLjQ4MTQxOTk5OTk5OTk5LCAtMS44OTk4M10sIFs1MS41MDg1MywgLTAuMTI1NzQwMDAwMDAwMDAwMDJdLCBbNDguODUzNDEsIDIuMzQ4OF0sIFs1My41NTA3MywgOS45OTMwMl0sIFszNy45ODM3NiwgMjMuNzI3ODRdLCBbMTIuNzc5NDQsIDQ1LjAzNjY3XSwgWzE5LjA3MjgzLCA3Mi44ODI2MV0sIFs5LjkzOTg4LCA3Ni4yNjAyMTk5OTk5OTk5OV0sIFsxMy4wODc4NCwgODAuMjc4NDddLCBbMjUuNTk0MDc5OTk5OTk5OTk4LCA4NS4xMzU2M10sIFsyMi41NjI2MywgODguMzYzMDRdLCBbMTYuODA1MjgsIDk2LjE1NjExXSwgWzEuMjg5NjcsIDEwMy44NTAwN10sIFsyMi4yNzgzMiwgMTE0LjE3NDY4OTk5OTk5OTk4XSwgWzMxLjIyMjIyLCAxMjEuNDU4MDZdLCBbMzUuNDMzMzMsIDEzOS42NV1dLAogICAgICAgICAgICAgICAgeyJidWJibGluZ01vdXNlRXZlbnRzIjogdHJ1ZSwgImNvbG9yIjogIiMzMzg4ZmYiLCAiZGFzaEFycmF5IjogbnVsbCwgImRhc2hPZmZzZXQiOiBudWxsLCAiZmlsbCI6IGZhbHNlLCAiZmlsbENvbG9yIjogIiMzMzg4ZmYiLCAiZmlsbE9wYWNpdHkiOiAwLjIsICJmaWxsUnVsZSI6ICJldmVub2RkIiwgImxpbmVDYXAiOiAicm91bmQiLCAibGluZUpvaW4iOiAicm91bmQiLCAibm9DbGlwIjogZmFsc2UsICJvcGFjaXR5IjogMS4wLCAic21vb3RoRmFjdG9yIjogMS4wLCAic3Ryb2tlIjogdHJ1ZSwgIndlaWdodCI6IDN9CiAgICAgICAgICAgICkuYWRkVG8obWFwXzg2OGNiNGUxNmRkMzQyOTJiM2JlMjNjNjExZDAyMjhiKTsKICAgICAgICAKPC9zY3JpcHQ+\" style=\"position:absolute;width:100%;height:100%;left:0;top:0;border:none !important;\" allowfullscreen webkitallowfullscreen mozallowfullscreen></iframe></div></div>"
      ],
      "text/plain": [
       "<folium.folium.Map at 0x231c5c85160>"
      ]
     },
     "execution_count": 54,
     "metadata": {},
     "output_type": "execute_result"
    }
   ],
   "source": [
    "map_"
   ]
  }
 ],
 "metadata": {
  "kernelspec": {
   "display_name": "Python 3",
   "language": "python",
   "name": "python3"
  },
  "language_info": {
   "codemirror_mode": {
    "name": "ipython",
    "version": 3
   },
   "file_extension": ".py",
   "mimetype": "text/x-python",
   "name": "python",
   "nbconvert_exporter": "python",
   "pygments_lexer": "ipython3",
   "version": "3.7.3"
  }
 },
 "nbformat": 4,
 "nbformat_minor": 2
}
