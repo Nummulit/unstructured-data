{
 "cells": [
  {
   "cell_type": "markdown",
   "metadata": {},
   "source": [
    "*Download the novel \"Around the world in 80 days\" by J. Verne from Project Gutenberg webstie. Find all cities visited by Phileas Fogg, the protagonist of the novel. Draw the path of his journey on a world map.*"
   ]
  },
  {
   "cell_type": "markdown",
   "metadata": {},
   "source": [
    "Links:\n",
    "1. https://nbviewer.jupyter.org/github/python-visualization/folium/blob/master/examples/PolyLineTextPath_AntPath.ipynb\n",
    "2. https://python-visualization.github.io/folium/quickstart.html\n",
    "3. https://geocoder.readthedocs.io/api.html#installation\n",
    "4. https://pypi.org/project/geotext/"
   ]
  },
  {
   "cell_type": "markdown",
   "metadata": {},
   "source": [
    "# Getting the book"
   ]
  },
  {
   "cell_type": "markdown",
   "metadata": {},
   "source": [
    "Obtaining the text of the books is as easy as going to the Project Gutenberg website, searching the title and downloading the text file."
   ]
  },
  {
   "cell_type": "code",
   "execution_count": 1,
   "metadata": {},
   "outputs": [],
   "source": [
    "DATA_PATH = r'data/around_the_world_in_eighty_days.txt'"
   ]
  },
  {
   "cell_type": "markdown",
   "metadata": {},
   "source": [
    "# Getting list of the cities"
   ]
  },
  {
   "cell_type": "markdown",
   "metadata": {},
   "source": [
    "To see what words describe cities we will compare each word to a list of cities and keep those that match."
   ]
  },
  {
   "cell_type": "markdown",
   "metadata": {},
   "source": [
    "We will use the [Geonames](http://www.geonames.org/) database for list of all cities."
   ]
  },
  {
   "cell_type": "code",
   "execution_count": 2,
   "metadata": {},
   "outputs": [],
   "source": [
    "import pandas as pd"
   ]
  },
  {
   "cell_type": "code",
   "execution_count": 3,
   "metadata": {},
   "outputs": [],
   "source": [
    "cities500 = pd.read_csv('data/cities500.txt', \n",
    "                        sep='\\t', \n",
    "                        header=None, \n",
    "                        engine='python', \n",
    "                        encoding='utf-8')"
   ]
  },
  {
   "cell_type": "markdown",
   "metadata": {},
   "source": [
    "Unfortunately we have to set the column names manually "
   ]
  },
  {
   "cell_type": "code",
   "execution_count": 4,
   "metadata": {},
   "outputs": [],
   "source": [
    "col_names = [\n",
    "    'geonameid',\n",
    "    'name',\n",
    "    'asciiname',\n",
    "    'alternatenames',\n",
    "    'latitude',\n",
    "    'longitude',\n",
    "    'feature class',\n",
    "    'feature code',\n",
    "    'country code',\n",
    "    'cc2',\n",
    "    'admin1 code',\n",
    "    'admin2 code',\n",
    "    'admin3 code',\n",
    "    'admin 4 code',\n",
    "    'population',\n",
    "    'elevation',\n",
    "    'dem',\n",
    "    'timezone',\n",
    "    'modification date'\n",
    "]"
   ]
  },
  {
   "cell_type": "code",
   "execution_count": 5,
   "metadata": {},
   "outputs": [],
   "source": [
    "cities500.columns = col_names"
   ]
  },
  {
   "cell_type": "markdown",
   "metadata": {},
   "source": [
    "Now we can investigate how the data frame looks like"
   ]
  },
  {
   "cell_type": "code",
   "execution_count": 6,
   "metadata": {
    "scrolled": false
   },
   "outputs": [
    {
     "data": {
      "text/html": [
       "<div>\n",
       "<style scoped>\n",
       "    .dataframe tbody tr th:only-of-type {\n",
       "        vertical-align: middle;\n",
       "    }\n",
       "\n",
       "    .dataframe tbody tr th {\n",
       "        vertical-align: top;\n",
       "    }\n",
       "\n",
       "    .dataframe thead th {\n",
       "        text-align: right;\n",
       "    }\n",
       "</style>\n",
       "<table border=\"1\" class=\"dataframe\">\n",
       "  <thead>\n",
       "    <tr style=\"text-align: right;\">\n",
       "      <th></th>\n",
       "      <th>geonameid</th>\n",
       "      <th>name</th>\n",
       "      <th>asciiname</th>\n",
       "      <th>alternatenames</th>\n",
       "      <th>latitude</th>\n",
       "      <th>longitude</th>\n",
       "      <th>feature class</th>\n",
       "      <th>feature code</th>\n",
       "      <th>country code</th>\n",
       "      <th>cc2</th>\n",
       "      <th>admin1 code</th>\n",
       "      <th>admin2 code</th>\n",
       "      <th>admin3 code</th>\n",
       "      <th>admin 4 code</th>\n",
       "      <th>population</th>\n",
       "      <th>elevation</th>\n",
       "      <th>dem</th>\n",
       "      <th>timezone</th>\n",
       "      <th>modification date</th>\n",
       "    </tr>\n",
       "  </thead>\n",
       "  <tbody>\n",
       "    <tr>\n",
       "      <td>21225</td>\n",
       "      <td>1796236</td>\n",
       "      <td>Shanghai</td>\n",
       "      <td>Shanghai</td>\n",
       "      <td>SHA,San'nkae,Sanchajus,Sangaj,Sangay,Sanghaj,S...</td>\n",
       "      <td>31.22222</td>\n",
       "      <td>121.45806</td>\n",
       "      <td>P</td>\n",
       "      <td>PPLA</td>\n",
       "      <td>CN</td>\n",
       "      <td>NaN</td>\n",
       "      <td>23</td>\n",
       "      <td>NaN</td>\n",
       "      <td>NaN</td>\n",
       "      <td>NaN</td>\n",
       "      <td>22315474</td>\n",
       "      <td>NaN</td>\n",
       "      <td>12</td>\n",
       "      <td>Asia/Shanghai</td>\n",
       "      <td>2017-07-27</td>\n",
       "    </tr>\n",
       "    <tr>\n",
       "      <td>166458</td>\n",
       "      <td>745044</td>\n",
       "      <td>Istanbul</td>\n",
       "      <td>Istanbul</td>\n",
       "      <td>Bizanc,Bizánc,Byzance,Byzantion,Byzantium,Byza...</td>\n",
       "      <td>41.01384</td>\n",
       "      <td>28.94966</td>\n",
       "      <td>P</td>\n",
       "      <td>PPLA</td>\n",
       "      <td>TR</td>\n",
       "      <td>NaN</td>\n",
       "      <td>34</td>\n",
       "      <td>NaN</td>\n",
       "      <td>NaN</td>\n",
       "      <td>NaN</td>\n",
       "      <td>14804116</td>\n",
       "      <td>NaN</td>\n",
       "      <td>39</td>\n",
       "      <td>Europe/Istanbul</td>\n",
       "      <td>2017-09-26</td>\n",
       "    </tr>\n",
       "    <tr>\n",
       "      <td>1358</td>\n",
       "      <td>3435910</td>\n",
       "      <td>Buenos Aires</td>\n",
       "      <td>Buenos Aires</td>\n",
       "      <td>BUE,Baires,Bonaero,Bonaeropolis,Bonaëropolis,B...</td>\n",
       "      <td>-34.61315</td>\n",
       "      <td>-58.37723</td>\n",
       "      <td>P</td>\n",
       "      <td>PPLC</td>\n",
       "      <td>AR</td>\n",
       "      <td>NaN</td>\n",
       "      <td>07</td>\n",
       "      <td>NaN</td>\n",
       "      <td>NaN</td>\n",
       "      <td>NaN</td>\n",
       "      <td>13076300</td>\n",
       "      <td>NaN</td>\n",
       "      <td>31</td>\n",
       "      <td>America/Argentina/Buenos_Aires</td>\n",
       "      <td>2019-09-05</td>\n",
       "    </tr>\n",
       "    <tr>\n",
       "      <td>96210</td>\n",
       "      <td>1275339</td>\n",
       "      <td>Mumbai</td>\n",
       "      <td>Mumbai</td>\n",
       "      <td>Asumumbay,BOM,Bombai,Bombaim,Bombaj,Bombay,Bom...</td>\n",
       "      <td>19.07283</td>\n",
       "      <td>72.88261</td>\n",
       "      <td>P</td>\n",
       "      <td>PPLA</td>\n",
       "      <td>IN</td>\n",
       "      <td>NaN</td>\n",
       "      <td>16</td>\n",
       "      <td>NaN</td>\n",
       "      <td>NaN</td>\n",
       "      <td>NaN</td>\n",
       "      <td>12691836</td>\n",
       "      <td>NaN</td>\n",
       "      <td>8</td>\n",
       "      <td>Asia/Kolkata</td>\n",
       "      <td>2019-09-05</td>\n",
       "    </tr>\n",
       "    <tr>\n",
       "      <td>117395</td>\n",
       "      <td>3530597</td>\n",
       "      <td>Mexico City</td>\n",
       "      <td>Mexico City</td>\n",
       "      <td>Cidade de Mexico,Cidade de México,Cidade do Me...</td>\n",
       "      <td>19.42847</td>\n",
       "      <td>-99.12766</td>\n",
       "      <td>P</td>\n",
       "      <td>PPLC</td>\n",
       "      <td>MX</td>\n",
       "      <td>NaN</td>\n",
       "      <td>09</td>\n",
       "      <td>NaN</td>\n",
       "      <td>NaN</td>\n",
       "      <td>NaN</td>\n",
       "      <td>12294193</td>\n",
       "      <td>NaN</td>\n",
       "      <td>2240</td>\n",
       "      <td>America/Mexico_City</td>\n",
       "      <td>2019-03-15</td>\n",
       "    </tr>\n",
       "  </tbody>\n",
       "</table>\n",
       "</div>"
      ],
      "text/plain": [
       "        geonameid          name     asciiname  \\\n",
       "21225     1796236      Shanghai      Shanghai   \n",
       "166458     745044      Istanbul      Istanbul   \n",
       "1358      3435910  Buenos Aires  Buenos Aires   \n",
       "96210     1275339        Mumbai        Mumbai   \n",
       "117395    3530597   Mexico City   Mexico City   \n",
       "\n",
       "                                           alternatenames  latitude  \\\n",
       "21225   SHA,San'nkae,Sanchajus,Sangaj,Sangay,Sanghaj,S...  31.22222   \n",
       "166458  Bizanc,Bizánc,Byzance,Byzantion,Byzantium,Byza...  41.01384   \n",
       "1358    BUE,Baires,Bonaero,Bonaeropolis,Bonaëropolis,B... -34.61315   \n",
       "96210   Asumumbay,BOM,Bombai,Bombaim,Bombaj,Bombay,Bom...  19.07283   \n",
       "117395  Cidade de Mexico,Cidade de México,Cidade do Me...  19.42847   \n",
       "\n",
       "        longitude feature class feature code country code  cc2 admin1 code  \\\n",
       "21225   121.45806             P         PPLA           CN  NaN          23   \n",
       "166458   28.94966             P         PPLA           TR  NaN          34   \n",
       "1358    -58.37723             P         PPLC           AR  NaN          07   \n",
       "96210    72.88261             P         PPLA           IN  NaN          16   \n",
       "117395  -99.12766             P         PPLC           MX  NaN          09   \n",
       "\n",
       "       admin2 code admin3 code admin 4 code  population  elevation   dem  \\\n",
       "21225          NaN         NaN          NaN    22315474        NaN    12   \n",
       "166458         NaN         NaN          NaN    14804116        NaN    39   \n",
       "1358           NaN         NaN          NaN    13076300        NaN    31   \n",
       "96210          NaN         NaN          NaN    12691836        NaN     8   \n",
       "117395         NaN         NaN          NaN    12294193        NaN  2240   \n",
       "\n",
       "                              timezone modification date  \n",
       "21225                    Asia/Shanghai        2017-07-27  \n",
       "166458                 Europe/Istanbul        2017-09-26  \n",
       "1358    America/Argentina/Buenos_Aires        2019-09-05  \n",
       "96210                     Asia/Kolkata        2019-09-05  \n",
       "117395             America/Mexico_City        2019-03-15  "
      ]
     },
     "execution_count": 6,
     "metadata": {},
     "output_type": "execute_result"
    }
   ],
   "source": [
    "cities500.sort_values(by='population', ascending =False).head()"
   ]
  },
  {
   "cell_type": "markdown",
   "metadata": {},
   "source": [
    "We will also create a set of all unique cities to use in the comparison"
   ]
  },
  {
   "cell_type": "code",
   "execution_count": 7,
   "metadata": {},
   "outputs": [],
   "source": [
    "upper_case_cities = set(cities500['name'])\n",
    "lower_case_cities = {s.lower() for s in upper_case_cities}"
   ]
  },
  {
   "cell_type": "markdown",
   "metadata": {},
   "source": [
    "Now we can open the book, scan through the words and see which of those match any city"
   ]
  },
  {
   "cell_type": "markdown",
   "metadata": {},
   "source": [
    "We will also create a dictionary with outdated names of cities and their modern versions:"
   ]
  },
  {
   "cell_type": "code",
   "execution_count": 8,
   "metadata": {},
   "outputs": [],
   "source": [
    "OUTDATED_NAMES = {\n",
    "    \"Madras\": \"Chennai\", \n",
    "    \"Bombay\": \"Mumbai\", \n",
    "    \"Frunze\": \"Bishkek\", \n",
    "    \"Petrograd\": \"St Petersburg\", \n",
    "    \"Rangoon\": \"Yangon\",\n",
    "    \"Saigon\": \"Ho Chi Minh City\", \n",
    "    \"Lourenco Marques\": \"Maputo\", \n",
    "    \"Leopoldville\": \"Kinshasa\", \n",
    "    \"Edo\": \"Tokyo\",\n",
    "    \"Calcutta\": \"Kolkata\"}"
   ]
  },
  {
   "cell_type": "markdown",
   "metadata": {},
   "source": [
    "We all so use regular expression to filter out unnecessary characters."
   ]
  },
  {
   "cell_type": "code",
   "execution_count": 9,
   "metadata": {},
   "outputs": [],
   "source": [
    "import re\n",
    "import collections\n",
    "from tqdm.notebook import tqdm"
   ]
  },
  {
   "cell_type": "code",
   "execution_count": 10,
   "metadata": {},
   "outputs": [
    {
     "data": {
      "application/vnd.jupyter.widget-view+json": {
       "model_id": "3dd65cfe603c4ab7b8b5791e9de4aaf6",
       "version_major": 2,
       "version_minor": 0
      },
      "text/plain": [
       "HBox(children=(IntProgress(value=1, bar_style='info', max=1), HTML(value='')))"
      ]
     },
     "metadata": {},
     "output_type": "display_data"
    },
    {
     "name": "stdout",
     "output_type": "stream",
     "text": [
      "\n"
     ]
    }
   ],
   "source": [
    "upper_case_mentions = collections.defaultdict(int)\n",
    "lower_case_mentions = collections.defaultdict(int)\n",
    "with open(DATA_PATH, mode='r', encoding='utf-8') as file:\n",
    "    for line in tqdm(file):\n",
    "        # Replacing outdated names\n",
    "        for old_name, new_name in OUTDATED_NAMES.items():\n",
    "            line = line.replace(old_name, new_name)\n",
    "        for city in upper_case_cities:\n",
    "            if city in line:\n",
    "                upper_case_mentions[city] += 1\n",
    "        for city in lower_case_cities:\n",
    "            if city in line:\n",
    "                lower_case_mentions[city] += 1"
   ]
  },
  {
   "cell_type": "code",
   "execution_count": 11,
   "metadata": {},
   "outputs": [],
   "source": [
    "mentions = {k: v - lower_case_mentions[k.lower()] for k, v in upper_case_mentions.items()}"
   ]
  },
  {
   "cell_type": "code",
   "execution_count": 12,
   "metadata": {
    "scrolled": true
   },
   "outputs": [
    {
     "data": {
      "text/plain": [
       "531"
      ]
     },
     "execution_count": 12,
     "metadata": {},
     "output_type": "execute_result"
    }
   ],
   "source": [
    "len(mentions)"
   ]
  },
  {
   "cell_type": "code",
   "execution_count": 13,
   "metadata": {},
   "outputs": [],
   "source": [
    "positive_mentions = {k: v for k, v in mentions.items() if v > 0}"
   ]
  },
  {
   "cell_type": "code",
   "execution_count": 14,
   "metadata": {},
   "outputs": [
    {
     "data": {
      "text/plain": [
       "290"
      ]
     },
     "execution_count": 14,
     "metadata": {},
     "output_type": "execute_result"
    }
   ],
   "source": [
    "len(positive_mentions)"
   ]
  },
  {
   "cell_type": "markdown",
   "metadata": {},
   "source": [
    "# Filtering visited cities"
   ]
  },
  {
   "cell_type": "markdown",
   "metadata": {},
   "source": [
    "Choose those cities from the `cities500`."
   ]
  },
  {
   "cell_type": "code",
   "execution_count": 15,
   "metadata": {},
   "outputs": [],
   "source": [
    "visited_df = cities500[cities500['name'].isin(positive_mentions)]"
   ]
  },
  {
   "cell_type": "markdown",
   "metadata": {},
   "source": [
    "We assume that if there are multiple cities with the same name we take the one with greater population."
   ]
  },
  {
   "cell_type": "code",
   "execution_count": 16,
   "metadata": {
    "scrolled": false
   },
   "outputs": [],
   "source": [
    "visited_df = visited_df.sort_values(by='population', ascending=False).drop_duplicates(subset='name')"
   ]
  },
  {
   "cell_type": "code",
   "execution_count": 17,
   "metadata": {},
   "outputs": [
    {
     "data": {
      "text/plain": [
       "(290, 19)"
      ]
     },
     "execution_count": 17,
     "metadata": {},
     "output_type": "execute_result"
    }
   ],
   "source": [
    "visited_df.shape"
   ]
  },
  {
   "cell_type": "markdown",
   "metadata": {},
   "source": [
    "We are left with 290 cities!"
   ]
  },
  {
   "cell_type": "markdown",
   "metadata": {},
   "source": [
    "If we filter further to cities with population of over 100 000."
   ]
  },
  {
   "cell_type": "code",
   "execution_count": 18,
   "metadata": {},
   "outputs": [],
   "source": [
    "visited_df = visited_df[visited_df['population'] > 500000]"
   ]
  },
  {
   "cell_type": "code",
   "execution_count": 19,
   "metadata": {},
   "outputs": [],
   "source": [
    "locations = visited_df[['name', 'latitude', 'longitude']]\\\n",
    "    .sort_values(by='longitude')\\\n",
    "    .set_index('name')\\\n",
    "    .T\\\n",
    "    .to_dict(into=collections.OrderedDict, orient='list')"
   ]
  },
  {
   "cell_type": "code",
   "execution_count": 20,
   "metadata": {
    "scrolled": true
   },
   "outputs": [
    {
     "data": {
      "text/plain": [
       "OrderedDict([('San Francisco', [37.77493, -122.41942]),\n",
       "             ('Denver', [39.73915, -104.9847]),\n",
       "             ('Chicago', [41.85003, -87.65005]),\n",
       "             ('Columbus', [39.96118, -82.99879]),\n",
       "             ('Cali', [3.4372199999999995, -76.5225]),\n",
       "             ('Queens', [40.681490000000004, -73.83652]),\n",
       "             ('Dublin', [53.333059999999996, -6.24889]),\n",
       "             ('Glasgow', [55.86515, -4.257630000000001]),\n",
       "             ('Liverpool', [53.41058, -2.9779400000000003]),\n",
       "             ('Birmingham', [52.48141999999999, -1.89983]),\n",
       "             ('London', [51.50853, -0.12574000000000002]),\n",
       "             ('Paris', [48.85341, 2.3488]),\n",
       "             ('Jos', [9.92849, 8.89212]),\n",
       "             ('Hamburg', [53.55073, 9.99302]),\n",
       "             ('Athens', [37.98376, 23.72784]),\n",
       "             ('Aden', [12.77944, 45.03667]),\n",
       "             ('Mumbai', [19.07283, 72.88261]),\n",
       "             ('Cochin', [9.93988, 76.26021999999999]),\n",
       "             ('Chennai', [13.08784, 80.27847]),\n",
       "             ('Patna', [25.594079999999998, 85.13563]),\n",
       "             ('Kolkata', [22.56263, 88.36304]),\n",
       "             ('Yangon', [16.80528, 96.15611]),\n",
       "             ('Singapore', [1.28967, 103.85007]),\n",
       "             ('Hong Kong', [22.27832, 114.17468999999998]),\n",
       "             ('Shanghai', [31.22222, 121.45806]),\n",
       "             ('Yokohama', [35.43333, 139.65])])"
      ]
     },
     "execution_count": 20,
     "metadata": {},
     "output_type": "execute_result"
    }
   ],
   "source": [
    "locations"
   ]
  },
  {
   "cell_type": "markdown",
   "metadata": {},
   "source": [
    "Delete locations that don't make any sense."
   ]
  },
  {
   "cell_type": "code",
   "execution_count": 21,
   "metadata": {},
   "outputs": [],
   "source": [
    "del locations['Jos']\n",
    "del locations['Cali']"
   ]
  },
  {
   "cell_type": "markdown",
   "metadata": {},
   "source": [
    "# Drawing on a world map"
   ]
  },
  {
   "cell_type": "markdown",
   "metadata": {},
   "source": [
    "To draw the journey we will use `folium`"
   ]
  },
  {
   "cell_type": "code",
   "execution_count": 22,
   "metadata": {},
   "outputs": [],
   "source": [
    "import folium"
   ]
  },
  {
   "cell_type": "code",
   "execution_count": 23,
   "metadata": {},
   "outputs": [],
   "source": [
    "map_ = folium.Map(\n",
    "    location=[51.50853, -0.12574000000000002],\n",
    "    world_copy_jump=True,\n",
    "    no_wrap=False,\n",
    "    width='100%',\n",
    "    zoom_start=3\n",
    ")"
   ]
  },
  {
   "cell_type": "markdown",
   "metadata": {},
   "source": [
    "Adding the markers:"
   ]
  },
  {
   "cell_type": "code",
   "execution_count": 24,
   "metadata": {},
   "outputs": [],
   "source": [
    "for name, (lat, lon) in locations.items():\n",
    "    popup = f\"<strong>{name}</strong><p>Latitude: {lat}</p><p>Longitude: {lon}</p>\"\n",
    "    folium.Marker(location=(lat, lon), \n",
    "                  tooltip=name,\n",
    "                  popup=popup).add_to(map_)"
   ]
  },
  {
   "cell_type": "markdown",
   "metadata": {},
   "source": [
    "Drawing the lines:"
   ]
  },
  {
   "cell_type": "code",
   "execution_count": 25,
   "metadata": {},
   "outputs": [
    {
     "data": {
      "text/plain": [
       "<folium.vector_layers.PolyLine at 0x1c3d326ba20>"
      ]
     },
     "execution_count": 25,
     "metadata": {},
     "output_type": "execute_result"
    }
   ],
   "source": [
    "folium.PolyLine(locations=locations.values()).add_to(map_)"
   ]
  },
  {
   "cell_type": "markdown",
   "metadata": {},
   "source": [
    "And finally displaying the map!"
   ]
  },
  {
   "cell_type": "code",
   "execution_count": 26,
   "metadata": {},
   "outputs": [
    {
     "data": {
      "text/html": [
       "<div style=\"width:100%;\"><div style=\"position:relative;width:100%;height:0;padding-bottom:60%;\"><iframe src=\"data:text/html;charset=utf-8;base64,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\" style=\"position:absolute;width:100%;height:100%;left:0;top:0;border:none !important;\" allowfullscreen webkitallowfullscreen mozallowfullscreen></iframe></div></div>"
      ],
      "text/plain": [
       "<folium.folium.Map at 0x1c3d2ff5da0>"
      ]
     },
     "execution_count": 26,
     "metadata": {},
     "output_type": "execute_result"
    }
   ],
   "source": [
    "map_"
   ]
  }
 ],
 "metadata": {
  "kernelspec": {
   "display_name": "Python 3",
   "language": "python",
   "name": "python3"
  },
  "language_info": {
   "codemirror_mode": {
    "name": "ipython",
    "version": 3
   },
   "file_extension": ".py",
   "mimetype": "text/x-python",
   "name": "python",
   "nbconvert_exporter": "python",
   "pygments_lexer": "ipython3",
   "version": "3.7.3"
  }
 },
 "nbformat": 4,
 "nbformat_minor": 2
}
