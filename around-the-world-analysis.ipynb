{
 "cells": [
  {
   "cell_type": "markdown",
   "metadata": {},
   "source": [
    "# Task description\n",
    "Download the novel \"Around the world in 80 days\" by J. Verne from Project Gutenberg webstie. Find all cities visited by Phileas Fogg, the protagonist of the novel. Draw the path of his journey on a world map."
   ]
  },
  {
   "cell_type": "markdown",
   "metadata": {},
   "source": [
    "# Solution"
   ]
  },
  {
   "cell_type": "code",
   "execution_count": 4,
   "metadata": {},
   "outputs": [],
   "source": [
    "import re  # For data extraction\n",
    "import collections\n",
    "\n",
    "import folium  # For visualizations on map\n",
    "import pandas as pd  # For data loading and processing\n",
    "from tqdm.notebook import tqdm  # For progress bar displaying"
   ]
  },
  {
   "cell_type": "markdown",
   "metadata": {},
   "source": [
    "## Getting the book"
   ]
  },
  {
   "cell_type": "markdown",
   "metadata": {},
   "source": [
    "Obtaining the text of the books is as easy as going to the Project Gutenberg website, searching the title and downloading the text file."
   ]
  },
  {
   "cell_type": "code",
   "execution_count": 28,
   "metadata": {},
   "outputs": [],
   "source": [
    "DATA_PATH = r'data/around-the-world.txt'"
   ]
  },
  {
   "cell_type": "markdown",
   "metadata": {},
   "source": [
    "## Getting list of the cities"
   ]
  },
  {
   "cell_type": "markdown",
   "metadata": {},
   "source": [
    "To see what words describe cities we will compare each word to a list of cities and keep those that match."
   ]
  },
  {
   "cell_type": "markdown",
   "metadata": {},
   "source": [
    "We will use the [Geonames](http://www.geonames.org/) database for list of all cities."
   ]
  },
  {
   "cell_type": "code",
   "execution_count": 8,
   "metadata": {},
   "outputs": [],
   "source": [
    "cities500 = pd.read_csv('data/cities500.txt', \n",
    "                        sep='\\t', \n",
    "                        header=None, \n",
    "                        engine='python', \n",
    "                        encoding='utf-8')"
   ]
  },
  {
   "cell_type": "markdown",
   "metadata": {},
   "source": [
    "Unfortunately we have to set the column names manually "
   ]
  },
  {
   "cell_type": "code",
   "execution_count": 9,
   "metadata": {},
   "outputs": [],
   "source": [
    "col_names = [\n",
    "    'geonameid',\n",
    "    'name',\n",
    "    'asciiname',\n",
    "    'alternatenames',\n",
    "    'latitude',\n",
    "    'longitude',\n",
    "    'feature class',\n",
    "    'feature code',\n",
    "    'country code',\n",
    "    'cc2',\n",
    "    'admin1 code',\n",
    "    'admin2 code',\n",
    "    'admin3 code',\n",
    "    'admin 4 code',\n",
    "    'population',\n",
    "    'elevation',\n",
    "    'dem',\n",
    "    'timezone',\n",
    "    'modification date'\n",
    "]"
   ]
  },
  {
   "cell_type": "code",
   "execution_count": 10,
   "metadata": {},
   "outputs": [],
   "source": [
    "cities500.columns = col_names"
   ]
  },
  {
   "cell_type": "markdown",
   "metadata": {},
   "source": [
    "Now we can investigate how the data frame looks like"
   ]
  },
  {
   "cell_type": "code",
   "execution_count": 11,
   "metadata": {
    "scrolled": false
   },
   "outputs": [
    {
     "data": {
      "text/html": [
       "<div>\n",
       "<style scoped>\n",
       "    .dataframe tbody tr th:only-of-type {\n",
       "        vertical-align: middle;\n",
       "    }\n",
       "\n",
       "    .dataframe tbody tr th {\n",
       "        vertical-align: top;\n",
       "    }\n",
       "\n",
       "    .dataframe thead th {\n",
       "        text-align: right;\n",
       "    }\n",
       "</style>\n",
       "<table border=\"1\" class=\"dataframe\">\n",
       "  <thead>\n",
       "    <tr style=\"text-align: right;\">\n",
       "      <th></th>\n",
       "      <th>geonameid</th>\n",
       "      <th>name</th>\n",
       "      <th>asciiname</th>\n",
       "      <th>alternatenames</th>\n",
       "      <th>latitude</th>\n",
       "      <th>longitude</th>\n",
       "      <th>feature class</th>\n",
       "      <th>feature code</th>\n",
       "      <th>country code</th>\n",
       "      <th>cc2</th>\n",
       "      <th>admin1 code</th>\n",
       "      <th>admin2 code</th>\n",
       "      <th>admin3 code</th>\n",
       "      <th>admin 4 code</th>\n",
       "      <th>population</th>\n",
       "      <th>elevation</th>\n",
       "      <th>dem</th>\n",
       "      <th>timezone</th>\n",
       "      <th>modification date</th>\n",
       "    </tr>\n",
       "  </thead>\n",
       "  <tbody>\n",
       "    <tr>\n",
       "      <td>21223</td>\n",
       "      <td>1796236</td>\n",
       "      <td>Shanghai</td>\n",
       "      <td>Shanghai</td>\n",
       "      <td>SHA,San'nkae,Sanchajus,Sangaj,Sangay,Sanghaj,S...</td>\n",
       "      <td>31.22222</td>\n",
       "      <td>121.45806</td>\n",
       "      <td>P</td>\n",
       "      <td>PPLA</td>\n",
       "      <td>CN</td>\n",
       "      <td>NaN</td>\n",
       "      <td>23</td>\n",
       "      <td>NaN</td>\n",
       "      <td>NaN</td>\n",
       "      <td>NaN</td>\n",
       "      <td>22315474</td>\n",
       "      <td>NaN</td>\n",
       "      <td>12</td>\n",
       "      <td>Asia/Shanghai</td>\n",
       "      <td>2017-07-27</td>\n",
       "    </tr>\n",
       "    <tr>\n",
       "      <td>166568</td>\n",
       "      <td>745044</td>\n",
       "      <td>Istanbul</td>\n",
       "      <td>Istanbul</td>\n",
       "      <td>Bizanc,Bizánc,Byzance,Byzantion,Byzantium,Byza...</td>\n",
       "      <td>41.01384</td>\n",
       "      <td>28.94966</td>\n",
       "      <td>P</td>\n",
       "      <td>PPLA</td>\n",
       "      <td>TR</td>\n",
       "      <td>NaN</td>\n",
       "      <td>34</td>\n",
       "      <td>NaN</td>\n",
       "      <td>NaN</td>\n",
       "      <td>NaN</td>\n",
       "      <td>14804116</td>\n",
       "      <td>NaN</td>\n",
       "      <td>39</td>\n",
       "      <td>Europe/Istanbul</td>\n",
       "      <td>2017-09-26</td>\n",
       "    </tr>\n",
       "    <tr>\n",
       "      <td>1359</td>\n",
       "      <td>3435910</td>\n",
       "      <td>Buenos Aires</td>\n",
       "      <td>Buenos Aires</td>\n",
       "      <td>BUE,Baires,Bonaero,Bonaeropolis,Bonaëropolis,B...</td>\n",
       "      <td>-34.61315</td>\n",
       "      <td>-58.37723</td>\n",
       "      <td>P</td>\n",
       "      <td>PPLC</td>\n",
       "      <td>AR</td>\n",
       "      <td>NaN</td>\n",
       "      <td>07</td>\n",
       "      <td>NaN</td>\n",
       "      <td>NaN</td>\n",
       "      <td>NaN</td>\n",
       "      <td>13076300</td>\n",
       "      <td>NaN</td>\n",
       "      <td>31</td>\n",
       "      <td>America/Argentina/Buenos_Aires</td>\n",
       "      <td>2019-09-05</td>\n",
       "    </tr>\n",
       "    <tr>\n",
       "      <td>96305</td>\n",
       "      <td>1275339</td>\n",
       "      <td>Mumbai</td>\n",
       "      <td>Mumbai</td>\n",
       "      <td>Asumumbay,BOM,Bombai,Bombaim,Bombaj,Bombay,Bom...</td>\n",
       "      <td>19.07283</td>\n",
       "      <td>72.88261</td>\n",
       "      <td>P</td>\n",
       "      <td>PPLA</td>\n",
       "      <td>IN</td>\n",
       "      <td>NaN</td>\n",
       "      <td>16</td>\n",
       "      <td>NaN</td>\n",
       "      <td>NaN</td>\n",
       "      <td>NaN</td>\n",
       "      <td>12691836</td>\n",
       "      <td>NaN</td>\n",
       "      <td>8</td>\n",
       "      <td>Asia/Kolkata</td>\n",
       "      <td>2019-09-05</td>\n",
       "    </tr>\n",
       "    <tr>\n",
       "      <td>117495</td>\n",
       "      <td>3530597</td>\n",
       "      <td>Mexico City</td>\n",
       "      <td>Mexico City</td>\n",
       "      <td>Cidade de Mexico,Cidade de México,Cidade do Me...</td>\n",
       "      <td>19.42847</td>\n",
       "      <td>-99.12766</td>\n",
       "      <td>P</td>\n",
       "      <td>PPLC</td>\n",
       "      <td>MX</td>\n",
       "      <td>NaN</td>\n",
       "      <td>09</td>\n",
       "      <td>NaN</td>\n",
       "      <td>NaN</td>\n",
       "      <td>NaN</td>\n",
       "      <td>12294193</td>\n",
       "      <td>NaN</td>\n",
       "      <td>2240</td>\n",
       "      <td>America/Mexico_City</td>\n",
       "      <td>2019-03-15</td>\n",
       "    </tr>\n",
       "  </tbody>\n",
       "</table>\n",
       "</div>"
      ],
      "text/plain": [
       "        geonameid          name     asciiname  \\\n",
       "21223     1796236      Shanghai      Shanghai   \n",
       "166568     745044      Istanbul      Istanbul   \n",
       "1359      3435910  Buenos Aires  Buenos Aires   \n",
       "96305     1275339        Mumbai        Mumbai   \n",
       "117495    3530597   Mexico City   Mexico City   \n",
       "\n",
       "                                           alternatenames  latitude  \\\n",
       "21223   SHA,San'nkae,Sanchajus,Sangaj,Sangay,Sanghaj,S...  31.22222   \n",
       "166568  Bizanc,Bizánc,Byzance,Byzantion,Byzantium,Byza...  41.01384   \n",
       "1359    BUE,Baires,Bonaero,Bonaeropolis,Bonaëropolis,B... -34.61315   \n",
       "96305   Asumumbay,BOM,Bombai,Bombaim,Bombaj,Bombay,Bom...  19.07283   \n",
       "117495  Cidade de Mexico,Cidade de México,Cidade do Me...  19.42847   \n",
       "\n",
       "        longitude feature class feature code country code  cc2 admin1 code  \\\n",
       "21223   121.45806             P         PPLA           CN  NaN          23   \n",
       "166568   28.94966             P         PPLA           TR  NaN          34   \n",
       "1359    -58.37723             P         PPLC           AR  NaN          07   \n",
       "96305    72.88261             P         PPLA           IN  NaN          16   \n",
       "117495  -99.12766             P         PPLC           MX  NaN          09   \n",
       "\n",
       "       admin2 code admin3 code admin 4 code  population  elevation   dem  \\\n",
       "21223          NaN         NaN          NaN    22315474        NaN    12   \n",
       "166568         NaN         NaN          NaN    14804116        NaN    39   \n",
       "1359           NaN         NaN          NaN    13076300        NaN    31   \n",
       "96305          NaN         NaN          NaN    12691836        NaN     8   \n",
       "117495         NaN         NaN          NaN    12294193        NaN  2240   \n",
       "\n",
       "                              timezone modification date  \n",
       "21223                    Asia/Shanghai        2017-07-27  \n",
       "166568                 Europe/Istanbul        2017-09-26  \n",
       "1359    America/Argentina/Buenos_Aires        2019-09-05  \n",
       "96305                     Asia/Kolkata        2019-09-05  \n",
       "117495             America/Mexico_City        2019-03-15  "
      ]
     },
     "execution_count": 11,
     "metadata": {},
     "output_type": "execute_result"
    }
   ],
   "source": [
    "cities500.sort_values(by='population', ascending =False).head()"
   ]
  },
  {
   "cell_type": "markdown",
   "metadata": {},
   "source": [
    "We will also create a set of all unique cities to use in the comparison"
   ]
  },
  {
   "cell_type": "code",
   "execution_count": 22,
   "metadata": {},
   "outputs": [],
   "source": [
    "upper_case_cities = cities500['name'].unique()"
   ]
  },
  {
   "cell_type": "markdown",
   "metadata": {},
   "source": [
    "To see if given city resembles just a normal word we will also check those names in lower case and compare the amounts:"
   ]
  },
  {
   "cell_type": "code",
   "execution_count": 24,
   "metadata": {},
   "outputs": [],
   "source": [
    "lower_case_cities = cities500['name'].str.lower().unique()"
   ]
  },
  {
   "cell_type": "markdown",
   "metadata": {},
   "source": [
    "We will also create a dictionary with outdated names of cities and their modern versions:"
   ]
  },
  {
   "cell_type": "code",
   "execution_count": 25,
   "metadata": {},
   "outputs": [],
   "source": [
    "OUTDATED_NAMES = {\n",
    "    \"Madras\": \"Chennai\", \n",
    "    \"Bombay\": \"Mumbai\", \n",
    "    \"Frunze\": \"Bishkek\", \n",
    "    \"Petrograd\": \"St Petersburg\", \n",
    "    \"Rangoon\": \"Yangon\",\n",
    "    \"Saigon\": \"Ho Chi Minh City\", \n",
    "    \"Lourenco Marques\": \"Maputo\", \n",
    "    \"Leopoldville\": \"Kinshasa\", \n",
    "    \"Edo\": \"Tokyo\",\n",
    "    \"Calcutta\": \"Kolkata\"}"
   ]
  },
  {
   "cell_type": "markdown",
   "metadata": {},
   "source": [
    "Now we can open the book, scan through the words and see which of those match any city"
   ]
  },
  {
   "cell_type": "code",
   "execution_count": 29,
   "metadata": {},
   "outputs": [
    {
     "data": {
      "application/vnd.jupyter.widget-view+json": {
       "model_id": "20ae82429df6436ba4af811e601c9a4e",
       "version_major": 2,
       "version_minor": 0
      },
      "text/plain": [
       "HBox(children=(IntProgress(value=1, bar_style='info', max=1), HTML(value='')))"
      ]
     },
     "metadata": {},
     "output_type": "display_data"
    },
    {
     "name": "stdout",
     "output_type": "stream",
     "text": [
      "\n"
     ]
    }
   ],
   "source": [
    "upper_case_mentions = collections.defaultdict(int)\n",
    "lower_case_mentions = collections.defaultdict(int)\n",
    "with open(DATA_PATH, mode='r', encoding='utf-8') as file:\n",
    "    for line in tqdm(file):\n",
    "        # Replacing outdated names\n",
    "        for old_name, new_name in OUTDATED_NAMES.items():\n",
    "            line = line.replace(old_name, new_name)\n",
    "        for city in upper_case_cities:\n",
    "            if city in line:\n",
    "                upper_case_mentions[city] += 1\n",
    "        for city in lower_case_cities:\n",
    "            if city in line:\n",
    "                lower_case_mentions[city] += 1"
   ]
  },
  {
   "cell_type": "markdown",
   "metadata": {},
   "source": [
    "We check how many times upper case mentions exceed the lower case ones."
   ]
  },
  {
   "cell_type": "code",
   "execution_count": 30,
   "metadata": {},
   "outputs": [],
   "source": [
    "mentions = {k: v - lower_case_mentions[k.lower()] for k, v in upper_case_mentions.items()}"
   ]
  },
  {
   "cell_type": "code",
   "execution_count": 31,
   "metadata": {
    "scrolled": true
   },
   "outputs": [
    {
     "data": {
      "text/plain": [
       "532"
      ]
     },
     "execution_count": 31,
     "metadata": {},
     "output_type": "execute_result"
    }
   ],
   "source": [
    "len(mentions)"
   ]
  },
  {
   "cell_type": "markdown",
   "metadata": {},
   "source": [
    "To see if given city is in fact a city and not a normal word we will take only those, which frequency in upper case is higher than in lower case:"
   ]
  },
  {
   "cell_type": "code",
   "execution_count": 32,
   "metadata": {},
   "outputs": [],
   "source": [
    "positive_mentions = {k: v for k, v in mentions.items() if v > 0}"
   ]
  },
  {
   "cell_type": "markdown",
   "metadata": {},
   "source": [
    "Now we can check with how many cities we are left"
   ]
  },
  {
   "cell_type": "code",
   "execution_count": 33,
   "metadata": {},
   "outputs": [
    {
     "data": {
      "text/plain": [
       "290"
      ]
     },
     "execution_count": 33,
     "metadata": {},
     "output_type": "execute_result"
    }
   ],
   "source": [
    "len(positive_mentions)"
   ]
  },
  {
   "cell_type": "markdown",
   "metadata": {},
   "source": [
    "# Filtering visited cities"
   ]
  },
  {
   "cell_type": "markdown",
   "metadata": {},
   "source": [
    "We will now choose those cities from our `cities500` database."
   ]
  },
  {
   "cell_type": "code",
   "execution_count": 34,
   "metadata": {},
   "outputs": [],
   "source": [
    "visited_df = cities500[cities500['name'].isin(positive_mentions)]"
   ]
  },
  {
   "cell_type": "markdown",
   "metadata": {},
   "source": [
    "We assume that if there are multiple cities with the same name we take the one with greater population."
   ]
  },
  {
   "cell_type": "code",
   "execution_count": 35,
   "metadata": {
    "scrolled": false
   },
   "outputs": [],
   "source": [
    "visited_df = visited_df.sort_values(by='population', ascending=False).drop_duplicates(subset='name')"
   ]
  },
  {
   "cell_type": "code",
   "execution_count": 36,
   "metadata": {
    "scrolled": true
   },
   "outputs": [
    {
     "data": {
      "text/plain": [
       "(290, 19)"
      ]
     },
     "execution_count": 36,
     "metadata": {},
     "output_type": "execute_result"
    }
   ],
   "source": [
    "visited_df.shape"
   ]
  },
  {
   "cell_type": "markdown",
   "metadata": {},
   "source": [
    "We are left with 290 cities!"
   ]
  },
  {
   "cell_type": "markdown",
   "metadata": {},
   "source": [
    "If we filter further to cities with population of over 500 000."
   ]
  },
  {
   "cell_type": "code",
   "execution_count": 37,
   "metadata": {},
   "outputs": [],
   "source": [
    "visited_df = visited_df[visited_df['population'] > 500000]"
   ]
  },
  {
   "cell_type": "markdown",
   "metadata": {},
   "source": [
    "And format the data into one eligible for the data visualization"
   ]
  },
  {
   "cell_type": "code",
   "execution_count": 38,
   "metadata": {},
   "outputs": [],
   "source": [
    "locations = visited_df[['name', 'latitude', 'longitude']]\\\n",
    "    .sort_values(by='longitude')\\\n",
    "    .set_index('name')\\\n",
    "    .T\\\n",
    "    .to_dict(into=collections.OrderedDict, orient='list')"
   ]
  },
  {
   "cell_type": "code",
   "execution_count": 39,
   "metadata": {
    "scrolled": true
   },
   "outputs": [
    {
     "data": {
      "text/plain": [
       "OrderedDict([('San Francisco', [37.77493, -122.41942]),\n",
       "             ('Denver', [39.73915, -104.9847]),\n",
       "             ('Chicago', [41.85003, -87.65005]),\n",
       "             ('Columbus', [39.96118, -82.99879]),\n",
       "             ('Cali', [3.4372199999999995, -76.5225]),\n",
       "             ('Queens', [40.681490000000004, -73.83652]),\n",
       "             ('Dublin', [53.333059999999996, -6.24889]),\n",
       "             ('Glasgow', [55.86515, -4.257630000000001]),\n",
       "             ('Liverpool', [53.41058, -2.9779400000000003]),\n",
       "             ('Birmingham', [52.48141999999999, -1.89983]),\n",
       "             ('London', [51.50853, -0.12574000000000002]),\n",
       "             ('Paris', [48.85341, 2.3488]),\n",
       "             ('Jos', [9.92849, 8.89212]),\n",
       "             ('Hamburg', [53.55073, 9.99302]),\n",
       "             ('Athens', [37.98376, 23.72784]),\n",
       "             ('Aden', [12.77944, 45.03667]),\n",
       "             ('Mumbai', [19.07283, 72.88261]),\n",
       "             ('Cochin', [9.93988, 76.26021999999999]),\n",
       "             ('Chennai', [13.08784, 80.27847]),\n",
       "             ('Patna', [25.594079999999998, 85.13563]),\n",
       "             ('Kolkata', [22.56263, 88.36304]),\n",
       "             ('Yangon', [16.80528, 96.15611]),\n",
       "             ('Singapore', [1.28967, 103.85007]),\n",
       "             ('Hong Kong', [22.27832, 114.17468999999998]),\n",
       "             ('Shanghai', [31.22222, 121.45806]),\n",
       "             ('Yokohama', [35.43333, 139.65])])"
      ]
     },
     "execution_count": 39,
     "metadata": {},
     "output_type": "execute_result"
    }
   ],
   "source": [
    "locations"
   ]
  },
  {
   "cell_type": "markdown",
   "metadata": {},
   "source": [
    "We will also delete locations that don't make any sense."
   ]
  },
  {
   "cell_type": "code",
   "execution_count": 40,
   "metadata": {},
   "outputs": [],
   "source": [
    "del locations['Jos']\n",
    "del locations['Cali']"
   ]
  },
  {
   "cell_type": "markdown",
   "metadata": {},
   "source": [
    "## Drawing on a world map"
   ]
  },
  {
   "cell_type": "markdown",
   "metadata": {},
   "source": [
    "To draw the journey we will use `folium` library, which provides a simple interface for marking places on maps"
   ]
  },
  {
   "cell_type": "markdown",
   "metadata": {},
   "source": [
    "We create instance of the `folim.Map` class"
   ]
  },
  {
   "cell_type": "code",
   "execution_count": 42,
   "metadata": {},
   "outputs": [],
   "source": [
    "map_ = folium.Map(\n",
    "    location=[51.50853, -0.12574000000000002],\n",
    "    world_copy_jump=True,\n",
    "    no_wrap=False,\n",
    "    width='100%',\n",
    "    zoom_start=3\n",
    ")"
   ]
  },
  {
   "cell_type": "markdown",
   "metadata": {},
   "source": [
    "And add the markers (with a pinch of HTML formatting)"
   ]
  },
  {
   "cell_type": "code",
   "execution_count": 43,
   "metadata": {},
   "outputs": [],
   "source": [
    "for name, (lat, lon) in locations.items():\n",
    "    popup = f\"<strong>{name}</strong><p>Latitude: {lat}</p><p>Longitude: {lon}</p>\"\n",
    "    folium.Marker(location=(lat, lon), \n",
    "                  tooltip=name,\n",
    "                  popup=popup).add_to(map_)"
   ]
  },
  {
   "cell_type": "markdown",
   "metadata": {},
   "source": [
    "Now we just draw the lines"
   ]
  },
  {
   "cell_type": "code",
   "execution_count": 47,
   "metadata": {},
   "outputs": [],
   "source": [
    "%%capture\n",
    "folium.PolyLine(locations=locations.values()).add_to(map_)"
   ]
  },
  {
   "cell_type": "markdown",
   "metadata": {},
   "source": [
    "And display the map!"
   ]
  },
  {
   "cell_type": "code",
   "execution_count": 48,
   "metadata": {
    "scrolled": false
   },
   "outputs": [
    {
     "data": {
      "text/html": [
       "<div style=\"width:100%;\"><div style=\"position:relative;width:100%;height:0;padding-bottom:60%;\"><iframe src=\"about:blank\" style=\"position:absolute;width:100%;height:100%;left:0;top:0;border:none !important;\" data-html=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 onload=\"this.contentDocument.open();this.contentDocument.write(atob(this.getAttribute('data-html')));this.contentDocument.close();\" allowfullscreen webkitallowfullscreen mozallowfullscreen></iframe></div></div>"
      ],
      "text/plain": [
       "<folium.folium.Map at 0x7fe1700ae3d0>"
      ]
     },
     "execution_count": 48,
     "metadata": {},
     "output_type": "execute_result"
    }
   ],
   "source": [
    "map_"
   ]
  },
  {
   "cell_type": "markdown",
   "metadata": {},
   "source": [
    "As we can see the map looks meaningful. The journey reaches biggest cities around the world and stops at rather constant rate."
   ]
  }
 ],
 "metadata": {
  "kernelspec": {
   "display_name": "Python 3",
   "language": "python",
   "name": "python3"
  },
  "language_info": {
   "codemirror_mode": {
    "name": "ipython",
    "version": 3
   },
   "file_extension": ".py",
   "mimetype": "text/x-python",
   "name": "python",
   "nbconvert_exporter": "python",
   "pygments_lexer": "ipython3",
   "version": "3.7.4"
  }
 },
 "nbformat": 4,
 "nbformat_minor": 2
}
