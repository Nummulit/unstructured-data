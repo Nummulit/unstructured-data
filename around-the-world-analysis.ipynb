{
 "cells": [
  {
   "cell_type": "markdown",
   "metadata": {},
   "source": [
    "# Task description\n",
    "Download the novel \"Around the world in 80 days\" by J. Verne from Project Gutenberg webstie. Find all cities visited by Phileas Fogg, the protagonist of the novel. Draw the path of his journey on a world map."
   ]
  },
  {
   "cell_type": "markdown",
   "metadata": {},
   "source": [
    "# Solution"
   ]
  },
  {
   "cell_type": "code",
   "execution_count": 1,
   "metadata": {},
   "outputs": [],
   "source": [
    "import re  # For data extraction\n",
    "import collections\n",
    "\n",
    "import folium  # For visualizations on map\n",
    "import pandas as pd  # For data loading and processing\n",
    "from tqdm.notebook import tqdm  # For progress bar displaying"
   ]
  },
  {
   "cell_type": "markdown",
   "metadata": {},
   "source": [
    "## Getting the book"
   ]
  },
  {
   "cell_type": "markdown",
   "metadata": {},
   "source": [
    "Obtaining the text of the books is as easy as going to the Project Gutenberg website, searching the title and downloading the text file."
   ]
  },
  {
   "cell_type": "code",
   "execution_count": 2,
   "metadata": {},
   "outputs": [],
   "source": [
    "DATA_PATH = r'data/around-the-world.txt'"
   ]
  },
  {
   "cell_type": "markdown",
   "metadata": {},
   "source": [
    "## Getting list of the cities"
   ]
  },
  {
   "cell_type": "markdown",
   "metadata": {},
   "source": [
    "To see what words describe cities we will compare each word to a list of cities and keep those that match."
   ]
  },
  {
   "cell_type": "markdown",
   "metadata": {},
   "source": [
    "We will use the [Geonames](http://www.geonames.org/) database for list of all cities."
   ]
  },
  {
   "cell_type": "code",
   "execution_count": 3,
   "metadata": {},
   "outputs": [],
   "source": [
    "cities500 = pd.read_csv('data/cities500.txt', \n",
    "                        sep='\\t', \n",
    "                        header=None, \n",
    "                        engine='python', \n",
    "                        encoding='utf-8')"
   ]
  },
  {
   "cell_type": "markdown",
   "metadata": {},
   "source": [
    "Unfortunately we have to set the column names manually "
   ]
  },
  {
   "cell_type": "code",
   "execution_count": 4,
   "metadata": {},
   "outputs": [],
   "source": [
    "col_names = [\n",
    "    'geonameid',\n",
    "    'name',\n",
    "    'asciiname',\n",
    "    'alternatenames',\n",
    "    'latitude',\n",
    "    'longitude',\n",
    "    'feature class',\n",
    "    'feature code',\n",
    "    'country code',\n",
    "    'cc2',\n",
    "    'admin1 code',\n",
    "    'admin2 code',\n",
    "    'admin3 code',\n",
    "    'admin 4 code',\n",
    "    'population',\n",
    "    'elevation',\n",
    "    'dem',\n",
    "    'timezone',\n",
    "    'modification date'\n",
    "]"
   ]
  },
  {
   "cell_type": "code",
   "execution_count": 5,
   "metadata": {},
   "outputs": [],
   "source": [
    "cities500.columns = col_names"
   ]
  },
  {
   "cell_type": "markdown",
   "metadata": {},
   "source": [
    "Now we can investigate how the data frame looks like"
   ]
  },
  {
   "cell_type": "code",
   "execution_count": 6,
   "metadata": {
    "scrolled": false
   },
   "outputs": [
    {
     "data": {
      "text/html": [
       "<div>\n",
       "<style scoped>\n",
       "    .dataframe tbody tr th:only-of-type {\n",
       "        vertical-align: middle;\n",
       "    }\n",
       "\n",
       "    .dataframe tbody tr th {\n",
       "        vertical-align: top;\n",
       "    }\n",
       "\n",
       "    .dataframe thead th {\n",
       "        text-align: right;\n",
       "    }\n",
       "</style>\n",
       "<table border=\"1\" class=\"dataframe\">\n",
       "  <thead>\n",
       "    <tr style=\"text-align: right;\">\n",
       "      <th></th>\n",
       "      <th>geonameid</th>\n",
       "      <th>name</th>\n",
       "      <th>asciiname</th>\n",
       "      <th>alternatenames</th>\n",
       "      <th>latitude</th>\n",
       "      <th>longitude</th>\n",
       "      <th>feature class</th>\n",
       "      <th>feature code</th>\n",
       "      <th>country code</th>\n",
       "      <th>cc2</th>\n",
       "      <th>admin1 code</th>\n",
       "      <th>admin2 code</th>\n",
       "      <th>admin3 code</th>\n",
       "      <th>admin 4 code</th>\n",
       "      <th>population</th>\n",
       "      <th>elevation</th>\n",
       "      <th>dem</th>\n",
       "      <th>timezone</th>\n",
       "      <th>modification date</th>\n",
       "    </tr>\n",
       "  </thead>\n",
       "  <tbody>\n",
       "    <tr>\n",
       "      <th>21223</th>\n",
       "      <td>1796236</td>\n",
       "      <td>Shanghai</td>\n",
       "      <td>Shanghai</td>\n",
       "      <td>SHA,San'nkae,Sanchajus,Sangaj,Sangay,Sanghaj,S...</td>\n",
       "      <td>31.22222</td>\n",
       "      <td>121.45806</td>\n",
       "      <td>P</td>\n",
       "      <td>PPLA</td>\n",
       "      <td>CN</td>\n",
       "      <td>NaN</td>\n",
       "      <td>23</td>\n",
       "      <td>NaN</td>\n",
       "      <td>NaN</td>\n",
       "      <td>NaN</td>\n",
       "      <td>22315474</td>\n",
       "      <td>NaN</td>\n",
       "      <td>12</td>\n",
       "      <td>Asia/Shanghai</td>\n",
       "      <td>2017-07-27</td>\n",
       "    </tr>\n",
       "    <tr>\n",
       "      <th>166568</th>\n",
       "      <td>745044</td>\n",
       "      <td>Istanbul</td>\n",
       "      <td>Istanbul</td>\n",
       "      <td>Bizanc,Bizánc,Byzance,Byzantion,Byzantium,Byza...</td>\n",
       "      <td>41.01384</td>\n",
       "      <td>28.94966</td>\n",
       "      <td>P</td>\n",
       "      <td>PPLA</td>\n",
       "      <td>TR</td>\n",
       "      <td>NaN</td>\n",
       "      <td>34</td>\n",
       "      <td>NaN</td>\n",
       "      <td>NaN</td>\n",
       "      <td>NaN</td>\n",
       "      <td>14804116</td>\n",
       "      <td>NaN</td>\n",
       "      <td>39</td>\n",
       "      <td>Europe/Istanbul</td>\n",
       "      <td>2017-09-26</td>\n",
       "    </tr>\n",
       "    <tr>\n",
       "      <th>1359</th>\n",
       "      <td>3435910</td>\n",
       "      <td>Buenos Aires</td>\n",
       "      <td>Buenos Aires</td>\n",
       "      <td>BUE,Baires,Bonaero,Bonaeropolis,Bonaëropolis,B...</td>\n",
       "      <td>-34.61315</td>\n",
       "      <td>-58.37723</td>\n",
       "      <td>P</td>\n",
       "      <td>PPLC</td>\n",
       "      <td>AR</td>\n",
       "      <td>NaN</td>\n",
       "      <td>07</td>\n",
       "      <td>NaN</td>\n",
       "      <td>NaN</td>\n",
       "      <td>NaN</td>\n",
       "      <td>13076300</td>\n",
       "      <td>NaN</td>\n",
       "      <td>31</td>\n",
       "      <td>America/Argentina/Buenos_Aires</td>\n",
       "      <td>2019-09-05</td>\n",
       "    </tr>\n",
       "    <tr>\n",
       "      <th>96305</th>\n",
       "      <td>1275339</td>\n",
       "      <td>Mumbai</td>\n",
       "      <td>Mumbai</td>\n",
       "      <td>Asumumbay,BOM,Bombai,Bombaim,Bombaj,Bombay,Bom...</td>\n",
       "      <td>19.07283</td>\n",
       "      <td>72.88261</td>\n",
       "      <td>P</td>\n",
       "      <td>PPLA</td>\n",
       "      <td>IN</td>\n",
       "      <td>NaN</td>\n",
       "      <td>16</td>\n",
       "      <td>NaN</td>\n",
       "      <td>NaN</td>\n",
       "      <td>NaN</td>\n",
       "      <td>12691836</td>\n",
       "      <td>NaN</td>\n",
       "      <td>8</td>\n",
       "      <td>Asia/Kolkata</td>\n",
       "      <td>2019-09-05</td>\n",
       "    </tr>\n",
       "    <tr>\n",
       "      <th>117495</th>\n",
       "      <td>3530597</td>\n",
       "      <td>Mexico City</td>\n",
       "      <td>Mexico City</td>\n",
       "      <td>Cidade de Mexico,Cidade de México,Cidade do Me...</td>\n",
       "      <td>19.42847</td>\n",
       "      <td>-99.12766</td>\n",
       "      <td>P</td>\n",
       "      <td>PPLC</td>\n",
       "      <td>MX</td>\n",
       "      <td>NaN</td>\n",
       "      <td>09</td>\n",
       "      <td>NaN</td>\n",
       "      <td>NaN</td>\n",
       "      <td>NaN</td>\n",
       "      <td>12294193</td>\n",
       "      <td>NaN</td>\n",
       "      <td>2240</td>\n",
       "      <td>America/Mexico_City</td>\n",
       "      <td>2019-03-15</td>\n",
       "    </tr>\n",
       "  </tbody>\n",
       "</table>\n",
       "</div>"
      ],
      "text/plain": [
       "        geonameid          name     asciiname  \\\n",
       "21223     1796236      Shanghai      Shanghai   \n",
       "166568     745044      Istanbul      Istanbul   \n",
       "1359      3435910  Buenos Aires  Buenos Aires   \n",
       "96305     1275339        Mumbai        Mumbai   \n",
       "117495    3530597   Mexico City   Mexico City   \n",
       "\n",
       "                                           alternatenames  latitude  \\\n",
       "21223   SHA,San'nkae,Sanchajus,Sangaj,Sangay,Sanghaj,S...  31.22222   \n",
       "166568  Bizanc,Bizánc,Byzance,Byzantion,Byzantium,Byza...  41.01384   \n",
       "1359    BUE,Baires,Bonaero,Bonaeropolis,Bonaëropolis,B... -34.61315   \n",
       "96305   Asumumbay,BOM,Bombai,Bombaim,Bombaj,Bombay,Bom...  19.07283   \n",
       "117495  Cidade de Mexico,Cidade de México,Cidade do Me...  19.42847   \n",
       "\n",
       "        longitude feature class feature code country code  cc2 admin1 code  \\\n",
       "21223   121.45806             P         PPLA           CN  NaN          23   \n",
       "166568   28.94966             P         PPLA           TR  NaN          34   \n",
       "1359    -58.37723             P         PPLC           AR  NaN          07   \n",
       "96305    72.88261             P         PPLA           IN  NaN          16   \n",
       "117495  -99.12766             P         PPLC           MX  NaN          09   \n",
       "\n",
       "       admin2 code admin3 code admin 4 code  population  elevation   dem  \\\n",
       "21223          NaN         NaN          NaN    22315474        NaN    12   \n",
       "166568         NaN         NaN          NaN    14804116        NaN    39   \n",
       "1359           NaN         NaN          NaN    13076300        NaN    31   \n",
       "96305          NaN         NaN          NaN    12691836        NaN     8   \n",
       "117495         NaN         NaN          NaN    12294193        NaN  2240   \n",
       "\n",
       "                              timezone modification date  \n",
       "21223                    Asia/Shanghai        2017-07-27  \n",
       "166568                 Europe/Istanbul        2017-09-26  \n",
       "1359    America/Argentina/Buenos_Aires        2019-09-05  \n",
       "96305                     Asia/Kolkata        2019-09-05  \n",
       "117495             America/Mexico_City        2019-03-15  "
      ]
     },
     "execution_count": 6,
     "metadata": {},
     "output_type": "execute_result"
    }
   ],
   "source": [
    "cities500.sort_values(by='population', ascending =False).head()"
   ]
  },
  {
   "cell_type": "markdown",
   "metadata": {},
   "source": [
    "We will also create a set of all unique cities to use in the comparison"
   ]
  },
  {
   "cell_type": "code",
   "execution_count": 7,
   "metadata": {},
   "outputs": [],
   "source": [
    "upper_case_cities = cities500['name'].unique()"
   ]
  },
  {
   "cell_type": "markdown",
   "metadata": {},
   "source": [
    "To see if given city resembles just a normal word we will also check those names in lower case and compare the amounts:"
   ]
  },
  {
   "cell_type": "code",
   "execution_count": 8,
   "metadata": {},
   "outputs": [],
   "source": [
    "lower_case_cities = cities500['name'].str.lower().unique()"
   ]
  },
  {
   "cell_type": "markdown",
   "metadata": {},
   "source": [
    "We will also create a dictionary with outdated names of cities and their modern versions:"
   ]
  },
  {
   "cell_type": "code",
   "execution_count": 9,
   "metadata": {},
   "outputs": [],
   "source": [
    "OUTDATED_NAMES = {\n",
    "    \"Madras\": \"Chennai\", \n",
    "    \"Bombay\": \"Mumbai\", \n",
    "    \"Frunze\": \"Bishkek\", \n",
    "    \"Petrograd\": \"St Petersburg\", \n",
    "    \"Rangoon\": \"Yangon\",\n",
    "    \"Saigon\": \"Ho Chi Minh City\", \n",
    "    \"Lourenco Marques\": \"Maputo\", \n",
    "    \"Leopoldville\": \"Kinshasa\", \n",
    "    \"Edo\": \"Tokyo\",\n",
    "    \"Calcutta\": \"Kolkata\"}"
   ]
  },
  {
   "cell_type": "markdown",
   "metadata": {},
   "source": [
    "Now we can open the book, scan through the words and see which of those match any city"
   ]
  },
  {
   "cell_type": "code",
   "execution_count": 10,
   "metadata": {},
   "outputs": [
    {
     "data": {
      "application/vnd.jupyter.widget-view+json": {
       "model_id": "5aa0b02ae04f4877bd3cdfa08503f4ce",
       "version_major": 2,
       "version_minor": 0
      },
      "text/plain": [
       "HBox(children=(FloatProgress(value=1.0, bar_style='info', max=1.0), HTML(value='')))"
      ]
     },
     "metadata": {},
     "output_type": "display_data"
    },
    {
     "name": "stdout",
     "output_type": "stream",
     "text": [
      "\n"
     ]
    }
   ],
   "source": [
    "upper_case_mentions = collections.defaultdict(int)\n",
    "lower_case_mentions = collections.defaultdict(int)\n",
    "with open(DATA_PATH, mode='r', encoding='utf-8') as file:\n",
    "    for line in tqdm(file):\n",
    "        # Replacing outdated names\n",
    "        for old_name, new_name in OUTDATED_NAMES.items():\n",
    "            line = line.replace(old_name, new_name)\n",
    "        for city in upper_case_cities:\n",
    "            if city in line:\n",
    "                upper_case_mentions[city] += 1\n",
    "        for city in lower_case_cities:\n",
    "            if city in line:\n",
    "                lower_case_mentions[city] += 1"
   ]
  },
  {
   "cell_type": "markdown",
   "metadata": {},
   "source": [
    "We check how many times upper case mentions exceed the lower case ones."
   ]
  },
  {
   "cell_type": "code",
   "execution_count": 11,
   "metadata": {},
   "outputs": [],
   "source": [
    "mentions = {k: v - lower_case_mentions[k.lower()] for k, v in upper_case_mentions.items()}"
   ]
  },
  {
   "cell_type": "code",
   "execution_count": 12,
   "metadata": {
    "scrolled": true
   },
   "outputs": [
    {
     "data": {
      "text/plain": [
       "532"
      ]
     },
     "execution_count": 12,
     "metadata": {},
     "output_type": "execute_result"
    }
   ],
   "source": [
    "len(mentions)"
   ]
  },
  {
   "cell_type": "markdown",
   "metadata": {},
   "source": [
    "To see if given city is in fact a city and not a normal word we will take only those, which frequency in upper case is higher than in lower case:"
   ]
  },
  {
   "cell_type": "code",
   "execution_count": 13,
   "metadata": {},
   "outputs": [],
   "source": [
    "positive_mentions = {k: v for k, v in mentions.items() if v > 0}"
   ]
  },
  {
   "cell_type": "markdown",
   "metadata": {},
   "source": [
    "Now we can check with how many cities we are left"
   ]
  },
  {
   "cell_type": "code",
   "execution_count": 14,
   "metadata": {},
   "outputs": [
    {
     "data": {
      "text/plain": [
       "290"
      ]
     },
     "execution_count": 14,
     "metadata": {},
     "output_type": "execute_result"
    }
   ],
   "source": [
    "len(positive_mentions)"
   ]
  },
  {
   "cell_type": "markdown",
   "metadata": {},
   "source": [
    "# Filtering visited cities"
   ]
  },
  {
   "cell_type": "markdown",
   "metadata": {},
   "source": [
    "We will now choose those cities from our `cities500` database."
   ]
  },
  {
   "cell_type": "code",
   "execution_count": 15,
   "metadata": {},
   "outputs": [],
   "source": [
    "visited_df = cities500[cities500['name'].isin(positive_mentions)]"
   ]
  },
  {
   "cell_type": "markdown",
   "metadata": {},
   "source": [
    "We assume that if there are multiple cities with the same name we take the one with greater population."
   ]
  },
  {
   "cell_type": "code",
   "execution_count": 16,
   "metadata": {
    "scrolled": false
   },
   "outputs": [],
   "source": [
    "visited_df = visited_df.sort_values(by='population', ascending=False).drop_duplicates(subset='name')"
   ]
  },
  {
   "cell_type": "code",
   "execution_count": 17,
   "metadata": {
    "scrolled": true
   },
   "outputs": [
    {
     "data": {
      "text/plain": [
       "(290, 19)"
      ]
     },
     "execution_count": 17,
     "metadata": {},
     "output_type": "execute_result"
    }
   ],
   "source": [
    "visited_df.shape"
   ]
  },
  {
   "cell_type": "markdown",
   "metadata": {},
   "source": [
    "We are left with 290 cities!"
   ]
  },
  {
   "cell_type": "markdown",
   "metadata": {},
   "source": [
    "If we filter further to cities with population of over 500 000."
   ]
  },
  {
   "cell_type": "code",
   "execution_count": 18,
   "metadata": {},
   "outputs": [],
   "source": [
    "visited_df = visited_df[visited_df['population'] > 500000]"
   ]
  },
  {
   "cell_type": "markdown",
   "metadata": {},
   "source": [
    "And format the data into one eligible for the data visualization"
   ]
  },
  {
   "cell_type": "code",
   "execution_count": 19,
   "metadata": {},
   "outputs": [],
   "source": [
    "locations = visited_df[['name', 'latitude', 'longitude']]\\\n",
    "    .sort_values(by='longitude')\\\n",
    "    .set_index('name')\\\n",
    "    .T\\\n",
    "    .to_dict(into=collections.OrderedDict, orient='list')"
   ]
  },
  {
   "cell_type": "code",
   "execution_count": 20,
   "metadata": {
    "scrolled": true
   },
   "outputs": [
    {
     "data": {
      "text/plain": [
       "OrderedDict([('San Francisco', [37.77493, -122.41942]),\n",
       "             ('Denver', [39.73915, -104.9847]),\n",
       "             ('Chicago', [41.85003, -87.65005]),\n",
       "             ('Columbus', [39.96118, -82.99879]),\n",
       "             ('Cali', [3.4372199999999995, -76.5225]),\n",
       "             ('Queens', [40.681490000000004, -73.83652]),\n",
       "             ('Dublin', [53.333059999999996, -6.24889]),\n",
       "             ('Glasgow', [55.86515, -4.257630000000001]),\n",
       "             ('Liverpool', [53.41058, -2.9779400000000003]),\n",
       "             ('Birmingham', [52.48141999999999, -1.89983]),\n",
       "             ('London', [51.50853, -0.12574000000000002]),\n",
       "             ('Paris', [48.85341, 2.3488]),\n",
       "             ('Jos', [9.92849, 8.89212]),\n",
       "             ('Hamburg', [53.55073, 9.99302]),\n",
       "             ('Athens', [37.98376, 23.72784]),\n",
       "             ('Aden', [12.77944, 45.03667]),\n",
       "             ('Mumbai', [19.07283, 72.88261]),\n",
       "             ('Cochin', [9.93988, 76.26021999999999]),\n",
       "             ('Chennai', [13.08784, 80.27847]),\n",
       "             ('Patna', [25.594079999999998, 85.13563]),\n",
       "             ('Kolkata', [22.56263, 88.36304]),\n",
       "             ('Yangon', [16.80528, 96.15611]),\n",
       "             ('Singapore', [1.28967, 103.85007]),\n",
       "             ('Hong Kong', [22.27832, 114.17468999999998]),\n",
       "             ('Shanghai', [31.22222, 121.45806]),\n",
       "             ('Yokohama', [35.43333, 139.65])])"
      ]
     },
     "execution_count": 20,
     "metadata": {},
     "output_type": "execute_result"
    }
   ],
   "source": [
    "locations"
   ]
  },
  {
   "cell_type": "markdown",
   "metadata": {},
   "source": [
    "We will also delete locations that don't make any sense."
   ]
  },
  {
   "cell_type": "code",
   "execution_count": 21,
   "metadata": {},
   "outputs": [],
   "source": [
    "del locations['Jos']\n",
    "del locations['Cali']"
   ]
  },
  {
   "cell_type": "markdown",
   "metadata": {},
   "source": [
    "## Drawing on a world map"
   ]
  },
  {
   "cell_type": "markdown",
   "metadata": {},
   "source": [
    "To draw the journey we will use `folium` library, which provides a simple interface for marking places on maps"
   ]
  },
  {
   "cell_type": "markdown",
   "metadata": {},
   "source": [
    "We create instance of the `folim.Map` class"
   ]
  },
  {
   "cell_type": "code",
   "execution_count": 22,
   "metadata": {},
   "outputs": [],
   "source": [
    "map_ = folium.Map(\n",
    "    location=[51.50853, -0.12574000000000002],\n",
    "    world_copy_jump=True,\n",
    "    no_wrap=False,\n",
    "    width='100%',\n",
    "    zoom_start=3\n",
    ")"
   ]
  },
  {
   "cell_type": "markdown",
   "metadata": {},
   "source": [
    "And add the markers (with a pinch of HTML formatting)"
   ]
  },
  {
   "cell_type": "code",
   "execution_count": 23,
   "metadata": {},
   "outputs": [],
   "source": [
    "for name, (lat, lon) in locations.items():\n",
    "    popup = f\"<strong>{name}</strong><p>Latitude: {lat}</p><p>Longitude: {lon}</p>\"\n",
    "    folium.Marker(location=(lat, lon), \n",
    "                  tooltip=name,\n",
    "                  popup=popup).add_to(map_)"
   ]
  },
  {
   "cell_type": "markdown",
   "metadata": {},
   "source": [
    "Now we just draw the lines"
   ]
  },
  {
   "cell_type": "code",
   "execution_count": 24,
   "metadata": {},
   "outputs": [],
   "source": [
    "%%capture\n",
    "folium.PolyLine(locations=locations.values()).add_to(map_)"
   ]
  },
  {
   "cell_type": "markdown",
   "metadata": {},
   "source": [
    "And display the map!"
   ]
  },
  {
   "cell_type": "code",
   "execution_count": 25,
   "metadata": {
    "scrolled": false
   },
   "outputs": [
    {
     "data": {
      "text/html": [
       "<div style=\"width:100%;\"><div style=\"position:relative;width:100%;height:0;padding-bottom:60%;\"><iframe src=\"about:blank\" style=\"position:absolute;width:100%;height:100%;left:0;top:0;border:none !important;\" data-html=PCFET0NUWVBFIGh0bWw+CjxoZWFkPiAgICAKICAgIDxtZXRhIGh0dHAtZXF1aXY9ImNvbnRlbnQtdHlwZSIgY29udGVudD0idGV4dC9odG1sOyBjaGFyc2V0PVVURi04IiAvPgogICAgCiAgICAgICAgPHNjcmlwdD4KICAgICAgICAgICAgTF9OT19UT1VDSCA9IGZhbHNlOwogICAgICAgICAgICBMX0RJU0FCTEVfM0QgPSBmYWxzZTsKICAgICAgICA8L3NjcmlwdD4KICAgIAogICAgPHNjcmlwdCBzcmM9Imh0dHBzOi8vY2RuLmpzZGVsaXZyLm5ldC9ucG0vbGVhZmxldEAxLjUuMS9kaXN0L2xlYWZsZXQuanMiPjwvc2NyaXB0PgogICAgPHNjcmlwdCBzcmM9Imh0dHBzOi8vY29kZS5qcXVlcnkuY29tL2pxdWVyeS0xLjEyLjQubWluLmpzIj48L3NjcmlwdD4KICAgIDxzY3JpcHQgc3JjPSJodHRwczovL21heGNkbi5ib290c3RyYXBjZG4uY29tL2Jvb3RzdHJhcC8zLjIuMC9qcy9ib290c3RyYXAubWluLmpzIj48L3NjcmlwdD4KICAgIDxzY3JpcHQgc3JjPSJodHRwczovL2NkbmpzLmNsb3VkZmxhcmUuY29tL2FqYXgvbGlicy9MZWFmbGV0LmF3ZXNvbWUtbWFya2Vycy8yLjAuMi9sZWFmbGV0LmF3ZXNvbWUtbWFya2Vycy5qcyI+PC9zY3JpcHQ+CiAgICA8bGluayByZWw9InN0eWxlc2hlZXQiIGhyZWY9Imh0dHBzOi8vY2RuLmpzZGVsaXZyLm5ldC9ucG0vbGVhZmxldEAxLjUuMS9kaXN0L2xlYWZsZXQuY3NzIi8+CiAgICA8bGluayByZWw9InN0eWxlc2hlZXQiIGhyZWY9Imh0dHBzOi8vbWF4Y2RuLmJvb3RzdHJhcGNkbi5jb20vYm9vdHN0cmFwLzMuMi4wL2Nzcy9ib290c3RyYXAubWluLmNzcyIvPgogICAgPGxpbmsgcmVsPSJzdHlsZXNoZWV0IiBocmVmPSJodHRwczovL21heGNkbi5ib290c3RyYXBjZG4uY29tL2Jvb3RzdHJhcC8zLjIuMC9jc3MvYm9vdHN0cmFwLXRoZW1lLm1pbi5jc3MiLz4KICAgIDxsaW5rIHJlbD0ic3R5bGVzaGVldCIgaHJlZj0iaHR0cHM6Ly9tYXhjZG4uYm9vdHN0cmFwY2RuLmNvbS9mb250LWF3ZXNvbWUvNC42LjMvY3NzL2ZvbnQtYXdlc29tZS5taW4uY3NzIi8+CiAgICA8bGluayByZWw9InN0eWxlc2hlZXQiIGhyZWY9Imh0dHBzOi8vY2RuanMuY2xvdWRmbGFyZS5jb20vYWpheC9saWJzL0xlYWZsZXQuYXdlc29tZS1tYXJrZXJzLzIuMC4yL2xlYWZsZXQuYXdlc29tZS1tYXJrZXJzLmNzcyIvPgogICAgPGxpbmsgcmVsPSJzdHlsZXNoZWV0IiBocmVmPSJodHRwczovL3Jhd2Nkbi5naXRoYWNrLmNvbS9weXRob24tdmlzdWFsaXphdGlvbi9mb2xpdW0vbWFzdGVyL2ZvbGl1bS90ZW1wbGF0ZXMvbGVhZmxldC5hd2Vzb21lLnJvdGF0ZS5jc3MiLz4KICAgIDxzdHlsZT5odG1sLCBib2R5IHt3aWR0aDogMTAwJTtoZWlnaHQ6IDEwMCU7bWFyZ2luOiAwO3BhZGRpbmc6IDA7fTwvc3R5bGU+CiAgICA8c3R5bGU+I21hcCB7cG9zaXRpb246YWJzb2x1dGU7dG9wOjA7Ym90dG9tOjA7cmlnaHQ6MDtsZWZ0OjA7fTwvc3R5bGU+CiAgICAKICAgICAgICAgICAgPG1ldGEgbmFtZT0idmlld3BvcnQiIGNvbnRlbnQ9IndpZHRoPWRldmljZS13aWR0aCwKICAgICAgICAgICAgICAgIGluaXRpYWwtc2NhbGU9MS4wLCBtYXhpbXVtLXNjYWxlPTEuMCwgdXNlci1zY2FsYWJsZT1ubyIgLz4KICAgICAgICAgICAgPHN0eWxlPgogICAgICAgICAgICAgICAgI21hcF85Y2IwM2JlNGQ3MWI0ZWYwODQzY2I1YzI1YTQ3ZjllNSB7CiAgICAgICAgICAgICAgICAgICAgcG9zaXRpb246IHJlbGF0aXZlOwogICAgICAgICAgICAgICAgICAgIHdpZHRoOiAxMDAuMCU7CiAgICAgICAgICAgICAgICAgICAgaGVpZ2h0OiAxMDAuMCU7CiAgICAgICAgICAgICAgICAgICAgbGVmdDogMC4wJTsKICAgICAgICAgICAgICAgICAgICB0b3A6IDAuMCU7CiAgICAgICAgICAgICAgICB9CiAgICAgICAgICAgIDwvc3R5bGU+CiAgICAgICAgCjwvaGVhZD4KPGJvZHk+ICAgIAogICAgCiAgICAgICAgICAgIDxkaXYgY2xhc3M9ImZvbGl1bS1tYXAiIGlkPSJtYXBfOWNiMDNiZTRkNzFiNGVmMDg0M2NiNWMyNWE0N2Y5ZTUiID48L2Rpdj4KICAgICAgICAKPC9ib2R5Pgo8c2NyaXB0PiAgICAKICAgIAogICAgICAgICAgICB2YXIgbWFwXzljYjAzYmU0ZDcxYjRlZjA4NDNjYjVjMjVhNDdmOWU1ID0gTC5tYXAoCiAgICAgICAgICAgICAgICAibWFwXzljYjAzYmU0ZDcxYjRlZjA4NDNjYjVjMjVhNDdmOWU1IiwKICAgICAgICAgICAgICAgIHsKICAgICAgICAgICAgICAgICAgICBjZW50ZXI6IFs1MS41MDg1MywgLTAuMTI1NzQwMDAwMDAwMDAwMDJdLAogICAgICAgICAgICAgICAgICAgIGNyczogTC5DUlMuRVBTRzM4NTcsCiAgICAgICAgICAgICAgICAgICAgem9vbTogMywKICAgICAgICAgICAgICAgICAgICB6b29tQ29udHJvbDogdHJ1ZSwKICAgICAgICAgICAgICAgICAgICBwcmVmZXJDYW52YXM6IGZhbHNlLAogICAgICAgICAgICAgICAgICAgIHdvcmxkQ29weUp1bXA6IHRydWUsCiAgICAgICAgICAgICAgICAgICAgbm9XcmFwOiBmYWxzZSwKICAgICAgICAgICAgICAgIH0KICAgICAgICAgICAgKTsKCiAgICAgICAgICAgIAoKICAgICAgICAKICAgIAogICAgICAgICAgICB2YXIgdGlsZV9sYXllcl81ZmIwYjA0MzMwMTI0MTMyODNmNzA4NWJiZDVhN2RkNSA9IEwudGlsZUxheWVyKAogICAgICAgICAgICAgICAgImh0dHBzOi8ve3N9LnRpbGUub3BlbnN0cmVldG1hcC5vcmcve3p9L3t4fS97eX0ucG5nIiwKICAgICAgICAgICAgICAgIHsiYXR0cmlidXRpb24iOiAiRGF0YSBieSBcdTAwMjZjb3B5OyBcdTAwM2NhIGhyZWY9XCJodHRwOi8vb3BlbnN0cmVldG1hcC5vcmdcIlx1MDAzZU9wZW5TdHJlZXRNYXBcdTAwM2MvYVx1MDAzZSwgdW5kZXIgXHUwMDNjYSBocmVmPVwiaHR0cDovL3d3dy5vcGVuc3RyZWV0bWFwLm9yZy9jb3B5cmlnaHRcIlx1MDAzZU9EYkxcdTAwM2MvYVx1MDAzZS4iLCAiZGV0ZWN0UmV0aW5hIjogZmFsc2UsICJtYXhOYXRpdmVab29tIjogMTgsICJtYXhab29tIjogMTgsICJtaW5ab29tIjogMCwgIm5vV3JhcCI6IGZhbHNlLCAib3BhY2l0eSI6IDEsICJzdWJkb21haW5zIjogImFiYyIsICJ0bXMiOiBmYWxzZX0KICAgICAgICAgICAgKS5hZGRUbyhtYXBfOWNiMDNiZTRkNzFiNGVmMDg0M2NiNWMyNWE0N2Y5ZTUpOwogICAgICAgIAogICAgCiAgICAgICAgICAgIHZhciBtYXJrZXJfYWRjNzBhM2ZmYmIzNDk4N2I4Y2E3MTZlNjcwZTNlMjAgPSBMLm1hcmtlcigKICAgICAgICAgICAgICAgIFszNy43NzQ5MywgLTEyMi40MTk0Ml0sCiAgICAgICAgICAgICAgICB7fQogICAgICAgICAgICApLmFkZFRvKG1hcF85Y2IwM2JlNGQ3MWI0ZWYwODQzY2I1YzI1YTQ3ZjllNSk7CiAgICAgICAgCiAgICAKICAgICAgICB2YXIgcG9wdXBfOWRlMzBhMzVkYTQwNGUxZTk0ZWFlOTQ5NTcyZWQxZmMgPSBMLnBvcHVwKHsibWF4V2lkdGgiOiAiMTAwJSJ9KTsKCiAgICAgICAgCiAgICAgICAgICAgIHZhciBodG1sXzlhZDc2Nzg3Y2VkNDQxMWFiMWJhYmI2OGRmNGQzODBlID0gJChgPGRpdiBpZD0iaHRtbF85YWQ3Njc4N2NlZDQ0MTFhYjFiYWJiNjhkZjRkMzgwZSIgc3R5bGU9IndpZHRoOiAxMDAuMCU7IGhlaWdodDogMTAwLjAlOyI+PHN0cm9uZz5TYW4gRnJhbmNpc2NvPC9zdHJvbmc+PHA+TGF0aXR1ZGU6IDM3Ljc3NDkzPC9wPjxwPkxvbmdpdHVkZTogLTEyMi40MTk0MjwvcD48L2Rpdj5gKVswXTsKICAgICAgICAgICAgcG9wdXBfOWRlMzBhMzVkYTQwNGUxZTk0ZWFlOTQ5NTcyZWQxZmMuc2V0Q29udGVudChodG1sXzlhZDc2Nzg3Y2VkNDQxMWFiMWJhYmI2OGRmNGQzODBlKTsKICAgICAgICAKCiAgICAgICAgbWFya2VyX2FkYzcwYTNmZmJiMzQ5ODdiOGNhNzE2ZTY3MGUzZTIwLmJpbmRQb3B1cChwb3B1cF85ZGUzMGEzNWRhNDA0ZTFlOTRlYWU5NDk1NzJlZDFmYykKICAgICAgICA7CgogICAgICAgIAogICAgCiAgICAKICAgICAgICAgICAgbWFya2VyX2FkYzcwYTNmZmJiMzQ5ODdiOGNhNzE2ZTY3MGUzZTIwLmJpbmRUb29sdGlwKAogICAgICAgICAgICAgICAgYDxkaXY+CiAgICAgICAgICAgICAgICAgICAgIFNhbiBGcmFuY2lzY28KICAgICAgICAgICAgICAgICA8L2Rpdj5gLAogICAgICAgICAgICAgICAgeyJzdGlja3kiOiB0cnVlfQogICAgICAgICAgICApOwogICAgICAgIAogICAgCiAgICAgICAgICAgIHZhciBtYXJrZXJfZTgwZWIxOTYzYmQ4NGU2YmI3Nzk4ODBiY2YzMTYyNTIgPSBMLm1hcmtlcigKICAgICAgICAgICAgICAgIFszOS43MzkxNSwgLTEwNC45ODQ3XSwKICAgICAgICAgICAgICAgIHt9CiAgICAgICAgICAgICkuYWRkVG8obWFwXzljYjAzYmU0ZDcxYjRlZjA4NDNjYjVjMjVhNDdmOWU1KTsKICAgICAgICAKICAgIAogICAgICAgIHZhciBwb3B1cF8yN2YxZTY1ZjM3ODU0MTM0YThhZTZhYzQ0ZDliYzljYiA9IEwucG9wdXAoeyJtYXhXaWR0aCI6ICIxMDAlIn0pOwoKICAgICAgICAKICAgICAgICAgICAgdmFyIGh0bWxfMGI4MTVmOGVmMmFjNDcwOWJhMGJiOWZiYjg0OTczOTMgPSAkKGA8ZGl2IGlkPSJodG1sXzBiODE1ZjhlZjJhYzQ3MDliYTBiYjlmYmI4NDk3MzkzIiBzdHlsZT0id2lkdGg6IDEwMC4wJTsgaGVpZ2h0OiAxMDAuMCU7Ij48c3Ryb25nPkRlbnZlcjwvc3Ryb25nPjxwPkxhdGl0dWRlOiAzOS43MzkxNTwvcD48cD5Mb25naXR1ZGU6IC0xMDQuOTg0NzwvcD48L2Rpdj5gKVswXTsKICAgICAgICAgICAgcG9wdXBfMjdmMWU2NWYzNzg1NDEzNGE4YWU2YWM0NGQ5YmM5Y2Iuc2V0Q29udGVudChodG1sXzBiODE1ZjhlZjJhYzQ3MDliYTBiYjlmYmI4NDk3MzkzKTsKICAgICAgICAKCiAgICAgICAgbWFya2VyX2U4MGViMTk2M2JkODRlNmJiNzc5ODgwYmNmMzE2MjUyLmJpbmRQb3B1cChwb3B1cF8yN2YxZTY1ZjM3ODU0MTM0YThhZTZhYzQ0ZDliYzljYikKICAgICAgICA7CgogICAgICAgIAogICAgCiAgICAKICAgICAgICAgICAgbWFya2VyX2U4MGViMTk2M2JkODRlNmJiNzc5ODgwYmNmMzE2MjUyLmJpbmRUb29sdGlwKAogICAgICAgICAgICAgICAgYDxkaXY+CiAgICAgICAgICAgICAgICAgICAgIERlbnZlcgogICAgICAgICAgICAgICAgIDwvZGl2PmAsCiAgICAgICAgICAgICAgICB7InN0aWNreSI6IHRydWV9CiAgICAgICAgICAgICk7CiAgICAgICAgCiAgICAKICAgICAgICAgICAgdmFyIG1hcmtlcl8wOTA1YWE0MGIyNmY0N2YzODcyNzM1YThhYjNlYWFlMiA9IEwubWFya2VyKAogICAgICAgICAgICAgICAgWzQxLjg1MDAzLCAtODcuNjUwMDVdLAogICAgICAgICAgICAgICAge30KICAgICAgICAgICAgKS5hZGRUbyhtYXBfOWNiMDNiZTRkNzFiNGVmMDg0M2NiNWMyNWE0N2Y5ZTUpOwogICAgICAgIAogICAgCiAgICAgICAgdmFyIHBvcHVwXzRmOWZmNGUwZjQxZjQzNTg5ZTk3YWYyYWI4N2I0MGQ3ID0gTC5wb3B1cCh7Im1heFdpZHRoIjogIjEwMCUifSk7CgogICAgICAgIAogICAgICAgICAgICB2YXIgaHRtbF8yNDMzYzgyNjk3M2Y0NWRhYWU1MDU3NDJkNTMyNWVmZCA9ICQoYDxkaXYgaWQ9Imh0bWxfMjQzM2M4MjY5NzNmNDVkYWFlNTA1NzQyZDUzMjVlZmQiIHN0eWxlPSJ3aWR0aDogMTAwLjAlOyBoZWlnaHQ6IDEwMC4wJTsiPjxzdHJvbmc+Q2hpY2Fnbzwvc3Ryb25nPjxwPkxhdGl0dWRlOiA0MS44NTAwMzwvcD48cD5Mb25naXR1ZGU6IC04Ny42NTAwNTwvcD48L2Rpdj5gKVswXTsKICAgICAgICAgICAgcG9wdXBfNGY5ZmY0ZTBmNDFmNDM1ODllOTdhZjJhYjg3YjQwZDcuc2V0Q29udGVudChodG1sXzI0MzNjODI2OTczZjQ1ZGFhZTUwNTc0MmQ1MzI1ZWZkKTsKICAgICAgICAKCiAgICAgICAgbWFya2VyXzA5MDVhYTQwYjI2ZjQ3ZjM4NzI3MzVhOGFiM2VhYWUyLmJpbmRQb3B1cChwb3B1cF80ZjlmZjRlMGY0MWY0MzU4OWU5N2FmMmFiODdiNDBkNykKICAgICAgICA7CgogICAgICAgIAogICAgCiAgICAKICAgICAgICAgICAgbWFya2VyXzA5MDVhYTQwYjI2ZjQ3ZjM4NzI3MzVhOGFiM2VhYWUyLmJpbmRUb29sdGlwKAogICAgICAgICAgICAgICAgYDxkaXY+CiAgICAgICAgICAgICAgICAgICAgIENoaWNhZ28KICAgICAgICAgICAgICAgICA8L2Rpdj5gLAogICAgICAgICAgICAgICAgeyJzdGlja3kiOiB0cnVlfQogICAgICAgICAgICApOwogICAgICAgIAogICAgCiAgICAgICAgICAgIHZhciBtYXJrZXJfN2Y5MGI4YThjYmVmNDNkNWI5MzM3OTIzMTc4YTRiYzcgPSBMLm1hcmtlcigKICAgICAgICAgICAgICAgIFszOS45NjExOCwgLTgyLjk5ODc5XSwKICAgICAgICAgICAgICAgIHt9CiAgICAgICAgICAgICkuYWRkVG8obWFwXzljYjAzYmU0ZDcxYjRlZjA4NDNjYjVjMjVhNDdmOWU1KTsKICAgICAgICAKICAgIAogICAgICAgIHZhciBwb3B1cF9mZThiZTgwNjNlNGY0ZGYzOTNiZWViYmRjZjdkNzdjYyA9IEwucG9wdXAoeyJtYXhXaWR0aCI6ICIxMDAlIn0pOwoKICAgICAgICAKICAgICAgICAgICAgdmFyIGh0bWxfNTZmZDYwNjNlNDE1NGQ5MGJlY2E3ODkzMTEzZGIyZjIgPSAkKGA8ZGl2IGlkPSJodG1sXzU2ZmQ2MDYzZTQxNTRkOTBiZWNhNzg5MzExM2RiMmYyIiBzdHlsZT0id2lkdGg6IDEwMC4wJTsgaGVpZ2h0OiAxMDAuMCU7Ij48c3Ryb25nPkNvbHVtYnVzPC9zdHJvbmc+PHA+TGF0aXR1ZGU6IDM5Ljk2MTE4PC9wPjxwPkxvbmdpdHVkZTogLTgyLjk5ODc5PC9wPjwvZGl2PmApWzBdOwogICAgICAgICAgICBwb3B1cF9mZThiZTgwNjNlNGY0ZGYzOTNiZWViYmRjZjdkNzdjYy5zZXRDb250ZW50KGh0bWxfNTZmZDYwNjNlNDE1NGQ5MGJlY2E3ODkzMTEzZGIyZjIpOwogICAgICAgIAoKICAgICAgICBtYXJrZXJfN2Y5MGI4YThjYmVmNDNkNWI5MzM3OTIzMTc4YTRiYzcuYmluZFBvcHVwKHBvcHVwX2ZlOGJlODA2M2U0ZjRkZjM5M2JlZWJiZGNmN2Q3N2NjKQogICAgICAgIDsKCiAgICAgICAgCiAgICAKICAgIAogICAgICAgICAgICBtYXJrZXJfN2Y5MGI4YThjYmVmNDNkNWI5MzM3OTIzMTc4YTRiYzcuYmluZFRvb2x0aXAoCiAgICAgICAgICAgICAgICBgPGRpdj4KICAgICAgICAgICAgICAgICAgICAgQ29sdW1idXMKICAgICAgICAgICAgICAgICA8L2Rpdj5gLAogICAgICAgICAgICAgICAgeyJzdGlja3kiOiB0cnVlfQogICAgICAgICAgICApOwogICAgICAgIAogICAgCiAgICAgICAgICAgIHZhciBtYXJrZXJfNWQxZWFiYzRlY2VhNDVlYzllZjUzZGEwZTQ4NTNhMTQgPSBMLm1hcmtlcigKICAgICAgICAgICAgICAgIFs0MC42ODE0OTAwMDAwMDAwMDQsIC03My44MzY1Ml0sCiAgICAgICAgICAgICAgICB7fQogICAgICAgICAgICApLmFkZFRvKG1hcF85Y2IwM2JlNGQ3MWI0ZWYwODQzY2I1YzI1YTQ3ZjllNSk7CiAgICAgICAgCiAgICAKICAgICAgICB2YXIgcG9wdXBfZWUwMDllZjM3NzEyNDg4NGJjMzI0ZjQxNWM2ZWVkN2YgPSBMLnBvcHVwKHsibWF4V2lkdGgiOiAiMTAwJSJ9KTsKCiAgICAgICAgCiAgICAgICAgICAgIHZhciBodG1sXzkxNzA5ZWMzMmMzOTQ2NWM4MjQzYTQyOWVhMDhiMzhkID0gJChgPGRpdiBpZD0iaHRtbF85MTcwOWVjMzJjMzk0NjVjODI0M2E0MjllYTA4YjM4ZCIgc3R5bGU9IndpZHRoOiAxMDAuMCU7IGhlaWdodDogMTAwLjAlOyI+PHN0cm9uZz5RdWVlbnM8L3N0cm9uZz48cD5MYXRpdHVkZTogNDAuNjgxNDkwMDAwMDAwMDA0PC9wPjxwPkxvbmdpdHVkZTogLTczLjgzNjUyPC9wPjwvZGl2PmApWzBdOwogICAgICAgICAgICBwb3B1cF9lZTAwOWVmMzc3MTI0ODg0YmMzMjRmNDE1YzZlZWQ3Zi5zZXRDb250ZW50KGh0bWxfOTE3MDllYzMyYzM5NDY1YzgyNDNhNDI5ZWEwOGIzOGQpOwogICAgICAgIAoKICAgICAgICBtYXJrZXJfNWQxZWFiYzRlY2VhNDVlYzllZjUzZGEwZTQ4NTNhMTQuYmluZFBvcHVwKHBvcHVwX2VlMDA5ZWYzNzcxMjQ4ODRiYzMyNGY0MTVjNmVlZDdmKQogICAgICAgIDsKCiAgICAgICAgCiAgICAKICAgIAogICAgICAgICAgICBtYXJrZXJfNWQxZWFiYzRlY2VhNDVlYzllZjUzZGEwZTQ4NTNhMTQuYmluZFRvb2x0aXAoCiAgICAgICAgICAgICAgICBgPGRpdj4KICAgICAgICAgICAgICAgICAgICAgUXVlZW5zCiAgICAgICAgICAgICAgICAgPC9kaXY+YCwKICAgICAgICAgICAgICAgIHsic3RpY2t5IjogdHJ1ZX0KICAgICAgICAgICAgKTsKICAgICAgICAKICAgIAogICAgICAgICAgICB2YXIgbWFya2VyXzdmN2E2MzE3ZTE5MTQxNDFhYWQ5ZDJmZDU1ZjNhMTQ1ID0gTC5tYXJrZXIoCiAgICAgICAgICAgICAgICBbNTMuMzMzMDU5OTk5OTk5OTk2LCAtNi4yNDg4OV0sCiAgICAgICAgICAgICAgICB7fQogICAgICAgICAgICApLmFkZFRvKG1hcF85Y2IwM2JlNGQ3MWI0ZWYwODQzY2I1YzI1YTQ3ZjllNSk7CiAgICAgICAgCiAgICAKICAgICAgICB2YXIgcG9wdXBfNTA2N2RiOGY3YmNjNGMxMDlhNDVlN2U3ZDY1ZTA5N2IgPSBMLnBvcHVwKHsibWF4V2lkdGgiOiAiMTAwJSJ9KTsKCiAgICAgICAgCiAgICAgICAgICAgIHZhciBodG1sXzFiNjQwNWY2OTdjYzRhZjNhZTc5ZmUxZWM0MWRjZmE5ID0gJChgPGRpdiBpZD0iaHRtbF8xYjY0MDVmNjk3Y2M0YWYzYWU3OWZlMWVjNDFkY2ZhOSIgc3R5bGU9IndpZHRoOiAxMDAuMCU7IGhlaWdodDogMTAwLjAlOyI+PHN0cm9uZz5EdWJsaW48L3N0cm9uZz48cD5MYXRpdHVkZTogNTMuMzMzMDU5OTk5OTk5OTk2PC9wPjxwPkxvbmdpdHVkZTogLTYuMjQ4ODk8L3A+PC9kaXY+YClbMF07CiAgICAgICAgICAgIHBvcHVwXzUwNjdkYjhmN2JjYzRjMTA5YTQ1ZTdlN2Q2NWUwOTdiLnNldENvbnRlbnQoaHRtbF8xYjY0MDVmNjk3Y2M0YWYzYWU3OWZlMWVjNDFkY2ZhOSk7CiAgICAgICAgCgogICAgICAgIG1hcmtlcl83ZjdhNjMxN2UxOTE0MTQxYWFkOWQyZmQ1NWYzYTE0NS5iaW5kUG9wdXAocG9wdXBfNTA2N2RiOGY3YmNjNGMxMDlhNDVlN2U3ZDY1ZTA5N2IpCiAgICAgICAgOwoKICAgICAgICAKICAgIAogICAgCiAgICAgICAgICAgIG1hcmtlcl83ZjdhNjMxN2UxOTE0MTQxYWFkOWQyZmQ1NWYzYTE0NS5iaW5kVG9vbHRpcCgKICAgICAgICAgICAgICAgIGA8ZGl2PgogICAgICAgICAgICAgICAgICAgICBEdWJsaW4KICAgICAgICAgICAgICAgICA8L2Rpdj5gLAogICAgICAgICAgICAgICAgeyJzdGlja3kiOiB0cnVlfQogICAgICAgICAgICApOwogICAgICAgIAogICAgCiAgICAgICAgICAgIHZhciBtYXJrZXJfYzBlM2RmOWMyODZjNDA5ZTgwYmU5N2FlZGIxNDIxYzkgPSBMLm1hcmtlcigKICAgICAgICAgICAgICAgIFs1NS44NjUxNSwgLTQuMjU3NjMwMDAwMDAwMDAxXSwKICAgICAgICAgICAgICAgIHt9CiAgICAgICAgICAgICkuYWRkVG8obWFwXzljYjAzYmU0ZDcxYjRlZjA4NDNjYjVjMjVhNDdmOWU1KTsKICAgICAgICAKICAgIAogICAgICAgIHZhciBwb3B1cF85ZWY0ZTY1MDEyY2Q0ZjllOGUxNWFlNTk5MDRhMGRkMCA9IEwucG9wdXAoeyJtYXhXaWR0aCI6ICIxMDAlIn0pOwoKICAgICAgICAKICAgICAgICAgICAgdmFyIGh0bWxfYWQ0M2YwMDk5M2FhNDBlYjk0OWY0ZTA5MTkwZDIyNDIgPSAkKGA8ZGl2IGlkPSJodG1sX2FkNDNmMDA5OTNhYTQwZWI5NDlmNGUwOTE5MGQyMjQyIiBzdHlsZT0id2lkdGg6IDEwMC4wJTsgaGVpZ2h0OiAxMDAuMCU7Ij48c3Ryb25nPkdsYXNnb3c8L3N0cm9uZz48cD5MYXRpdHVkZTogNTUuODY1MTU8L3A+PHA+TG9uZ2l0dWRlOiAtNC4yNTc2MzAwMDAwMDAwMDE8L3A+PC9kaXY+YClbMF07CiAgICAgICAgICAgIHBvcHVwXzllZjRlNjUwMTJjZDRmOWU4ZTE1YWU1OTkwNGEwZGQwLnNldENvbnRlbnQoaHRtbF9hZDQzZjAwOTkzYWE0MGViOTQ5ZjRlMDkxOTBkMjI0Mik7CiAgICAgICAgCgogICAgICAgIG1hcmtlcl9jMGUzZGY5YzI4NmM0MDllODBiZTk3YWVkYjE0MjFjOS5iaW5kUG9wdXAocG9wdXBfOWVmNGU2NTAxMmNkNGY5ZThlMTVhZTU5OTA0YTBkZDApCiAgICAgICAgOwoKICAgICAgICAKICAgIAogICAgCiAgICAgICAgICAgIG1hcmtlcl9jMGUzZGY5YzI4NmM0MDllODBiZTk3YWVkYjE0MjFjOS5iaW5kVG9vbHRpcCgKICAgICAgICAgICAgICAgIGA8ZGl2PgogICAgICAgICAgICAgICAgICAgICBHbGFzZ293CiAgICAgICAgICAgICAgICAgPC9kaXY+YCwKICAgICAgICAgICAgICAgIHsic3RpY2t5IjogdHJ1ZX0KICAgICAgICAgICAgKTsKICAgICAgICAKICAgIAogICAgICAgICAgICB2YXIgbWFya2VyXzUxMTlhYzA4YjhhNTQyMWM5M2YzYjliMjUxOGJjYWU5ID0gTC5tYXJrZXIoCiAgICAgICAgICAgICAgICBbNTMuNDEwNTgsIC0yLjk3Nzk0MDAwMDAwMDAwMDNdLAogICAgICAgICAgICAgICAge30KICAgICAgICAgICAgKS5hZGRUbyhtYXBfOWNiMDNiZTRkNzFiNGVmMDg0M2NiNWMyNWE0N2Y5ZTUpOwogICAgICAgIAogICAgCiAgICAgICAgdmFyIHBvcHVwXzFhNTA0ZDVhNjZmMTQ3NmViZjU3MWUxNzBlN2E5M2VkID0gTC5wb3B1cCh7Im1heFdpZHRoIjogIjEwMCUifSk7CgogICAgICAgIAogICAgICAgICAgICB2YXIgaHRtbF8xMTEyYWI1M2QxMWE0ZjdiOWNhZDdmYTg5ZjE1YjUxNiA9ICQoYDxkaXYgaWQ9Imh0bWxfMTExMmFiNTNkMTFhNGY3YjljYWQ3ZmE4OWYxNWI1MTYiIHN0eWxlPSJ3aWR0aDogMTAwLjAlOyBoZWlnaHQ6IDEwMC4wJTsiPjxzdHJvbmc+TGl2ZXJwb29sPC9zdHJvbmc+PHA+TGF0aXR1ZGU6IDUzLjQxMDU4PC9wPjxwPkxvbmdpdHVkZTogLTIuOTc3OTQwMDAwMDAwMDAwMzwvcD48L2Rpdj5gKVswXTsKICAgICAgICAgICAgcG9wdXBfMWE1MDRkNWE2NmYxNDc2ZWJmNTcxZTE3MGU3YTkzZWQuc2V0Q29udGVudChodG1sXzExMTJhYjUzZDExYTRmN2I5Y2FkN2ZhODlmMTViNTE2KTsKICAgICAgICAKCiAgICAgICAgbWFya2VyXzUxMTlhYzA4YjhhNTQyMWM5M2YzYjliMjUxOGJjYWU5LmJpbmRQb3B1cChwb3B1cF8xYTUwNGQ1YTY2ZjE0NzZlYmY1NzFlMTcwZTdhOTNlZCkKICAgICAgICA7CgogICAgICAgIAogICAgCiAgICAKICAgICAgICAgICAgbWFya2VyXzUxMTlhYzA4YjhhNTQyMWM5M2YzYjliMjUxOGJjYWU5LmJpbmRUb29sdGlwKAogICAgICAgICAgICAgICAgYDxkaXY+CiAgICAgICAgICAgICAgICAgICAgIExpdmVycG9vbAogICAgICAgICAgICAgICAgIDwvZGl2PmAsCiAgICAgICAgICAgICAgICB7InN0aWNreSI6IHRydWV9CiAgICAgICAgICAgICk7CiAgICAgICAgCiAgICAKICAgICAgICAgICAgdmFyIG1hcmtlcl84YWNjNDUyNDAwMDA0YzU5YWM2MmIyNzFhMGRmOWYwZSA9IEwubWFya2VyKAogICAgICAgICAgICAgICAgWzUyLjQ4MTQxOTk5OTk5OTk5LCAtMS44OTk4M10sCiAgICAgICAgICAgICAgICB7fQogICAgICAgICAgICApLmFkZFRvKG1hcF85Y2IwM2JlNGQ3MWI0ZWYwODQzY2I1YzI1YTQ3ZjllNSk7CiAgICAgICAgCiAgICAKICAgICAgICB2YXIgcG9wdXBfMzJkMzU1ZGI4MjYxNDhjMzlhNmZhNjZhZDViYzE4NDkgPSBMLnBvcHVwKHsibWF4V2lkdGgiOiAiMTAwJSJ9KTsKCiAgICAgICAgCiAgICAgICAgICAgIHZhciBodG1sX2RlMzU1YjY0N2E5MjQ4YTJhMzlkMWNjMDhhOTVjZjE5ID0gJChgPGRpdiBpZD0iaHRtbF9kZTM1NWI2NDdhOTI0OGEyYTM5ZDFjYzA4YTk1Y2YxOSIgc3R5bGU9IndpZHRoOiAxMDAuMCU7IGhlaWdodDogMTAwLjAlOyI+PHN0cm9uZz5CaXJtaW5naGFtPC9zdHJvbmc+PHA+TGF0aXR1ZGU6IDUyLjQ4MTQxOTk5OTk5OTk5PC9wPjxwPkxvbmdpdHVkZTogLTEuODk5ODM8L3A+PC9kaXY+YClbMF07CiAgICAgICAgICAgIHBvcHVwXzMyZDM1NWRiODI2MTQ4YzM5YTZmYTY2YWQ1YmMxODQ5LnNldENvbnRlbnQoaHRtbF9kZTM1NWI2NDdhOTI0OGEyYTM5ZDFjYzA4YTk1Y2YxOSk7CiAgICAgICAgCgogICAgICAgIG1hcmtlcl84YWNjNDUyNDAwMDA0YzU5YWM2MmIyNzFhMGRmOWYwZS5iaW5kUG9wdXAocG9wdXBfMzJkMzU1ZGI4MjYxNDhjMzlhNmZhNjZhZDViYzE4NDkpCiAgICAgICAgOwoKICAgICAgICAKICAgIAogICAgCiAgICAgICAgICAgIG1hcmtlcl84YWNjNDUyNDAwMDA0YzU5YWM2MmIyNzFhMGRmOWYwZS5iaW5kVG9vbHRpcCgKICAgICAgICAgICAgICAgIGA8ZGl2PgogICAgICAgICAgICAgICAgICAgICBCaXJtaW5naGFtCiAgICAgICAgICAgICAgICAgPC9kaXY+YCwKICAgICAgICAgICAgICAgIHsic3RpY2t5IjogdHJ1ZX0KICAgICAgICAgICAgKTsKICAgICAgICAKICAgIAogICAgICAgICAgICB2YXIgbWFya2VyXzEwM2RiNjM2YWQ0MDQ0MDE5ZmJiM2NhZDcwZWFmNjJlID0gTC5tYXJrZXIoCiAgICAgICAgICAgICAgICBbNTEuNTA4NTMsIC0wLjEyNTc0MDAwMDAwMDAwMDAyXSwKICAgICAgICAgICAgICAgIHt9CiAgICAgICAgICAgICkuYWRkVG8obWFwXzljYjAzYmU0ZDcxYjRlZjA4NDNjYjVjMjVhNDdmOWU1KTsKICAgICAgICAKICAgIAogICAgICAgIHZhciBwb3B1cF9mZDNiYzAwMWM1YzM0NzkzODUyOTg1NjZjOTJiYTdmNyA9IEwucG9wdXAoeyJtYXhXaWR0aCI6ICIxMDAlIn0pOwoKICAgICAgICAKICAgICAgICAgICAgdmFyIGh0bWxfMmQ5NGNlYTU4MGFjNGY5MGExOTc2YmZhMmI5MjNhYmUgPSAkKGA8ZGl2IGlkPSJodG1sXzJkOTRjZWE1ODBhYzRmOTBhMTk3NmJmYTJiOTIzYWJlIiBzdHlsZT0id2lkdGg6IDEwMC4wJTsgaGVpZ2h0OiAxMDAuMCU7Ij48c3Ryb25nPkxvbmRvbjwvc3Ryb25nPjxwPkxhdGl0dWRlOiA1MS41MDg1MzwvcD48cD5Mb25naXR1ZGU6IC0wLjEyNTc0MDAwMDAwMDAwMDAyPC9wPjwvZGl2PmApWzBdOwogICAgICAgICAgICBwb3B1cF9mZDNiYzAwMWM1YzM0NzkzODUyOTg1NjZjOTJiYTdmNy5zZXRDb250ZW50KGh0bWxfMmQ5NGNlYTU4MGFjNGY5MGExOTc2YmZhMmI5MjNhYmUpOwogICAgICAgIAoKICAgICAgICBtYXJrZXJfMTAzZGI2MzZhZDQwNDQwMTlmYmIzY2FkNzBlYWY2MmUuYmluZFBvcHVwKHBvcHVwX2ZkM2JjMDAxYzVjMzQ3OTM4NTI5ODU2NmM5MmJhN2Y3KQogICAgICAgIDsKCiAgICAgICAgCiAgICAKICAgIAogICAgICAgICAgICBtYXJrZXJfMTAzZGI2MzZhZDQwNDQwMTlmYmIzY2FkNzBlYWY2MmUuYmluZFRvb2x0aXAoCiAgICAgICAgICAgICAgICBgPGRpdj4KICAgICAgICAgICAgICAgICAgICAgTG9uZG9uCiAgICAgICAgICAgICAgICAgPC9kaXY+YCwKICAgICAgICAgICAgICAgIHsic3RpY2t5IjogdHJ1ZX0KICAgICAgICAgICAgKTsKICAgICAgICAKICAgIAogICAgICAgICAgICB2YXIgbWFya2VyXzkxNzUzMGYzYTZhZjQ2YTc4Mzc5Y2FjZTdiMjA3YmQzID0gTC5tYXJrZXIoCiAgICAgICAgICAgICAgICBbNDguODUzNDEsIDIuMzQ4OF0sCiAgICAgICAgICAgICAgICB7fQogICAgICAgICAgICApLmFkZFRvKG1hcF85Y2IwM2JlNGQ3MWI0ZWYwODQzY2I1YzI1YTQ3ZjllNSk7CiAgICAgICAgCiAgICAKICAgICAgICB2YXIgcG9wdXBfMmIxYjRhZDFjMWNmNDM5NGI2ZDVjOWNjMjRmZDA5NmIgPSBMLnBvcHVwKHsibWF4V2lkdGgiOiAiMTAwJSJ9KTsKCiAgICAgICAgCiAgICAgICAgICAgIHZhciBodG1sX2U3YzBkNmM4MmJiMTQyZDlhNmFjNmMzYTU0OGRhYzNiID0gJChgPGRpdiBpZD0iaHRtbF9lN2MwZDZjODJiYjE0MmQ5YTZhYzZjM2E1NDhkYWMzYiIgc3R5bGU9IndpZHRoOiAxMDAuMCU7IGhlaWdodDogMTAwLjAlOyI+PHN0cm9uZz5QYXJpczwvc3Ryb25nPjxwPkxhdGl0dWRlOiA0OC44NTM0MTwvcD48cD5Mb25naXR1ZGU6IDIuMzQ4ODwvcD48L2Rpdj5gKVswXTsKICAgICAgICAgICAgcG9wdXBfMmIxYjRhZDFjMWNmNDM5NGI2ZDVjOWNjMjRmZDA5NmIuc2V0Q29udGVudChodG1sX2U3YzBkNmM4MmJiMTQyZDlhNmFjNmMzYTU0OGRhYzNiKTsKICAgICAgICAKCiAgICAgICAgbWFya2VyXzkxNzUzMGYzYTZhZjQ2YTc4Mzc5Y2FjZTdiMjA3YmQzLmJpbmRQb3B1cChwb3B1cF8yYjFiNGFkMWMxY2Y0Mzk0YjZkNWM5Y2MyNGZkMDk2YikKICAgICAgICA7CgogICAgICAgIAogICAgCiAgICAKICAgICAgICAgICAgbWFya2VyXzkxNzUzMGYzYTZhZjQ2YTc4Mzc5Y2FjZTdiMjA3YmQzLmJpbmRUb29sdGlwKAogICAgICAgICAgICAgICAgYDxkaXY+CiAgICAgICAgICAgICAgICAgICAgIFBhcmlzCiAgICAgICAgICAgICAgICAgPC9kaXY+YCwKICAgICAgICAgICAgICAgIHsic3RpY2t5IjogdHJ1ZX0KICAgICAgICAgICAgKTsKICAgICAgICAKICAgIAogICAgICAgICAgICB2YXIgbWFya2VyXzFmNTQ4OTRjYWY5MzQ2Mzk5MDgwODVlYjYzOWM0MDU2ID0gTC5tYXJrZXIoCiAgICAgICAgICAgICAgICBbNTMuNTUwNzMsIDkuOTkzMDJdLAogICAgICAgICAgICAgICAge30KICAgICAgICAgICAgKS5hZGRUbyhtYXBfOWNiMDNiZTRkNzFiNGVmMDg0M2NiNWMyNWE0N2Y5ZTUpOwogICAgICAgIAogICAgCiAgICAgICAgdmFyIHBvcHVwXzQzN2VmMzM0YTAzYjQwZGZiNThmOThiYmU3NzQ2MTE2ID0gTC5wb3B1cCh7Im1heFdpZHRoIjogIjEwMCUifSk7CgogICAgICAgIAogICAgICAgICAgICB2YXIgaHRtbF9iODM2N2FkYjliNDU0ZTlmOGY2NzZjNjRmOTlhNWVjYiA9ICQoYDxkaXYgaWQ9Imh0bWxfYjgzNjdhZGI5YjQ1NGU5ZjhmNjc2YzY0Zjk5YTVlY2IiIHN0eWxlPSJ3aWR0aDogMTAwLjAlOyBoZWlnaHQ6IDEwMC4wJTsiPjxzdHJvbmc+SGFtYnVyZzwvc3Ryb25nPjxwPkxhdGl0dWRlOiA1My41NTA3MzwvcD48cD5Mb25naXR1ZGU6IDkuOTkzMDI8L3A+PC9kaXY+YClbMF07CiAgICAgICAgICAgIHBvcHVwXzQzN2VmMzM0YTAzYjQwZGZiNThmOThiYmU3NzQ2MTE2LnNldENvbnRlbnQoaHRtbF9iODM2N2FkYjliNDU0ZTlmOGY2NzZjNjRmOTlhNWVjYik7CiAgICAgICAgCgogICAgICAgIG1hcmtlcl8xZjU0ODk0Y2FmOTM0NjM5OTA4MDg1ZWI2MzljNDA1Ni5iaW5kUG9wdXAocG9wdXBfNDM3ZWYzMzRhMDNiNDBkZmI1OGY5OGJiZTc3NDYxMTYpCiAgICAgICAgOwoKICAgICAgICAKICAgIAogICAgCiAgICAgICAgICAgIG1hcmtlcl8xZjU0ODk0Y2FmOTM0NjM5OTA4MDg1ZWI2MzljNDA1Ni5iaW5kVG9vbHRpcCgKICAgICAgICAgICAgICAgIGA8ZGl2PgogICAgICAgICAgICAgICAgICAgICBIYW1idXJnCiAgICAgICAgICAgICAgICAgPC9kaXY+YCwKICAgICAgICAgICAgICAgIHsic3RpY2t5IjogdHJ1ZX0KICAgICAgICAgICAgKTsKICAgICAgICAKICAgIAogICAgICAgICAgICB2YXIgbWFya2VyXzUxODk0Mzg5NTRjODQ5ZjRiYmQwZTE1YzU5YWQyOWYxID0gTC5tYXJrZXIoCiAgICAgICAgICAgICAgICBbMzcuOTgzNzYsIDIzLjcyNzg0XSwKICAgICAgICAgICAgICAgIHt9CiAgICAgICAgICAgICkuYWRkVG8obWFwXzljYjAzYmU0ZDcxYjRlZjA4NDNjYjVjMjVhNDdmOWU1KTsKICAgICAgICAKICAgIAogICAgICAgIHZhciBwb3B1cF82YWI0NTFlMzdmNGE0ZGJmODg3MDcwODUxNjIwOGI5NiA9IEwucG9wdXAoeyJtYXhXaWR0aCI6ICIxMDAlIn0pOwoKICAgICAgICAKICAgICAgICAgICAgdmFyIGh0bWxfMWU0NWY5YjYwNzQ3NDFkZDg0NjViYzU2NmE1ZjRlODUgPSAkKGA8ZGl2IGlkPSJodG1sXzFlNDVmOWI2MDc0NzQxZGQ4NDY1YmM1NjZhNWY0ZTg1IiBzdHlsZT0id2lkdGg6IDEwMC4wJTsgaGVpZ2h0OiAxMDAuMCU7Ij48c3Ryb25nPkF0aGVuczwvc3Ryb25nPjxwPkxhdGl0dWRlOiAzNy45ODM3NjwvcD48cD5Mb25naXR1ZGU6IDIzLjcyNzg0PC9wPjwvZGl2PmApWzBdOwogICAgICAgICAgICBwb3B1cF82YWI0NTFlMzdmNGE0ZGJmODg3MDcwODUxNjIwOGI5Ni5zZXRDb250ZW50KGh0bWxfMWU0NWY5YjYwNzQ3NDFkZDg0NjViYzU2NmE1ZjRlODUpOwogICAgICAgIAoKICAgICAgICBtYXJrZXJfNTE4OTQzODk1NGM4NDlmNGJiZDBlMTVjNTlhZDI5ZjEuYmluZFBvcHVwKHBvcHVwXzZhYjQ1MWUzN2Y0YTRkYmY4ODcwNzA4NTE2MjA4Yjk2KQogICAgICAgIDsKCiAgICAgICAgCiAgICAKICAgIAogICAgICAgICAgICBtYXJrZXJfNTE4OTQzODk1NGM4NDlmNGJiZDBlMTVjNTlhZDI5ZjEuYmluZFRvb2x0aXAoCiAgICAgICAgICAgICAgICBgPGRpdj4KICAgICAgICAgICAgICAgICAgICAgQXRoZW5zCiAgICAgICAgICAgICAgICAgPC9kaXY+YCwKICAgICAgICAgICAgICAgIHsic3RpY2t5IjogdHJ1ZX0KICAgICAgICAgICAgKTsKICAgICAgICAKICAgIAogICAgICAgICAgICB2YXIgbWFya2VyXzM3MjNlMWY2NjY3ZjQ5OGRhNTZmZTlkNjEzMzJiODJhID0gTC5tYXJrZXIoCiAgICAgICAgICAgICAgICBbMTIuNzc5NDQsIDQ1LjAzNjY3XSwKICAgICAgICAgICAgICAgIHt9CiAgICAgICAgICAgICkuYWRkVG8obWFwXzljYjAzYmU0ZDcxYjRlZjA4NDNjYjVjMjVhNDdmOWU1KTsKICAgICAgICAKICAgIAogICAgICAgIHZhciBwb3B1cF8wZmYyYmIwODkzZDI0YmI4YmVhNmMzNGM3NTNkYTMxOSA9IEwucG9wdXAoeyJtYXhXaWR0aCI6ICIxMDAlIn0pOwoKICAgICAgICAKICAgICAgICAgICAgdmFyIGh0bWxfZWIxNmI4Mjc4Y2M2NDg5YjgzYTM2YmI2YWRhMzZiYjkgPSAkKGA8ZGl2IGlkPSJodG1sX2ViMTZiODI3OGNjNjQ4OWI4M2EzNmJiNmFkYTM2YmI5IiBzdHlsZT0id2lkdGg6IDEwMC4wJTsgaGVpZ2h0OiAxMDAuMCU7Ij48c3Ryb25nPkFkZW48L3N0cm9uZz48cD5MYXRpdHVkZTogMTIuNzc5NDQ8L3A+PHA+TG9uZ2l0dWRlOiA0NS4wMzY2NzwvcD48L2Rpdj5gKVswXTsKICAgICAgICAgICAgcG9wdXBfMGZmMmJiMDg5M2QyNGJiOGJlYTZjMzRjNzUzZGEzMTkuc2V0Q29udGVudChodG1sX2ViMTZiODI3OGNjNjQ4OWI4M2EzNmJiNmFkYTM2YmI5KTsKICAgICAgICAKCiAgICAgICAgbWFya2VyXzM3MjNlMWY2NjY3ZjQ5OGRhNTZmZTlkNjEzMzJiODJhLmJpbmRQb3B1cChwb3B1cF8wZmYyYmIwODkzZDI0YmI4YmVhNmMzNGM3NTNkYTMxOSkKICAgICAgICA7CgogICAgICAgIAogICAgCiAgICAKICAgICAgICAgICAgbWFya2VyXzM3MjNlMWY2NjY3ZjQ5OGRhNTZmZTlkNjEzMzJiODJhLmJpbmRUb29sdGlwKAogICAgICAgICAgICAgICAgYDxkaXY+CiAgICAgICAgICAgICAgICAgICAgIEFkZW4KICAgICAgICAgICAgICAgICA8L2Rpdj5gLAogICAgICAgICAgICAgICAgeyJzdGlja3kiOiB0cnVlfQogICAgICAgICAgICApOwogICAgICAgIAogICAgCiAgICAgICAgICAgIHZhciBtYXJrZXJfM2ZiZGUxYjE5MDBjNDMxNjg1ZmZjNTMyZTBmNjkxYTQgPSBMLm1hcmtlcigKICAgICAgICAgICAgICAgIFsxOS4wNzI4MywgNzIuODgyNjFdLAogICAgICAgICAgICAgICAge30KICAgICAgICAgICAgKS5hZGRUbyhtYXBfOWNiMDNiZTRkNzFiNGVmMDg0M2NiNWMyNWE0N2Y5ZTUpOwogICAgICAgIAogICAgCiAgICAgICAgdmFyIHBvcHVwX2I5NzA5OTNlZDgzYTRlYmQ5ODZhNjIyMGEzOTBmZDI0ID0gTC5wb3B1cCh7Im1heFdpZHRoIjogIjEwMCUifSk7CgogICAgICAgIAogICAgICAgICAgICB2YXIgaHRtbF8xZGZkMjcxYmUyNDg0NTdlOGRjZmI0N2M0Y2VkZWNkZiA9ICQoYDxkaXYgaWQ9Imh0bWxfMWRmZDI3MWJlMjQ4NDU3ZThkY2ZiNDdjNGNlZGVjZGYiIHN0eWxlPSJ3aWR0aDogMTAwLjAlOyBoZWlnaHQ6IDEwMC4wJTsiPjxzdHJvbmc+TXVtYmFpPC9zdHJvbmc+PHA+TGF0aXR1ZGU6IDE5LjA3MjgzPC9wPjxwPkxvbmdpdHVkZTogNzIuODgyNjE8L3A+PC9kaXY+YClbMF07CiAgICAgICAgICAgIHBvcHVwX2I5NzA5OTNlZDgzYTRlYmQ5ODZhNjIyMGEzOTBmZDI0LnNldENvbnRlbnQoaHRtbF8xZGZkMjcxYmUyNDg0NTdlOGRjZmI0N2M0Y2VkZWNkZik7CiAgICAgICAgCgogICAgICAgIG1hcmtlcl8zZmJkZTFiMTkwMGM0MzE2ODVmZmM1MzJlMGY2OTFhNC5iaW5kUG9wdXAocG9wdXBfYjk3MDk5M2VkODNhNGViZDk4NmE2MjIwYTM5MGZkMjQpCiAgICAgICAgOwoKICAgICAgICAKICAgIAogICAgCiAgICAgICAgICAgIG1hcmtlcl8zZmJkZTFiMTkwMGM0MzE2ODVmZmM1MzJlMGY2OTFhNC5iaW5kVG9vbHRpcCgKICAgICAgICAgICAgICAgIGA8ZGl2PgogICAgICAgICAgICAgICAgICAgICBNdW1iYWkKICAgICAgICAgICAgICAgICA8L2Rpdj5gLAogICAgICAgICAgICAgICAgeyJzdGlja3kiOiB0cnVlfQogICAgICAgICAgICApOwogICAgICAgIAogICAgCiAgICAgICAgICAgIHZhciBtYXJrZXJfMTBiYjUzMTIzNDhiNGZjYzk3MjJiZjQwMzFjM2VlYmMgPSBMLm1hcmtlcigKICAgICAgICAgICAgICAgIFs5LjkzOTg4LCA3Ni4yNjAyMTk5OTk5OTk5OV0sCiAgICAgICAgICAgICAgICB7fQogICAgICAgICAgICApLmFkZFRvKG1hcF85Y2IwM2JlNGQ3MWI0ZWYwODQzY2I1YzI1YTQ3ZjllNSk7CiAgICAgICAgCiAgICAKICAgICAgICB2YXIgcG9wdXBfNzk3Nzc3MWZkMzM4NDJhZjkxZjdjOGJiZDBkZDJhZmIgPSBMLnBvcHVwKHsibWF4V2lkdGgiOiAiMTAwJSJ9KTsKCiAgICAgICAgCiAgICAgICAgICAgIHZhciBodG1sX2MxZjk3ZjFkNGM1NDRmMGZiMzcwYjExZGYzMDhjOGIzID0gJChgPGRpdiBpZD0iaHRtbF9jMWY5N2YxZDRjNTQ0ZjBmYjM3MGIxMWRmMzA4YzhiMyIgc3R5bGU9IndpZHRoOiAxMDAuMCU7IGhlaWdodDogMTAwLjAlOyI+PHN0cm9uZz5Db2NoaW48L3N0cm9uZz48cD5MYXRpdHVkZTogOS45Mzk4ODwvcD48cD5Mb25naXR1ZGU6IDc2LjI2MDIxOTk5OTk5OTk5PC9wPjwvZGl2PmApWzBdOwogICAgICAgICAgICBwb3B1cF83OTc3NzcxZmQzMzg0MmFmOTFmN2M4YmJkMGRkMmFmYi5zZXRDb250ZW50KGh0bWxfYzFmOTdmMWQ0YzU0NGYwZmIzNzBiMTFkZjMwOGM4YjMpOwogICAgICAgIAoKICAgICAgICBtYXJrZXJfMTBiYjUzMTIzNDhiNGZjYzk3MjJiZjQwMzFjM2VlYmMuYmluZFBvcHVwKHBvcHVwXzc5Nzc3NzFmZDMzODQyYWY5MWY3YzhiYmQwZGQyYWZiKQogICAgICAgIDsKCiAgICAgICAgCiAgICAKICAgIAogICAgICAgICAgICBtYXJrZXJfMTBiYjUzMTIzNDhiNGZjYzk3MjJiZjQwMzFjM2VlYmMuYmluZFRvb2x0aXAoCiAgICAgICAgICAgICAgICBgPGRpdj4KICAgICAgICAgICAgICAgICAgICAgQ29jaGluCiAgICAgICAgICAgICAgICAgPC9kaXY+YCwKICAgICAgICAgICAgICAgIHsic3RpY2t5IjogdHJ1ZX0KICAgICAgICAgICAgKTsKICAgICAgICAKICAgIAogICAgICAgICAgICB2YXIgbWFya2VyX2ZlOThlYzgzY2QyNjRkNjhhZGVlYTcwOGZkZWZkOTU2ID0gTC5tYXJrZXIoCiAgICAgICAgICAgICAgICBbMTMuMDg3ODQsIDgwLjI3ODQ3XSwKICAgICAgICAgICAgICAgIHt9CiAgICAgICAgICAgICkuYWRkVG8obWFwXzljYjAzYmU0ZDcxYjRlZjA4NDNjYjVjMjVhNDdmOWU1KTsKICAgICAgICAKICAgIAogICAgICAgIHZhciBwb3B1cF8wOTY2NWZkMWY0NDI0YjM2YThlZDhmYTI1ZWY3NjAxZCA9IEwucG9wdXAoeyJtYXhXaWR0aCI6ICIxMDAlIn0pOwoKICAgICAgICAKICAgICAgICAgICAgdmFyIGh0bWxfYzJkNmQyYjgxM2Q1NGU0NjljZTU4NjUyOThhZWIyOWIgPSAkKGA8ZGl2IGlkPSJodG1sX2MyZDZkMmI4MTNkNTRlNDY5Y2U1ODY1Mjk4YWViMjliIiBzdHlsZT0id2lkdGg6IDEwMC4wJTsgaGVpZ2h0OiAxMDAuMCU7Ij48c3Ryb25nPkNoZW5uYWk8L3N0cm9uZz48cD5MYXRpdHVkZTogMTMuMDg3ODQ8L3A+PHA+TG9uZ2l0dWRlOiA4MC4yNzg0NzwvcD48L2Rpdj5gKVswXTsKICAgICAgICAgICAgcG9wdXBfMDk2NjVmZDFmNDQyNGIzNmE4ZWQ4ZmEyNWVmNzYwMWQuc2V0Q29udGVudChodG1sX2MyZDZkMmI4MTNkNTRlNDY5Y2U1ODY1Mjk4YWViMjliKTsKICAgICAgICAKCiAgICAgICAgbWFya2VyX2ZlOThlYzgzY2QyNjRkNjhhZGVlYTcwOGZkZWZkOTU2LmJpbmRQb3B1cChwb3B1cF8wOTY2NWZkMWY0NDI0YjM2YThlZDhmYTI1ZWY3NjAxZCkKICAgICAgICA7CgogICAgICAgIAogICAgCiAgICAKICAgICAgICAgICAgbWFya2VyX2ZlOThlYzgzY2QyNjRkNjhhZGVlYTcwOGZkZWZkOTU2LmJpbmRUb29sdGlwKAogICAgICAgICAgICAgICAgYDxkaXY+CiAgICAgICAgICAgICAgICAgICAgIENoZW5uYWkKICAgICAgICAgICAgICAgICA8L2Rpdj5gLAogICAgICAgICAgICAgICAgeyJzdGlja3kiOiB0cnVlfQogICAgICAgICAgICApOwogICAgICAgIAogICAgCiAgICAgICAgICAgIHZhciBtYXJrZXJfOWI1MWY4MzQ2NTZiNDNiMGExMjMwMDU4Y2U0NTk3NTEgPSBMLm1hcmtlcigKICAgICAgICAgICAgICAgIFsyNS41OTQwNzk5OTk5OTk5OTgsIDg1LjEzNTYzXSwKICAgICAgICAgICAgICAgIHt9CiAgICAgICAgICAgICkuYWRkVG8obWFwXzljYjAzYmU0ZDcxYjRlZjA4NDNjYjVjMjVhNDdmOWU1KTsKICAgICAgICAKICAgIAogICAgICAgIHZhciBwb3B1cF82MzAxOTYxODhhYTM0Nzg0OTA1NDYwODIxMDAzM2M2YSA9IEwucG9wdXAoeyJtYXhXaWR0aCI6ICIxMDAlIn0pOwoKICAgICAgICAKICAgICAgICAgICAgdmFyIGh0bWxfZmE0NTMxYTZhNmJmNDYyNGI5ZmYxOGEwODk0MjZlODUgPSAkKGA8ZGl2IGlkPSJodG1sX2ZhNDUzMWE2YTZiZjQ2MjRiOWZmMThhMDg5NDI2ZTg1IiBzdHlsZT0id2lkdGg6IDEwMC4wJTsgaGVpZ2h0OiAxMDAuMCU7Ij48c3Ryb25nPlBhdG5hPC9zdHJvbmc+PHA+TGF0aXR1ZGU6IDI1LjU5NDA3OTk5OTk5OTk5ODwvcD48cD5Mb25naXR1ZGU6IDg1LjEzNTYzPC9wPjwvZGl2PmApWzBdOwogICAgICAgICAgICBwb3B1cF82MzAxOTYxODhhYTM0Nzg0OTA1NDYwODIxMDAzM2M2YS5zZXRDb250ZW50KGh0bWxfZmE0NTMxYTZhNmJmNDYyNGI5ZmYxOGEwODk0MjZlODUpOwogICAgICAgIAoKICAgICAgICBtYXJrZXJfOWI1MWY4MzQ2NTZiNDNiMGExMjMwMDU4Y2U0NTk3NTEuYmluZFBvcHVwKHBvcHVwXzYzMDE5NjE4OGFhMzQ3ODQ5MDU0NjA4MjEwMDMzYzZhKQogICAgICAgIDsKCiAgICAgICAgCiAgICAKICAgIAogICAgICAgICAgICBtYXJrZXJfOWI1MWY4MzQ2NTZiNDNiMGExMjMwMDU4Y2U0NTk3NTEuYmluZFRvb2x0aXAoCiAgICAgICAgICAgICAgICBgPGRpdj4KICAgICAgICAgICAgICAgICAgICAgUGF0bmEKICAgICAgICAgICAgICAgICA8L2Rpdj5gLAogICAgICAgICAgICAgICAgeyJzdGlja3kiOiB0cnVlfQogICAgICAgICAgICApOwogICAgICAgIAogICAgCiAgICAgICAgICAgIHZhciBtYXJrZXJfMmQ0MWFhNjk2M2NiNDk0N2E4NzMyODcxNGM5MDU4YjUgPSBMLm1hcmtlcigKICAgICAgICAgICAgICAgIFsyMi41NjI2MywgODguMzYzMDRdLAogICAgICAgICAgICAgICAge30KICAgICAgICAgICAgKS5hZGRUbyhtYXBfOWNiMDNiZTRkNzFiNGVmMDg0M2NiNWMyNWE0N2Y5ZTUpOwogICAgICAgIAogICAgCiAgICAgICAgdmFyIHBvcHVwX2ZmNGVlNDE0ZmJkOTRmYjZiYjI2MmJkMTZiNjRmMWFkID0gTC5wb3B1cCh7Im1heFdpZHRoIjogIjEwMCUifSk7CgogICAgICAgIAogICAgICAgICAgICB2YXIgaHRtbF8xNWQ1YjlmYmNiZWM0MTllYTIwYTFhNTVlODVmYTNkMSA9ICQoYDxkaXYgaWQ9Imh0bWxfMTVkNWI5ZmJjYmVjNDE5ZWEyMGExYTU1ZTg1ZmEzZDEiIHN0eWxlPSJ3aWR0aDogMTAwLjAlOyBoZWlnaHQ6IDEwMC4wJTsiPjxzdHJvbmc+S29sa2F0YTwvc3Ryb25nPjxwPkxhdGl0dWRlOiAyMi41NjI2MzwvcD48cD5Mb25naXR1ZGU6IDg4LjM2MzA0PC9wPjwvZGl2PmApWzBdOwogICAgICAgICAgICBwb3B1cF9mZjRlZTQxNGZiZDk0ZmI2YmIyNjJiZDE2YjY0ZjFhZC5zZXRDb250ZW50KGh0bWxfMTVkNWI5ZmJjYmVjNDE5ZWEyMGExYTU1ZTg1ZmEzZDEpOwogICAgICAgIAoKICAgICAgICBtYXJrZXJfMmQ0MWFhNjk2M2NiNDk0N2E4NzMyODcxNGM5MDU4YjUuYmluZFBvcHVwKHBvcHVwX2ZmNGVlNDE0ZmJkOTRmYjZiYjI2MmJkMTZiNjRmMWFkKQogICAgICAgIDsKCiAgICAgICAgCiAgICAKICAgIAogICAgICAgICAgICBtYXJrZXJfMmQ0MWFhNjk2M2NiNDk0N2E4NzMyODcxNGM5MDU4YjUuYmluZFRvb2x0aXAoCiAgICAgICAgICAgICAgICBgPGRpdj4KICAgICAgICAgICAgICAgICAgICAgS29sa2F0YQogICAgICAgICAgICAgICAgIDwvZGl2PmAsCiAgICAgICAgICAgICAgICB7InN0aWNreSI6IHRydWV9CiAgICAgICAgICAgICk7CiAgICAgICAgCiAgICAKICAgICAgICAgICAgdmFyIG1hcmtlcl9hMzQ5MWFmOTkwNjQ0YTY5YmY3MWE2OTBhMDVkNGNkYSA9IEwubWFya2VyKAogICAgICAgICAgICAgICAgWzE2LjgwNTI4LCA5Ni4xNTYxMV0sCiAgICAgICAgICAgICAgICB7fQogICAgICAgICAgICApLmFkZFRvKG1hcF85Y2IwM2JlNGQ3MWI0ZWYwODQzY2I1YzI1YTQ3ZjllNSk7CiAgICAgICAgCiAgICAKICAgICAgICB2YXIgcG9wdXBfZTllMDY3MjY5OTZiNDgwYTllOTEzOGIyZTY2MTYyNTggPSBMLnBvcHVwKHsibWF4V2lkdGgiOiAiMTAwJSJ9KTsKCiAgICAgICAgCiAgICAgICAgICAgIHZhciBodG1sXzJlYmM4MWIxZWYwMzQzNWM5NzM5ZDAwZTg5MjMyMzRhID0gJChgPGRpdiBpZD0iaHRtbF8yZWJjODFiMWVmMDM0MzVjOTczOWQwMGU4OTIzMjM0YSIgc3R5bGU9IndpZHRoOiAxMDAuMCU7IGhlaWdodDogMTAwLjAlOyI+PHN0cm9uZz5ZYW5nb248L3N0cm9uZz48cD5MYXRpdHVkZTogMTYuODA1Mjg8L3A+PHA+TG9uZ2l0dWRlOiA5Ni4xNTYxMTwvcD48L2Rpdj5gKVswXTsKICAgICAgICAgICAgcG9wdXBfZTllMDY3MjY5OTZiNDgwYTllOTEzOGIyZTY2MTYyNTguc2V0Q29udGVudChodG1sXzJlYmM4MWIxZWYwMzQzNWM5NzM5ZDAwZTg5MjMyMzRhKTsKICAgICAgICAKCiAgICAgICAgbWFya2VyX2EzNDkxYWY5OTA2NDRhNjliZjcxYTY5MGEwNWQ0Y2RhLmJpbmRQb3B1cChwb3B1cF9lOWUwNjcyNjk5NmI0ODBhOWU5MTM4YjJlNjYxNjI1OCkKICAgICAgICA7CgogICAgICAgIAogICAgCiAgICAKICAgICAgICAgICAgbWFya2VyX2EzNDkxYWY5OTA2NDRhNjliZjcxYTY5MGEwNWQ0Y2RhLmJpbmRUb29sdGlwKAogICAgICAgICAgICAgICAgYDxkaXY+CiAgICAgICAgICAgICAgICAgICAgIFlhbmdvbgogICAgICAgICAgICAgICAgIDwvZGl2PmAsCiAgICAgICAgICAgICAgICB7InN0aWNreSI6IHRydWV9CiAgICAgICAgICAgICk7CiAgICAgICAgCiAgICAKICAgICAgICAgICAgdmFyIG1hcmtlcl80OTEyMzQ4NzlkMTU0YzkwYWJlYTUyNzc0NzA2ZGRlNiA9IEwubWFya2VyKAogICAgICAgICAgICAgICAgWzEuMjg5NjcsIDEwMy44NTAwN10sCiAgICAgICAgICAgICAgICB7fQogICAgICAgICAgICApLmFkZFRvKG1hcF85Y2IwM2JlNGQ3MWI0ZWYwODQzY2I1YzI1YTQ3ZjllNSk7CiAgICAgICAgCiAgICAKICAgICAgICB2YXIgcG9wdXBfNDZlNGJiOGVmOWY0NDkwODlkYWEzMWQ0M2ZmMjM3YmYgPSBMLnBvcHVwKHsibWF4V2lkdGgiOiAiMTAwJSJ9KTsKCiAgICAgICAgCiAgICAgICAgICAgIHZhciBodG1sXzdiMzM2NjdjMDA0MjRmMjZhZWQxYTA2YzA5YzliOTViID0gJChgPGRpdiBpZD0iaHRtbF83YjMzNjY3YzAwNDI0ZjI2YWVkMWEwNmMwOWM5Yjk1YiIgc3R5bGU9IndpZHRoOiAxMDAuMCU7IGhlaWdodDogMTAwLjAlOyI+PHN0cm9uZz5TaW5nYXBvcmU8L3N0cm9uZz48cD5MYXRpdHVkZTogMS4yODk2NzwvcD48cD5Mb25naXR1ZGU6IDEwMy44NTAwNzwvcD48L2Rpdj5gKVswXTsKICAgICAgICAgICAgcG9wdXBfNDZlNGJiOGVmOWY0NDkwODlkYWEzMWQ0M2ZmMjM3YmYuc2V0Q29udGVudChodG1sXzdiMzM2NjdjMDA0MjRmMjZhZWQxYTA2YzA5YzliOTViKTsKICAgICAgICAKCiAgICAgICAgbWFya2VyXzQ5MTIzNDg3OWQxNTRjOTBhYmVhNTI3NzQ3MDZkZGU2LmJpbmRQb3B1cChwb3B1cF80NmU0YmI4ZWY5ZjQ0OTA4OWRhYTMxZDQzZmYyMzdiZikKICAgICAgICA7CgogICAgICAgIAogICAgCiAgICAKICAgICAgICAgICAgbWFya2VyXzQ5MTIzNDg3OWQxNTRjOTBhYmVhNTI3NzQ3MDZkZGU2LmJpbmRUb29sdGlwKAogICAgICAgICAgICAgICAgYDxkaXY+CiAgICAgICAgICAgICAgICAgICAgIFNpbmdhcG9yZQogICAgICAgICAgICAgICAgIDwvZGl2PmAsCiAgICAgICAgICAgICAgICB7InN0aWNreSI6IHRydWV9CiAgICAgICAgICAgICk7CiAgICAgICAgCiAgICAKICAgICAgICAgICAgdmFyIG1hcmtlcl82ODFmZWZhMzY2ZWI0ZmQwYWNlOGQzMjlhYzc1MzdhNyA9IEwubWFya2VyKAogICAgICAgICAgICAgICAgWzIyLjI3ODMyLCAxMTQuMTc0Njg5OTk5OTk5OThdLAogICAgICAgICAgICAgICAge30KICAgICAgICAgICAgKS5hZGRUbyhtYXBfOWNiMDNiZTRkNzFiNGVmMDg0M2NiNWMyNWE0N2Y5ZTUpOwogICAgICAgIAogICAgCiAgICAgICAgdmFyIHBvcHVwXzQ0NTRiZDQyNmNhYTQwYTFiMWJlMDBkMGFhNTdhN2JmID0gTC5wb3B1cCh7Im1heFdpZHRoIjogIjEwMCUifSk7CgogICAgICAgIAogICAgICAgICAgICB2YXIgaHRtbF9hY2EzMzdjNjU3ZDY0NTNmYjhkYmFlMjViZjMxMWM2YyA9ICQoYDxkaXYgaWQ9Imh0bWxfYWNhMzM3YzY1N2Q2NDUzZmI4ZGJhZTI1YmYzMTFjNmMiIHN0eWxlPSJ3aWR0aDogMTAwLjAlOyBoZWlnaHQ6IDEwMC4wJTsiPjxzdHJvbmc+SG9uZyBLb25nPC9zdHJvbmc+PHA+TGF0aXR1ZGU6IDIyLjI3ODMyPC9wPjxwPkxvbmdpdHVkZTogMTE0LjE3NDY4OTk5OTk5OTk4PC9wPjwvZGl2PmApWzBdOwogICAgICAgICAgICBwb3B1cF80NDU0YmQ0MjZjYWE0MGExYjFiZTAwZDBhYTU3YTdiZi5zZXRDb250ZW50KGh0bWxfYWNhMzM3YzY1N2Q2NDUzZmI4ZGJhZTI1YmYzMTFjNmMpOwogICAgICAgIAoKICAgICAgICBtYXJrZXJfNjgxZmVmYTM2NmViNGZkMGFjZThkMzI5YWM3NTM3YTcuYmluZFBvcHVwKHBvcHVwXzQ0NTRiZDQyNmNhYTQwYTFiMWJlMDBkMGFhNTdhN2JmKQogICAgICAgIDsKCiAgICAgICAgCiAgICAKICAgIAogICAgICAgICAgICBtYXJrZXJfNjgxZmVmYTM2NmViNGZkMGFjZThkMzI5YWM3NTM3YTcuYmluZFRvb2x0aXAoCiAgICAgICAgICAgICAgICBgPGRpdj4KICAgICAgICAgICAgICAgICAgICAgSG9uZyBLb25nCiAgICAgICAgICAgICAgICAgPC9kaXY+YCwKICAgICAgICAgICAgICAgIHsic3RpY2t5IjogdHJ1ZX0KICAgICAgICAgICAgKTsKICAgICAgICAKICAgIAogICAgICAgICAgICB2YXIgbWFya2VyX2Q1N2Q4YTdmZTU2YzQyOWJiNjdjOTU2ZjM3MTE2MThjID0gTC5tYXJrZXIoCiAgICAgICAgICAgICAgICBbMzEuMjIyMjIsIDEyMS40NTgwNl0sCiAgICAgICAgICAgICAgICB7fQogICAgICAgICAgICApLmFkZFRvKG1hcF85Y2IwM2JlNGQ3MWI0ZWYwODQzY2I1YzI1YTQ3ZjllNSk7CiAgICAgICAgCiAgICAKICAgICAgICB2YXIgcG9wdXBfNzllYTUxMDI1NjY3NGM4MDkyN2RiZjJlYjljZTk3ODQgPSBMLnBvcHVwKHsibWF4V2lkdGgiOiAiMTAwJSJ9KTsKCiAgICAgICAgCiAgICAgICAgICAgIHZhciBodG1sX2EzOWY1YjM3ZWRlYjQ1OGE4OWIxODM2ZjQ2Njk1MGE3ID0gJChgPGRpdiBpZD0iaHRtbF9hMzlmNWIzN2VkZWI0NThhODliMTgzNmY0NjY5NTBhNyIgc3R5bGU9IndpZHRoOiAxMDAuMCU7IGhlaWdodDogMTAwLjAlOyI+PHN0cm9uZz5TaGFuZ2hhaTwvc3Ryb25nPjxwPkxhdGl0dWRlOiAzMS4yMjIyMjwvcD48cD5Mb25naXR1ZGU6IDEyMS40NTgwNjwvcD48L2Rpdj5gKVswXTsKICAgICAgICAgICAgcG9wdXBfNzllYTUxMDI1NjY3NGM4MDkyN2RiZjJlYjljZTk3ODQuc2V0Q29udGVudChodG1sX2EzOWY1YjM3ZWRlYjQ1OGE4OWIxODM2ZjQ2Njk1MGE3KTsKICAgICAgICAKCiAgICAgICAgbWFya2VyX2Q1N2Q4YTdmZTU2YzQyOWJiNjdjOTU2ZjM3MTE2MThjLmJpbmRQb3B1cChwb3B1cF83OWVhNTEwMjU2Njc0YzgwOTI3ZGJmMmViOWNlOTc4NCkKICAgICAgICA7CgogICAgICAgIAogICAgCiAgICAKICAgICAgICAgICAgbWFya2VyX2Q1N2Q4YTdmZTU2YzQyOWJiNjdjOTU2ZjM3MTE2MThjLmJpbmRUb29sdGlwKAogICAgICAgICAgICAgICAgYDxkaXY+CiAgICAgICAgICAgICAgICAgICAgIFNoYW5naGFpCiAgICAgICAgICAgICAgICAgPC9kaXY+YCwKICAgICAgICAgICAgICAgIHsic3RpY2t5IjogdHJ1ZX0KICAgICAgICAgICAgKTsKICAgICAgICAKICAgIAogICAgICAgICAgICB2YXIgbWFya2VyX2RlMzU0NzkyNWI0OTRjOGU4NGE5M2Y0MDY1MWM4YWFhID0gTC5tYXJrZXIoCiAgICAgICAgICAgICAgICBbMzUuNDMzMzMsIDEzOS42NV0sCiAgICAgICAgICAgICAgICB7fQogICAgICAgICAgICApLmFkZFRvKG1hcF85Y2IwM2JlNGQ3MWI0ZWYwODQzY2I1YzI1YTQ3ZjllNSk7CiAgICAgICAgCiAgICAKICAgICAgICB2YXIgcG9wdXBfMjk0NjhlMmVhNmQ3NDZmNThmNjA2YjEzNWVkYmQzZjUgPSBMLnBvcHVwKHsibWF4V2lkdGgiOiAiMTAwJSJ9KTsKCiAgICAgICAgCiAgICAgICAgICAgIHZhciBodG1sX2ZjYmI4ZDhlYTljYjQwYmJiZGNkMmYwYWIwZDYxNjk2ID0gJChgPGRpdiBpZD0iaHRtbF9mY2JiOGQ4ZWE5Y2I0MGJiYmRjZDJmMGFiMGQ2MTY5NiIgc3R5bGU9IndpZHRoOiAxMDAuMCU7IGhlaWdodDogMTAwLjAlOyI+PHN0cm9uZz5Zb2tvaGFtYTwvc3Ryb25nPjxwPkxhdGl0dWRlOiAzNS40MzMzMzwvcD48cD5Mb25naXR1ZGU6IDEzOS42NTwvcD48L2Rpdj5gKVswXTsKICAgICAgICAgICAgcG9wdXBfMjk0NjhlMmVhNmQ3NDZmNThmNjA2YjEzNWVkYmQzZjUuc2V0Q29udGVudChodG1sX2ZjYmI4ZDhlYTljYjQwYmJiZGNkMmYwYWIwZDYxNjk2KTsKICAgICAgICAKCiAgICAgICAgbWFya2VyX2RlMzU0NzkyNWI0OTRjOGU4NGE5M2Y0MDY1MWM4YWFhLmJpbmRQb3B1cChwb3B1cF8yOTQ2OGUyZWE2ZDc0NmY1OGY2MDZiMTM1ZWRiZDNmNSkKICAgICAgICA7CgogICAgICAgIAogICAgCiAgICAKICAgICAgICAgICAgbWFya2VyX2RlMzU0NzkyNWI0OTRjOGU4NGE5M2Y0MDY1MWM4YWFhLmJpbmRUb29sdGlwKAogICAgICAgICAgICAgICAgYDxkaXY+CiAgICAgICAgICAgICAgICAgICAgIFlva29oYW1hCiAgICAgICAgICAgICAgICAgPC9kaXY+YCwKICAgICAgICAgICAgICAgIHsic3RpY2t5IjogdHJ1ZX0KICAgICAgICAgICAgKTsKICAgICAgICAKICAgIAogICAgICAgICAgICB2YXIgcG9seV9saW5lXzA2NzhlNzI5NmRmNTQxNzU5N2JmOTIxYzliYTRkNGNjID0gTC5wb2x5bGluZSgKICAgICAgICAgICAgICAgIFtbMzcuNzc0OTMsIC0xMjIuNDE5NDJdLCBbMzkuNzM5MTUsIC0xMDQuOTg0N10sIFs0MS44NTAwMywgLTg3LjY1MDA1XSwgWzM5Ljk2MTE4LCAtODIuOTk4NzldLCBbNDAuNjgxNDkwMDAwMDAwMDA0LCAtNzMuODM2NTJdLCBbNTMuMzMzMDU5OTk5OTk5OTk2LCAtNi4yNDg4OV0sIFs1NS44NjUxNSwgLTQuMjU3NjMwMDAwMDAwMDAxXSwgWzUzLjQxMDU4LCAtMi45Nzc5NDAwMDAwMDAwMDAzXSwgWzUyLjQ4MTQxOTk5OTk5OTk5LCAtMS44OTk4M10sIFs1MS41MDg1MywgLTAuMTI1NzQwMDAwMDAwMDAwMDJdLCBbNDguODUzNDEsIDIuMzQ4OF0sIFs1My41NTA3MywgOS45OTMwMl0sIFszNy45ODM3NiwgMjMuNzI3ODRdLCBbMTIuNzc5NDQsIDQ1LjAzNjY3XSwgWzE5LjA3MjgzLCA3Mi44ODI2MV0sIFs5LjkzOTg4LCA3Ni4yNjAyMTk5OTk5OTk5OV0sIFsxMy4wODc4NCwgODAuMjc4NDddLCBbMjUuNTk0MDc5OTk5OTk5OTk4LCA4NS4xMzU2M10sIFsyMi41NjI2MywgODguMzYzMDRdLCBbMTYuODA1MjgsIDk2LjE1NjExXSwgWzEuMjg5NjcsIDEwMy44NTAwN10sIFsyMi4yNzgzMiwgMTE0LjE3NDY4OTk5OTk5OTk4XSwgWzMxLjIyMjIyLCAxMjEuNDU4MDZdLCBbMzUuNDMzMzMsIDEzOS42NV1dLAogICAgICAgICAgICAgICAgeyJidWJibGluZ01vdXNlRXZlbnRzIjogdHJ1ZSwgImNvbG9yIjogIiMzMzg4ZmYiLCAiZGFzaEFycmF5IjogbnVsbCwgImRhc2hPZmZzZXQiOiBudWxsLCAiZmlsbCI6IGZhbHNlLCAiZmlsbENvbG9yIjogIiMzMzg4ZmYiLCAiZmlsbE9wYWNpdHkiOiAwLjIsICJmaWxsUnVsZSI6ICJldmVub2RkIiwgImxpbmVDYXAiOiAicm91bmQiLCAibGluZUpvaW4iOiAicm91bmQiLCAibm9DbGlwIjogZmFsc2UsICJvcGFjaXR5IjogMS4wLCAic21vb3RoRmFjdG9yIjogMS4wLCAic3Ryb2tlIjogdHJ1ZSwgIndlaWdodCI6IDN9CiAgICAgICAgICAgICkuYWRkVG8obWFwXzljYjAzYmU0ZDcxYjRlZjA4NDNjYjVjMjVhNDdmOWU1KTsKICAgICAgICAKPC9zY3JpcHQ+ onload=\"this.contentDocument.open();this.contentDocument.write(atob(this.getAttribute('data-html')));this.contentDocument.close();\" allowfullscreen webkitallowfullscreen mozallowfullscreen></iframe></div></div>"
      ],
      "text/plain": [
       "<folium.folium.Map at 0x7fc3b290d4d0>"
      ]
     },
     "execution_count": 25,
     "metadata": {},
     "output_type": "execute_result"
    }
   ],
   "source": [
    "map_"
   ]
  },
  {
   "cell_type": "markdown",
   "metadata": {},
   "source": [
    "As we can see the map looks meaningful. The journey reaches biggest cities around the world and stops at rather constant rate."
   ]
  }
 ],
 "metadata": {
  "kernelspec": {
   "display_name": "Python 3",
   "language": "python",
   "name": "python3"
  },
  "language_info": {
   "codemirror_mode": {
    "name": "ipython",
    "version": 3
   },
   "file_extension": ".py",
   "mimetype": "text/x-python",
   "name": "python",
   "nbconvert_exporter": "python",
   "pygments_lexer": "ipython3",
   "version": "3.7.6"
  }
 },
 "nbformat": 4,
 "nbformat_minor": 2
}
